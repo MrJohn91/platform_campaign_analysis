{
 "cells": [
  {
   "cell_type": "code",
   "execution_count": 1,
   "id": "9c53619f",
   "metadata": {},
   "outputs": [
    {
     "data": {
      "application/vnd.microsoft.datawrangler.viewer.v0+json": {
       "columns": [
        {
         "name": "index",
         "rawType": "int64",
         "type": "integer"
        },
        {
         "name": "campaign_id",
         "rawType": "int64",
         "type": "integer"
        },
        {
         "name": "Startdatum",
         "rawType": "object",
         "type": "string"
        },
        {
         "name": "Endedatum",
         "rawType": "object",
         "type": "string"
        },
        {
         "name": "advertiser_name",
         "rawType": "object",
         "type": "string"
        },
        {
         "name": "impressions",
         "rawType": "int64",
         "type": "integer"
        },
        {
         "name": "clicks",
         "rawType": "int64",
         "type": "integer"
        },
        {
         "name": "trueview_views",
         "rawType": "int64",
         "type": "integer"
        },
        {
         "name": "video_completions",
         "rawType": "int64",
         "type": "integer"
        },
        {
         "name": "date",
         "rawType": "object",
         "type": "string"
        },
        {
         "name": "advertiser_id",
         "rawType": "int64",
         "type": "integer"
        },
        {
         "name": "device_type",
         "rawType": "object",
         "type": "string"
        },
        {
         "name": "source",
         "rawType": "object",
         "type": "string"
        }
       ],
       "conversionMethod": "pd.DataFrame",
       "ref": "e33b376e-7a2f-4cbf-a72c-e14265263822",
       "rows": [
        [
         "0",
         "52045241",
         "2017-10-01",
         "2017-10-04",
         "HMFRA_HH",
         "10289",
         "24",
         "0",
         "9524",
         "2017-10-04",
         "843621277",
         "SmartTV",
         "Meta"
        ],
        [
         "1",
         "52045241",
         "2017-10-01",
         "2017-10-04",
         "HMFRA_HH",
         "1117",
         "1",
         "0",
         "1032",
         "2017-10-04",
         "843621277",
         "Tablet",
         "Meta"
        ],
        [
         "2",
         "52045241",
         "2017-10-01",
         "2017-10-04",
         "HMFRA_HH",
         "25286",
         "32",
         "0",
         "23012",
         "2017-10-04",
         "843621277",
         "Desktop",
         "Meta"
        ],
        [
         "3",
         "52045241",
         "2017-10-01",
         "2017-10-04",
         "HMFRA_HH",
         "40988",
         "80",
         "0",
         "37803",
         "2017-10-04",
         "843621277",
         "Tablet",
         "Meta"
        ],
        [
         "4",
         "52045241",
         "2017-10-01",
         "2017-10-04",
         "HMFRA_HH",
         "4447",
         "16",
         "0",
         "4108",
         "2017-10-04",
         "843621277",
         "SmartTV",
         "Meta"
        ]
       ],
       "shape": {
        "columns": 12,
        "rows": 5
       }
      },
      "text/html": [
       "<div>\n",
       "<style scoped>\n",
       "    .dataframe tbody tr th:only-of-type {\n",
       "        vertical-align: middle;\n",
       "    }\n",
       "\n",
       "    .dataframe tbody tr th {\n",
       "        vertical-align: top;\n",
       "    }\n",
       "\n",
       "    .dataframe thead th {\n",
       "        text-align: right;\n",
       "    }\n",
       "</style>\n",
       "<table border=\"1\" class=\"dataframe\">\n",
       "  <thead>\n",
       "    <tr style=\"text-align: right;\">\n",
       "      <th></th>\n",
       "      <th>campaign_id</th>\n",
       "      <th>Startdatum</th>\n",
       "      <th>Endedatum</th>\n",
       "      <th>advertiser_name</th>\n",
       "      <th>impressions</th>\n",
       "      <th>clicks</th>\n",
       "      <th>trueview_views</th>\n",
       "      <th>video_completions</th>\n",
       "      <th>date</th>\n",
       "      <th>advertiser_id</th>\n",
       "      <th>device_type</th>\n",
       "      <th>source</th>\n",
       "    </tr>\n",
       "  </thead>\n",
       "  <tbody>\n",
       "    <tr>\n",
       "      <th>0</th>\n",
       "      <td>52045241</td>\n",
       "      <td>2017-10-01</td>\n",
       "      <td>2017-10-04</td>\n",
       "      <td>HMFRA_HH</td>\n",
       "      <td>10289</td>\n",
       "      <td>24</td>\n",
       "      <td>0</td>\n",
       "      <td>9524</td>\n",
       "      <td>2017-10-04</td>\n",
       "      <td>843621277</td>\n",
       "      <td>SmartTV</td>\n",
       "      <td>Meta</td>\n",
       "    </tr>\n",
       "    <tr>\n",
       "      <th>1</th>\n",
       "      <td>52045241</td>\n",
       "      <td>2017-10-01</td>\n",
       "      <td>2017-10-04</td>\n",
       "      <td>HMFRA_HH</td>\n",
       "      <td>1117</td>\n",
       "      <td>1</td>\n",
       "      <td>0</td>\n",
       "      <td>1032</td>\n",
       "      <td>2017-10-04</td>\n",
       "      <td>843621277</td>\n",
       "      <td>Tablet</td>\n",
       "      <td>Meta</td>\n",
       "    </tr>\n",
       "    <tr>\n",
       "      <th>2</th>\n",
       "      <td>52045241</td>\n",
       "      <td>2017-10-01</td>\n",
       "      <td>2017-10-04</td>\n",
       "      <td>HMFRA_HH</td>\n",
       "      <td>25286</td>\n",
       "      <td>32</td>\n",
       "      <td>0</td>\n",
       "      <td>23012</td>\n",
       "      <td>2017-10-04</td>\n",
       "      <td>843621277</td>\n",
       "      <td>Desktop</td>\n",
       "      <td>Meta</td>\n",
       "    </tr>\n",
       "    <tr>\n",
       "      <th>3</th>\n",
       "      <td>52045241</td>\n",
       "      <td>2017-10-01</td>\n",
       "      <td>2017-10-04</td>\n",
       "      <td>HMFRA_HH</td>\n",
       "      <td>40988</td>\n",
       "      <td>80</td>\n",
       "      <td>0</td>\n",
       "      <td>37803</td>\n",
       "      <td>2017-10-04</td>\n",
       "      <td>843621277</td>\n",
       "      <td>Tablet</td>\n",
       "      <td>Meta</td>\n",
       "    </tr>\n",
       "    <tr>\n",
       "      <th>4</th>\n",
       "      <td>52045241</td>\n",
       "      <td>2017-10-01</td>\n",
       "      <td>2017-10-04</td>\n",
       "      <td>HMFRA_HH</td>\n",
       "      <td>4447</td>\n",
       "      <td>16</td>\n",
       "      <td>0</td>\n",
       "      <td>4108</td>\n",
       "      <td>2017-10-04</td>\n",
       "      <td>843621277</td>\n",
       "      <td>SmartTV</td>\n",
       "      <td>Meta</td>\n",
       "    </tr>\n",
       "  </tbody>\n",
       "</table>\n",
       "</div>"
      ],
      "text/plain": [
       "   campaign_id  Startdatum   Endedatum advertiser_name  impressions  clicks  \\\n",
       "0     52045241  2017-10-01  2017-10-04        HMFRA_HH        10289      24   \n",
       "1     52045241  2017-10-01  2017-10-04        HMFRA_HH         1117       1   \n",
       "2     52045241  2017-10-01  2017-10-04        HMFRA_HH        25286      32   \n",
       "3     52045241  2017-10-01  2017-10-04        HMFRA_HH        40988      80   \n",
       "4     52045241  2017-10-01  2017-10-04        HMFRA_HH         4447      16   \n",
       "\n",
       "   trueview_views  video_completions        date  advertiser_id device_type  \\\n",
       "0               0               9524  2017-10-04      843621277     SmartTV   \n",
       "1               0               1032  2017-10-04      843621277      Tablet   \n",
       "2               0              23012  2017-10-04      843621277     Desktop   \n",
       "3               0              37803  2017-10-04      843621277      Tablet   \n",
       "4               0               4108  2017-10-04      843621277     SmartTV   \n",
       "\n",
       "  source  \n",
       "0   Meta  \n",
       "1   Meta  \n",
       "2   Meta  \n",
       "3   Meta  \n",
       "4   Meta  "
      ]
     },
     "execution_count": 1,
     "metadata": {},
     "output_type": "execute_result"
    }
   ],
   "source": [
    "import pandas as pd\n",
    "\n",
    "# Loading the cleaned Meta dataset\n",
    "meta_df = pd.read_csv('cleaned_meta.csv')\n",
    "meta_df.head()\n"
   ]
  },
  {
   "cell_type": "code",
   "execution_count": 2,
   "id": "4d79ac11",
   "metadata": {},
   "outputs": [
    {
     "name": "stdout",
     "output_type": "stream",
     "text": [
      "<class 'pandas.core.frame.DataFrame'>\n",
      "RangeIndex: 1209582 entries, 0 to 1209581\n",
      "Data columns (total 12 columns):\n",
      " #   Column             Non-Null Count    Dtype \n",
      "---  ------             --------------    ----- \n",
      " 0   campaign_id        1209582 non-null  int64 \n",
      " 1   Startdatum         1209582 non-null  object\n",
      " 2   Endedatum          1209582 non-null  object\n",
      " 3   advertiser_name    1209582 non-null  object\n",
      " 4   impressions        1209582 non-null  int64 \n",
      " 5   clicks             1209582 non-null  int64 \n",
      " 6   trueview_views     1209582 non-null  int64 \n",
      " 7   video_completions  1209582 non-null  int64 \n",
      " 8   date               1209582 non-null  object\n",
      " 9   advertiser_id      1209582 non-null  int64 \n",
      " 10  device_type        1209582 non-null  object\n",
      " 11  source             1209582 non-null  object\n",
      "dtypes: int64(6), object(6)\n",
      "memory usage: 110.7+ MB\n"
     ]
    }
   ],
   "source": [
    "meta_df.info()"
   ]
  },
  {
   "cell_type": "code",
   "execution_count": 3,
   "id": "ca78f4a2",
   "metadata": {},
   "outputs": [],
   "source": [
    "# Convert date columns to datetime with format\n",
    "meta_df['Startdatum'] = pd.to_datetime(meta_df['Startdatum'], format='mixed')\n",
    "meta_df['Endedatum'] = pd.to_datetime(meta_df['Endedatum'], format='mixed')\n",
    "meta_df['date'] = pd.to_datetime(meta_df['date'], format='mixed')"
   ]
  },
  {
   "cell_type": "code",
   "execution_count": 4,
   "id": "e2a4417a",
   "metadata": {},
   "outputs": [
    {
     "name": "stdout",
     "output_type": "stream",
     "text": [
      "<class 'pandas.core.frame.DataFrame'>\n",
      "RangeIndex: 1209582 entries, 0 to 1209581\n",
      "Data columns (total 12 columns):\n",
      " #   Column             Non-Null Count    Dtype         \n",
      "---  ------             --------------    -----         \n",
      " 0   campaign_id        1209582 non-null  int64         \n",
      " 1   Startdatum         1209582 non-null  datetime64[ns]\n",
      " 2   Endedatum          1209582 non-null  datetime64[ns]\n",
      " 3   advertiser_name    1209582 non-null  object        \n",
      " 4   impressions        1209582 non-null  int64         \n",
      " 5   clicks             1209582 non-null  int64         \n",
      " 6   trueview_views     1209582 non-null  int64         \n",
      " 7   video_completions  1209582 non-null  int64         \n",
      " 8   date               1209582 non-null  datetime64[ns]\n",
      " 9   advertiser_id      1209582 non-null  int64         \n",
      " 10  device_type        1209582 non-null  object        \n",
      " 11  source             1209582 non-null  object        \n",
      "dtypes: datetime64[ns](3), int64(6), object(3)\n",
      "memory usage: 110.7+ MB\n"
     ]
    }
   ],
   "source": [
    "meta_df.info()"
   ]
  },
  {
   "cell_type": "code",
   "execution_count": null,
   "id": "0a62ec90",
   "metadata": {},
   "outputs": [
    {
     "name": "stdout",
     "output_type": "stream",
     "text": [
      "Columns in grouped Meta dataset: ['Campaign_id', 'device_type', 'start_date', 'end_date', 'Impression', 'advertiser_name']\n",
      "\n",
      "First few rows of grouped Meta dataset:\n",
      "   Campaign_id device_type start_date   end_date  Impression advertiser_name\n",
      "0       660202     Desktop 2017-03-03 2017-03-09   302755298        HMFRA_TE\n",
      "1       660202     SmartTV 2017-03-03 2017-03-09   206662461        HMFRA_TE\n",
      "2       660202  Smartphone 2017-03-03 2017-03-09   774261219        HMFRA_TE\n",
      "3       660202      Tablet 2017-03-03 2017-03-09   508493165        HMFRA_TE\n",
      "4       823719     Desktop 2017-02-06 2017-02-12    31900776        HMFRA_TE\n"
     ]
    }
   ],
   "source": [
    "# Grouping by campaign_id and device_type, including advertiser_name\n",
    "meta_campaigns = meta_df.groupby(['campaign_id', 'device_type']).agg({\n",
    "    'Startdatum': 'min',  \n",
    "    'Endedatum': 'max',   \n",
    "    'impressions': 'sum',  \n",
    "    'advertiser_name': 'first'  \n",
    "}).reset_index()\n",
    "\n",
    "# Renaming columns\n",
    "meta_campaigns = meta_campaigns.rename(columns={\n",
    "    'campaign_id': 'Campaign_id',\n",
    "    'Startdatum': 'start_date',\n",
    "    'Endedatum': 'end_date',\n",
    "    'impressions': 'Impression'\n",
    "})\n",
    "print(\"Columns in grouped Meta dataset:\", meta_campaigns.columns.tolist())\n",
    "print(\"\\nFirst few rows of grouped Meta dataset:\")\n",
    "print(meta_campaigns.head())"
   ]
  },
  {
   "cell_type": "code",
   "execution_count": null,
   "id": "60130015",
   "metadata": {},
   "outputs": [
    {
     "name": "stdout",
     "output_type": "stream",
     "text": [
      "Total number of weeks: 53\n",
      "\n",
      "First few weeks:\n",
      "  week start_display end_display\n",
      "0  CW0    2016-12-26  2017-01-01\n",
      "1  CW1    2017-01-02  2017-01-08\n",
      "2  CW2    2017-01-09  2017-01-15\n",
      "3  CW3    2017-01-16  2017-01-22\n",
      "4  CW4    2017-01-23  2017-01-29\n",
      "\n",
      "Last few weeks:\n",
      "    week start_display end_display\n",
      "48  CW48    2017-11-27  2017-12-03\n",
      "49  CW49    2017-12-04  2017-12-10\n",
      "50  CW50    2017-12-11  2017-12-17\n",
      "51  CW51    2017-12-18  2017-12-24\n",
      "52  CW52    2017-12-25  2017-12-31\n"
     ]
    }
   ],
   "source": [
    "from datetime import datetime, timedelta\n",
    "\n",
    "# Starting with CW0 (last week of 2016)\n",
    "cw0_start = datetime(2016, 12, 26) \n",
    "weeks = []\n",
    "\n",
    "# Define weeks CW0 to CW52\n",
    "for i in range(53):  \n",
    "    start_date = cw0_start + timedelta(days=i*7)\n",
    "    end_date = start_date + timedelta(days=6)\n",
    "    weeks.append({'week': f'CW{i}', 'start': start_date, 'end': end_date})\n",
    "\n",
    "# DataFrame for weeks\n",
    "weeks_df = pd.DataFrame(weeks)\n",
    "\n",
    "weeks_df['start_display'] = weeks_df['start'].apply(lambda x: x.strftime('%Y-%m-%d'))\n",
    "weeks_df['end_display'] = weeks_df['end'].apply(lambda x: x.strftime('%Y-%m-%d'))\n",
    "print(f\"Total number of weeks: {len(weeks_df)}\")\n",
    "print(\"\\nFirst few weeks:\")\n",
    "print(weeks_df[['week', 'start_display', 'end_display']].head())\n",
    "print(\"\\nLast few weeks:\")\n",
    "print(weeks_df[['week', 'start_display', 'end_display']].tail())"
   ]
  },
  {
   "cell_type": "code",
   "execution_count": 8,
   "id": "128dd6c7",
   "metadata": {},
   "outputs": [
    {
     "data": {
      "application/vnd.microsoft.datawrangler.viewer.v0+json": {
       "columns": [
        {
         "name": "index",
         "rawType": "int64",
         "type": "integer"
        },
        {
         "name": "week",
         "rawType": "object",
         "type": "string"
        },
        {
         "name": "start",
         "rawType": "datetime64[ns]",
         "type": "datetime"
        },
        {
         "name": "end",
         "rawType": "datetime64[ns]",
         "type": "datetime"
        },
        {
         "name": "start_display",
         "rawType": "object",
         "type": "string"
        },
        {
         "name": "end_display",
         "rawType": "object",
         "type": "string"
        }
       ],
       "conversionMethod": "pd.DataFrame",
       "ref": "b68619b1-8686-44c6-ab5f-6076a1c93f2f",
       "rows": [
        [
         "0",
         "CW0",
         "2016-12-26 00:00:00",
         "2017-01-01 00:00:00",
         "2016-12-26",
         "2017-01-01"
        ],
        [
         "1",
         "CW1",
         "2017-01-02 00:00:00",
         "2017-01-08 00:00:00",
         "2017-01-02",
         "2017-01-08"
        ],
        [
         "2",
         "CW2",
         "2017-01-09 00:00:00",
         "2017-01-15 00:00:00",
         "2017-01-09",
         "2017-01-15"
        ],
        [
         "3",
         "CW3",
         "2017-01-16 00:00:00",
         "2017-01-22 00:00:00",
         "2017-01-16",
         "2017-01-22"
        ],
        [
         "4",
         "CW4",
         "2017-01-23 00:00:00",
         "2017-01-29 00:00:00",
         "2017-01-23",
         "2017-01-29"
        ]
       ],
       "shape": {
        "columns": 5,
        "rows": 5
       }
      },
      "text/html": [
       "<div>\n",
       "<style scoped>\n",
       "    .dataframe tbody tr th:only-of-type {\n",
       "        vertical-align: middle;\n",
       "    }\n",
       "\n",
       "    .dataframe tbody tr th {\n",
       "        vertical-align: top;\n",
       "    }\n",
       "\n",
       "    .dataframe thead th {\n",
       "        text-align: right;\n",
       "    }\n",
       "</style>\n",
       "<table border=\"1\" class=\"dataframe\">\n",
       "  <thead>\n",
       "    <tr style=\"text-align: right;\">\n",
       "      <th></th>\n",
       "      <th>week</th>\n",
       "      <th>start</th>\n",
       "      <th>end</th>\n",
       "      <th>start_display</th>\n",
       "      <th>end_display</th>\n",
       "    </tr>\n",
       "  </thead>\n",
       "  <tbody>\n",
       "    <tr>\n",
       "      <th>0</th>\n",
       "      <td>CW0</td>\n",
       "      <td>2016-12-26</td>\n",
       "      <td>2017-01-01</td>\n",
       "      <td>2016-12-26</td>\n",
       "      <td>2017-01-01</td>\n",
       "    </tr>\n",
       "    <tr>\n",
       "      <th>1</th>\n",
       "      <td>CW1</td>\n",
       "      <td>2017-01-02</td>\n",
       "      <td>2017-01-08</td>\n",
       "      <td>2017-01-02</td>\n",
       "      <td>2017-01-08</td>\n",
       "    </tr>\n",
       "    <tr>\n",
       "      <th>2</th>\n",
       "      <td>CW2</td>\n",
       "      <td>2017-01-09</td>\n",
       "      <td>2017-01-15</td>\n",
       "      <td>2017-01-09</td>\n",
       "      <td>2017-01-15</td>\n",
       "    </tr>\n",
       "    <tr>\n",
       "      <th>3</th>\n",
       "      <td>CW3</td>\n",
       "      <td>2017-01-16</td>\n",
       "      <td>2017-01-22</td>\n",
       "      <td>2017-01-16</td>\n",
       "      <td>2017-01-22</td>\n",
       "    </tr>\n",
       "    <tr>\n",
       "      <th>4</th>\n",
       "      <td>CW4</td>\n",
       "      <td>2017-01-23</td>\n",
       "      <td>2017-01-29</td>\n",
       "      <td>2017-01-23</td>\n",
       "      <td>2017-01-29</td>\n",
       "    </tr>\n",
       "  </tbody>\n",
       "</table>\n",
       "</div>"
      ],
      "text/plain": [
       "  week      start        end start_display end_display\n",
       "0  CW0 2016-12-26 2017-01-01    2016-12-26  2017-01-01\n",
       "1  CW1 2017-01-02 2017-01-08    2017-01-02  2017-01-08\n",
       "2  CW2 2017-01-09 2017-01-15    2017-01-09  2017-01-15\n",
       "3  CW3 2017-01-16 2017-01-22    2017-01-16  2017-01-22\n",
       "4  CW4 2017-01-23 2017-01-29    2017-01-23  2017-01-29"
      ]
     },
     "execution_count": 8,
     "metadata": {},
     "output_type": "execute_result"
    }
   ],
   "source": [
    "weeks_df.head()"
   ]
  },
  {
   "cell_type": "markdown",
   "id": "96729d58",
   "metadata": {},
   "source": [
    "### Splitting Impressions Accross weeks"
   ]
  },
  {
   "cell_type": "code",
   "execution_count": 9,
   "id": "3bdb6831",
   "metadata": {},
   "outputs": [],
   "source": [
    "def split_impressions(row, weeks_df):\n",
    "    start, end = row['start_date'], row['end_date']\n",
    "    total_impressions = row['Impression']\n",
    "    \n",
    "    # Calculate daily impressions\n",
    "    daily_impressions = total_impressions / max(1, (end - start).days + 1)\n",
    "    \n",
    "    # Calculate fractional impressions for each week\n",
    "    impressions = []\n",
    "    weeks_count = 0\n",
    "    \n",
    "    for _, week in weeks_df.iterrows():\n",
    "        # Calculate overlap days using datetime columns (start, end)\n",
    "        overlap_days = max(0, (min(end, week['end']) - \n",
    "                             max(start, week['start'])).days + 1)\n",
    "        \n",
    "        # Add proportional impressions and count active weeks\n",
    "        impressions.append(daily_impressions * overlap_days)\n",
    "        if overlap_days > 0:\n",
    "            weeks_count += 1\n",
    "    \n",
    "    # Distribute remaining impressions using largest remainder method\n",
    "    int_impressions = [int(imp) for imp in impressions]\n",
    "    remainder_tuples = sorted([(imp - int(imp), i) for i, imp in enumerate(impressions)], reverse=True)\n",
    "    \n",
    "    # Distribute the difference to weeks \n",
    "    difference = int(total_impressions - sum(int_impressions))\n",
    "    for i in range(difference):\n",
    "        if i < len(remainder_tuples):\n",
    "            int_impressions[remainder_tuples[i][1]] += 1\n",
    "    \n",
    "    return int_impressions + [weeks_count]"
   ]
  },
  {
   "cell_type": "markdown",
   "id": "ae93fad6",
   "metadata": {},
   "source": [
    "### Applying the Function to Create the Final DataFrame"
   ]
  },
  {
   "cell_type": "code",
   "execution_count": 10,
   "id": "b88c9c78",
   "metadata": {},
   "outputs": [
    {
     "name": "stdout",
     "output_type": "stream",
     "text": [
      "Columns in meta_weekly_impressions: ['Campaign_id', 'device_type', 'start_date', 'end_date', 'Impression', 'advertiser_name', 'CW0', 'CW1', 'CW2', 'CW3', 'CW4', 'CW5', 'CW6', 'CW7', 'CW8', 'CW9', 'CW10', 'CW11', 'CW12', 'CW13', 'CW14', 'CW15', 'CW16', 'CW17', 'CW18', 'CW19', 'CW20', 'CW21', 'CW22', 'CW23', 'CW24', 'CW25', 'CW26', 'CW27', 'CW28', 'CW29', 'CW30', 'CW31', 'CW32', 'CW33', 'CW34', 'CW35', 'CW36', 'CW37', 'CW38', 'CW39', 'CW40', 'CW41', 'CW42', 'CW43', 'CW44', 'CW45', 'CW46', 'CW47', 'CW48', 'CW49', 'CW50', 'CW51', 'CW52', 'total_weeks']\n",
      "\n",
      "First few rows of meta_weekly_impressions:\n",
      "   Campaign_id device_type start_date   end_date  Impression advertiser_name  \\\n",
      "0       660202     Desktop 2017-03-03 2017-03-09   302755298        HMFRA_TE   \n",
      "1       660202     SmartTV 2017-03-03 2017-03-09   206662461        HMFRA_TE   \n",
      "2       660202  Smartphone 2017-03-03 2017-03-09   774261219        HMFRA_TE   \n",
      "3       660202      Tablet 2017-03-03 2017-03-09   508493165        HMFRA_TE   \n",
      "4       823719     Desktop 2017-02-06 2017-02-12    31900776        HMFRA_TE   \n",
      "\n",
      "   CW0  CW1  CW2  CW3  ...  CW44  CW45  CW46  CW47  CW48  CW49  CW50  CW51  \\\n",
      "0    0    0    0    0  ...     0     0     0     0     0     0     0     0   \n",
      "1    0    0    0    0  ...     0     0     0     0     0     0     0     0   \n",
      "2    0    0    0    0  ...     0     0     0     0     0     0     0     0   \n",
      "3    0    0    0    0  ...     0     0     0     0     0     0     0     0   \n",
      "4    0    0    0    0  ...     0     0     0     0     0     0     0     0   \n",
      "\n",
      "   CW52  total_weeks  \n",
      "0     0            2  \n",
      "1     0            2  \n",
      "2     0            2  \n",
      "3     0            2  \n",
      "4     0            1  \n",
      "\n",
      "[5 rows x 60 columns]\n"
     ]
    }
   ],
   "source": [
    "# Column names for calendar weeks\n",
    "week_columns = [f'CW{i}' for i in range(53)] + ['total_weeks']\n",
    "\n",
    "# Calculating weekly impressions for each campaign\n",
    "weekly_data = meta_campaigns.apply(\n",
    "    lambda row: split_impressions(row, weeks_df), axis=1\n",
    ")\n",
    "\n",
    "# DataFrame with weekly impressions\n",
    "weekly_df = pd.DataFrame(weekly_data.tolist(), columns=week_columns)\n",
    "meta_weekly_impressions = pd.concat([meta_campaigns, weekly_df], axis=1)\n",
    "\n",
    "print(\"Columns in meta_weekly_impressions:\", meta_weekly_impressions.columns.tolist())\n",
    "print(\"\\nFirst few rows of meta_weekly_impressions:\")\n",
    "print(meta_weekly_impressions.head())"
   ]
  },
  {
   "cell_type": "code",
   "execution_count": 11,
   "id": "9a9eba86",
   "metadata": {},
   "outputs": [
    {
     "data": {
      "application/vnd.microsoft.datawrangler.viewer.v0+json": {
       "columns": [
        {
         "name": "index",
         "rawType": "int64",
         "type": "integer"
        },
        {
         "name": "Campaign_id",
         "rawType": "int64",
         "type": "integer"
        },
        {
         "name": "device_type",
         "rawType": "object",
         "type": "string"
        },
        {
         "name": "start_date",
         "rawType": "datetime64[ns]",
         "type": "datetime"
        },
        {
         "name": "end_date",
         "rawType": "datetime64[ns]",
         "type": "datetime"
        },
        {
         "name": "Impression",
         "rawType": "int64",
         "type": "integer"
        },
        {
         "name": "advertiser_name",
         "rawType": "object",
         "type": "string"
        },
        {
         "name": "CW0",
         "rawType": "int64",
         "type": "integer"
        },
        {
         "name": "CW1",
         "rawType": "int64",
         "type": "integer"
        },
        {
         "name": "CW2",
         "rawType": "int64",
         "type": "integer"
        },
        {
         "name": "CW3",
         "rawType": "int64",
         "type": "integer"
        },
        {
         "name": "CW4",
         "rawType": "int64",
         "type": "integer"
        },
        {
         "name": "CW5",
         "rawType": "int64",
         "type": "integer"
        },
        {
         "name": "CW6",
         "rawType": "int64",
         "type": "integer"
        },
        {
         "name": "CW7",
         "rawType": "int64",
         "type": "integer"
        },
        {
         "name": "CW8",
         "rawType": "int64",
         "type": "integer"
        },
        {
         "name": "CW9",
         "rawType": "int64",
         "type": "integer"
        },
        {
         "name": "CW10",
         "rawType": "int64",
         "type": "integer"
        },
        {
         "name": "CW11",
         "rawType": "int64",
         "type": "integer"
        },
        {
         "name": "CW12",
         "rawType": "int64",
         "type": "integer"
        },
        {
         "name": "CW13",
         "rawType": "int64",
         "type": "integer"
        },
        {
         "name": "CW14",
         "rawType": "int64",
         "type": "integer"
        },
        {
         "name": "CW15",
         "rawType": "int64",
         "type": "integer"
        },
        {
         "name": "CW16",
         "rawType": "int64",
         "type": "integer"
        },
        {
         "name": "CW17",
         "rawType": "int64",
         "type": "integer"
        },
        {
         "name": "CW18",
         "rawType": "int64",
         "type": "integer"
        },
        {
         "name": "CW19",
         "rawType": "int64",
         "type": "integer"
        },
        {
         "name": "CW20",
         "rawType": "int64",
         "type": "integer"
        },
        {
         "name": "CW21",
         "rawType": "int64",
         "type": "integer"
        },
        {
         "name": "CW22",
         "rawType": "int64",
         "type": "integer"
        },
        {
         "name": "CW23",
         "rawType": "int64",
         "type": "integer"
        },
        {
         "name": "CW24",
         "rawType": "int64",
         "type": "integer"
        },
        {
         "name": "CW25",
         "rawType": "int64",
         "type": "integer"
        },
        {
         "name": "CW26",
         "rawType": "int64",
         "type": "integer"
        },
        {
         "name": "CW27",
         "rawType": "int64",
         "type": "integer"
        },
        {
         "name": "CW28",
         "rawType": "int64",
         "type": "integer"
        },
        {
         "name": "CW29",
         "rawType": "int64",
         "type": "integer"
        },
        {
         "name": "CW30",
         "rawType": "int64",
         "type": "integer"
        },
        {
         "name": "CW31",
         "rawType": "int64",
         "type": "integer"
        },
        {
         "name": "CW32",
         "rawType": "int64",
         "type": "integer"
        },
        {
         "name": "CW33",
         "rawType": "int64",
         "type": "integer"
        },
        {
         "name": "CW34",
         "rawType": "int64",
         "type": "integer"
        },
        {
         "name": "CW35",
         "rawType": "int64",
         "type": "integer"
        },
        {
         "name": "CW36",
         "rawType": "int64",
         "type": "integer"
        },
        {
         "name": "CW37",
         "rawType": "int64",
         "type": "integer"
        },
        {
         "name": "CW38",
         "rawType": "int64",
         "type": "integer"
        },
        {
         "name": "CW39",
         "rawType": "int64",
         "type": "integer"
        },
        {
         "name": "CW40",
         "rawType": "int64",
         "type": "integer"
        },
        {
         "name": "CW41",
         "rawType": "int64",
         "type": "integer"
        },
        {
         "name": "CW42",
         "rawType": "int64",
         "type": "integer"
        },
        {
         "name": "CW43",
         "rawType": "int64",
         "type": "integer"
        },
        {
         "name": "CW44",
         "rawType": "int64",
         "type": "integer"
        },
        {
         "name": "CW45",
         "rawType": "int64",
         "type": "integer"
        },
        {
         "name": "CW46",
         "rawType": "int64",
         "type": "integer"
        },
        {
         "name": "CW47",
         "rawType": "int64",
         "type": "integer"
        },
        {
         "name": "CW48",
         "rawType": "int64",
         "type": "integer"
        },
        {
         "name": "CW49",
         "rawType": "int64",
         "type": "integer"
        },
        {
         "name": "CW50",
         "rawType": "int64",
         "type": "integer"
        },
        {
         "name": "CW51",
         "rawType": "int64",
         "type": "integer"
        },
        {
         "name": "CW52",
         "rawType": "int64",
         "type": "integer"
        },
        {
         "name": "total_weeks",
         "rawType": "int64",
         "type": "integer"
        }
       ],
       "conversionMethod": "pd.DataFrame",
       "ref": "8fbed13f-020e-4b17-b767-ca3073d6a05d",
       "rows": [
        [
         "0",
         "660202",
         "Desktop",
         "2017-03-03 00:00:00",
         "2017-03-09 00:00:00",
         "302755298",
         "HMFRA_TE",
         "0",
         "0",
         "0",
         "0",
         "0",
         "0",
         "0",
         "0",
         "0",
         "129752271",
         "173003027",
         "0",
         "0",
         "0",
         "0",
         "0",
         "0",
         "0",
         "0",
         "0",
         "0",
         "0",
         "0",
         "0",
         "0",
         "0",
         "0",
         "0",
         "0",
         "0",
         "0",
         "0",
         "0",
         "0",
         "0",
         "0",
         "0",
         "0",
         "0",
         "0",
         "0",
         "0",
         "0",
         "0",
         "0",
         "0",
         "0",
         "0",
         "0",
         "0",
         "0",
         "0",
         "0",
         "2"
        ],
        [
         "1",
         "660202",
         "SmartTV",
         "2017-03-03 00:00:00",
         "2017-03-09 00:00:00",
         "206662461",
         "HMFRA_TE",
         "0",
         "0",
         "0",
         "0",
         "0",
         "0",
         "0",
         "0",
         "0",
         "88569626",
         "118092835",
         "0",
         "0",
         "0",
         "0",
         "0",
         "0",
         "0",
         "0",
         "0",
         "0",
         "0",
         "0",
         "0",
         "0",
         "0",
         "0",
         "0",
         "0",
         "0",
         "0",
         "0",
         "0",
         "0",
         "0",
         "0",
         "0",
         "0",
         "0",
         "0",
         "0",
         "0",
         "0",
         "0",
         "0",
         "0",
         "0",
         "0",
         "0",
         "0",
         "0",
         "0",
         "0",
         "2"
        ],
        [
         "2",
         "660202",
         "Smartphone",
         "2017-03-03 00:00:00",
         "2017-03-09 00:00:00",
         "774261219",
         "HMFRA_TE",
         "0",
         "0",
         "0",
         "0",
         "0",
         "0",
         "0",
         "0",
         "0",
         "331826237",
         "442434982",
         "0",
         "0",
         "0",
         "0",
         "0",
         "0",
         "0",
         "0",
         "0",
         "0",
         "0",
         "0",
         "0",
         "0",
         "0",
         "0",
         "0",
         "0",
         "0",
         "0",
         "0",
         "0",
         "0",
         "0",
         "0",
         "0",
         "0",
         "0",
         "0",
         "0",
         "0",
         "0",
         "0",
         "0",
         "0",
         "0",
         "0",
         "0",
         "0",
         "0",
         "0",
         "0",
         "2"
        ],
        [
         "3",
         "660202",
         "Tablet",
         "2017-03-03 00:00:00",
         "2017-03-09 00:00:00",
         "508493165",
         "HMFRA_TE",
         "0",
         "0",
         "0",
         "0",
         "0",
         "0",
         "0",
         "0",
         "0",
         "217925642",
         "290567523",
         "0",
         "0",
         "0",
         "0",
         "0",
         "0",
         "0",
         "0",
         "0",
         "0",
         "0",
         "0",
         "0",
         "0",
         "0",
         "0",
         "0",
         "0",
         "0",
         "0",
         "0",
         "0",
         "0",
         "0",
         "0",
         "0",
         "0",
         "0",
         "0",
         "0",
         "0",
         "0",
         "0",
         "0",
         "0",
         "0",
         "0",
         "0",
         "0",
         "0",
         "0",
         "0",
         "2"
        ],
        [
         "4",
         "823719",
         "Desktop",
         "2017-02-06 00:00:00",
         "2017-02-12 00:00:00",
         "31900776",
         "HMFRA_TE",
         "0",
         "0",
         "0",
         "0",
         "0",
         "0",
         "31900776",
         "0",
         "0",
         "0",
         "0",
         "0",
         "0",
         "0",
         "0",
         "0",
         "0",
         "0",
         "0",
         "0",
         "0",
         "0",
         "0",
         "0",
         "0",
         "0",
         "0",
         "0",
         "0",
         "0",
         "0",
         "0",
         "0",
         "0",
         "0",
         "0",
         "0",
         "0",
         "0",
         "0",
         "0",
         "0",
         "0",
         "0",
         "0",
         "0",
         "0",
         "0",
         "0",
         "0",
         "0",
         "0",
         "0",
         "1"
        ],
        [
         "5",
         "823719",
         "SmartTV",
         "2017-02-06 00:00:00",
         "2017-02-12 00:00:00",
         "22736026",
         "HMFRA_TE",
         "0",
         "0",
         "0",
         "0",
         "0",
         "0",
         "22736026",
         "0",
         "0",
         "0",
         "0",
         "0",
         "0",
         "0",
         "0",
         "0",
         "0",
         "0",
         "0",
         "0",
         "0",
         "0",
         "0",
         "0",
         "0",
         "0",
         "0",
         "0",
         "0",
         "0",
         "0",
         "0",
         "0",
         "0",
         "0",
         "0",
         "0",
         "0",
         "0",
         "0",
         "0",
         "0",
         "0",
         "0",
         "0",
         "0",
         "0",
         "0",
         "0",
         "0",
         "0",
         "0",
         "0",
         "1"
        ],
        [
         "6",
         "823719",
         "Smartphone",
         "2017-02-06 00:00:00",
         "2017-02-12 00:00:00",
         "78039434",
         "HMFRA_TE",
         "0",
         "0",
         "0",
         "0",
         "0",
         "0",
         "78039434",
         "0",
         "0",
         "0",
         "0",
         "0",
         "0",
         "0",
         "0",
         "0",
         "0",
         "0",
         "0",
         "0",
         "0",
         "0",
         "0",
         "0",
         "0",
         "0",
         "0",
         "0",
         "0",
         "0",
         "0",
         "0",
         "0",
         "0",
         "0",
         "0",
         "0",
         "0",
         "0",
         "0",
         "0",
         "0",
         "0",
         "0",
         "0",
         "0",
         "0",
         "0",
         "0",
         "0",
         "0",
         "0",
         "0",
         "1"
        ],
        [
         "7",
         "823719",
         "Tablet",
         "2017-02-06 00:00:00",
         "2017-02-12 00:00:00",
         "53827883",
         "HMFRA_TE",
         "0",
         "0",
         "0",
         "0",
         "0",
         "0",
         "53827883",
         "0",
         "0",
         "0",
         "0",
         "0",
         "0",
         "0",
         "0",
         "0",
         "0",
         "0",
         "0",
         "0",
         "0",
         "0",
         "0",
         "0",
         "0",
         "0",
         "0",
         "0",
         "0",
         "0",
         "0",
         "0",
         "0",
         "0",
         "0",
         "0",
         "0",
         "0",
         "0",
         "0",
         "0",
         "0",
         "0",
         "0",
         "0",
         "0",
         "0",
         "0",
         "0",
         "0",
         "0",
         "0",
         "0",
         "1"
        ],
        [
         "8",
         "986754",
         "Desktop",
         "2017-02-25 00:00:00",
         "2017-03-02 00:00:00",
         "367148569",
         "HMFRA_TE",
         "0",
         "0",
         "0",
         "0",
         "0",
         "0",
         "0",
         "0",
         "122382856",
         "244765713",
         "0",
         "0",
         "0",
         "0",
         "0",
         "0",
         "0",
         "0",
         "0",
         "0",
         "0",
         "0",
         "0",
         "0",
         "0",
         "0",
         "0",
         "0",
         "0",
         "0",
         "0",
         "0",
         "0",
         "0",
         "0",
         "0",
         "0",
         "0",
         "0",
         "0",
         "0",
         "0",
         "0",
         "0",
         "0",
         "0",
         "0",
         "0",
         "0",
         "0",
         "0",
         "0",
         "0",
         "2"
        ],
        [
         "9",
         "986754",
         "SmartTV",
         "2017-02-25 00:00:00",
         "2017-03-02 00:00:00",
         "243816903",
         "HMFRA_TE",
         "0",
         "0",
         "0",
         "0",
         "0",
         "0",
         "0",
         "0",
         "81272301",
         "162544602",
         "0",
         "0",
         "0",
         "0",
         "0",
         "0",
         "0",
         "0",
         "0",
         "0",
         "0",
         "0",
         "0",
         "0",
         "0",
         "0",
         "0",
         "0",
         "0",
         "0",
         "0",
         "0",
         "0",
         "0",
         "0",
         "0",
         "0",
         "0",
         "0",
         "0",
         "0",
         "0",
         "0",
         "0",
         "0",
         "0",
         "0",
         "0",
         "0",
         "0",
         "0",
         "0",
         "0",
         "2"
        ],
        [
         "10",
         "986754",
         "Smartphone",
         "2017-02-25 00:00:00",
         "2017-03-02 00:00:00",
         "784086371",
         "HMFRA_TE",
         "0",
         "0",
         "0",
         "0",
         "0",
         "0",
         "0",
         "0",
         "261362124",
         "522724247",
         "0",
         "0",
         "0",
         "0",
         "0",
         "0",
         "0",
         "0",
         "0",
         "0",
         "0",
         "0",
         "0",
         "0",
         "0",
         "0",
         "0",
         "0",
         "0",
         "0",
         "0",
         "0",
         "0",
         "0",
         "0",
         "0",
         "0",
         "0",
         "0",
         "0",
         "0",
         "0",
         "0",
         "0",
         "0",
         "0",
         "0",
         "0",
         "0",
         "0",
         "0",
         "0",
         "0",
         "2"
        ],
        [
         "11",
         "986754",
         "Tablet",
         "2017-02-25 00:00:00",
         "2017-03-02 00:00:00",
         "592851225",
         "HMFRA_TE",
         "0",
         "0",
         "0",
         "0",
         "0",
         "0",
         "0",
         "0",
         "197617075",
         "395234150",
         "0",
         "0",
         "0",
         "0",
         "0",
         "0",
         "0",
         "0",
         "0",
         "0",
         "0",
         "0",
         "0",
         "0",
         "0",
         "0",
         "0",
         "0",
         "0",
         "0",
         "0",
         "0",
         "0",
         "0",
         "0",
         "0",
         "0",
         "0",
         "0",
         "0",
         "0",
         "0",
         "0",
         "0",
         "0",
         "0",
         "0",
         "0",
         "0",
         "0",
         "0",
         "0",
         "0",
         "2"
        ],
        [
         "12",
         "2144261",
         "Desktop",
         "2017-03-21 00:00:00",
         "2017-03-21 00:00:00",
         "17988294",
         "HMFRA_TE",
         "0",
         "0",
         "0",
         "0",
         "0",
         "0",
         "0",
         "0",
         "0",
         "0",
         "0",
         "0",
         "17988294",
         "0",
         "0",
         "0",
         "0",
         "0",
         "0",
         "0",
         "0",
         "0",
         "0",
         "0",
         "0",
         "0",
         "0",
         "0",
         "0",
         "0",
         "0",
         "0",
         "0",
         "0",
         "0",
         "0",
         "0",
         "0",
         "0",
         "0",
         "0",
         "0",
         "0",
         "0",
         "0",
         "0",
         "0",
         "0",
         "0",
         "0",
         "0",
         "0",
         "0",
         "1"
        ],
        [
         "13",
         "2144261",
         "SmartTV",
         "2017-03-21 00:00:00",
         "2017-03-21 00:00:00",
         "13699426",
         "HMFRA_TE",
         "0",
         "0",
         "0",
         "0",
         "0",
         "0",
         "0",
         "0",
         "0",
         "0",
         "0",
         "0",
         "13699426",
         "0",
         "0",
         "0",
         "0",
         "0",
         "0",
         "0",
         "0",
         "0",
         "0",
         "0",
         "0",
         "0",
         "0",
         "0",
         "0",
         "0",
         "0",
         "0",
         "0",
         "0",
         "0",
         "0",
         "0",
         "0",
         "0",
         "0",
         "0",
         "0",
         "0",
         "0",
         "0",
         "0",
         "0",
         "0",
         "0",
         "0",
         "0",
         "0",
         "0",
         "1"
        ],
        [
         "14",
         "2144261",
         "Smartphone",
         "2017-03-21 00:00:00",
         "2017-03-21 00:00:00",
         "36736478",
         "HMFRA_TE",
         "0",
         "0",
         "0",
         "0",
         "0",
         "0",
         "0",
         "0",
         "0",
         "0",
         "0",
         "0",
         "36736478",
         "0",
         "0",
         "0",
         "0",
         "0",
         "0",
         "0",
         "0",
         "0",
         "0",
         "0",
         "0",
         "0",
         "0",
         "0",
         "0",
         "0",
         "0",
         "0",
         "0",
         "0",
         "0",
         "0",
         "0",
         "0",
         "0",
         "0",
         "0",
         "0",
         "0",
         "0",
         "0",
         "0",
         "0",
         "0",
         "0",
         "0",
         "0",
         "0",
         "0",
         "1"
        ],
        [
         "15",
         "2144261",
         "Tablet",
         "2017-03-21 00:00:00",
         "2017-03-21 00:00:00",
         "34141522",
         "HMFRA_TE",
         "0",
         "0",
         "0",
         "0",
         "0",
         "0",
         "0",
         "0",
         "0",
         "0",
         "0",
         "0",
         "34141522",
         "0",
         "0",
         "0",
         "0",
         "0",
         "0",
         "0",
         "0",
         "0",
         "0",
         "0",
         "0",
         "0",
         "0",
         "0",
         "0",
         "0",
         "0",
         "0",
         "0",
         "0",
         "0",
         "0",
         "0",
         "0",
         "0",
         "0",
         "0",
         "0",
         "0",
         "0",
         "0",
         "0",
         "0",
         "0",
         "0",
         "0",
         "0",
         "0",
         "0",
         "1"
        ],
        [
         "16",
         "2441433",
         "Desktop",
         "2017-02-20 00:00:00",
         "2017-02-20 00:00:00",
         "64103143",
         "HMFRA_HM",
         "0",
         "0",
         "0",
         "0",
         "0",
         "0",
         "0",
         "0",
         "64103143",
         "0",
         "0",
         "0",
         "0",
         "0",
         "0",
         "0",
         "0",
         "0",
         "0",
         "0",
         "0",
         "0",
         "0",
         "0",
         "0",
         "0",
         "0",
         "0",
         "0",
         "0",
         "0",
         "0",
         "0",
         "0",
         "0",
         "0",
         "0",
         "0",
         "0",
         "0",
         "0",
         "0",
         "0",
         "0",
         "0",
         "0",
         "0",
         "0",
         "0",
         "0",
         "0",
         "0",
         "0",
         "1"
        ],
        [
         "17",
         "2441433",
         "SmartTV",
         "2017-02-20 00:00:00",
         "2017-02-20 00:00:00",
         "40736118",
         "HMFRA_HM",
         "0",
         "0",
         "0",
         "0",
         "0",
         "0",
         "0",
         "0",
         "40736118",
         "0",
         "0",
         "0",
         "0",
         "0",
         "0",
         "0",
         "0",
         "0",
         "0",
         "0",
         "0",
         "0",
         "0",
         "0",
         "0",
         "0",
         "0",
         "0",
         "0",
         "0",
         "0",
         "0",
         "0",
         "0",
         "0",
         "0",
         "0",
         "0",
         "0",
         "0",
         "0",
         "0",
         "0",
         "0",
         "0",
         "0",
         "0",
         "0",
         "0",
         "0",
         "0",
         "0",
         "0",
         "1"
        ],
        [
         "18",
         "2441433",
         "Smartphone",
         "2017-02-20 00:00:00",
         "2017-02-20 00:00:00",
         "140761014",
         "HMFRA_HM",
         "0",
         "0",
         "0",
         "0",
         "0",
         "0",
         "0",
         "0",
         "140761014",
         "0",
         "0",
         "0",
         "0",
         "0",
         "0",
         "0",
         "0",
         "0",
         "0",
         "0",
         "0",
         "0",
         "0",
         "0",
         "0",
         "0",
         "0",
         "0",
         "0",
         "0",
         "0",
         "0",
         "0",
         "0",
         "0",
         "0",
         "0",
         "0",
         "0",
         "0",
         "0",
         "0",
         "0",
         "0",
         "0",
         "0",
         "0",
         "0",
         "0",
         "0",
         "0",
         "0",
         "0",
         "1"
        ],
        [
         "19",
         "2441433",
         "Tablet",
         "2017-02-20 00:00:00",
         "2017-02-20 00:00:00",
         "103693499",
         "HMFRA_HM",
         "0",
         "0",
         "0",
         "0",
         "0",
         "0",
         "0",
         "0",
         "103693499",
         "0",
         "0",
         "0",
         "0",
         "0",
         "0",
         "0",
         "0",
         "0",
         "0",
         "0",
         "0",
         "0",
         "0",
         "0",
         "0",
         "0",
         "0",
         "0",
         "0",
         "0",
         "0",
         "0",
         "0",
         "0",
         "0",
         "0",
         "0",
         "0",
         "0",
         "0",
         "0",
         "0",
         "0",
         "0",
         "0",
         "0",
         "0",
         "0",
         "0",
         "0",
         "0",
         "0",
         "0",
         "1"
        ],
        [
         "20",
         "2612719",
         "Tablet",
         "2017-07-07 00:00:00",
         "2017-07-16 00:00:00",
         "0",
         "HMFRA_HM",
         "0",
         "0",
         "0",
         "0",
         "0",
         "0",
         "0",
         "0",
         "0",
         "0",
         "0",
         "0",
         "0",
         "0",
         "0",
         "0",
         "0",
         "0",
         "0",
         "0",
         "0",
         "0",
         "0",
         "0",
         "0",
         "0",
         "0",
         "0",
         "0",
         "0",
         "0",
         "0",
         "0",
         "0",
         "0",
         "0",
         "0",
         "0",
         "0",
         "0",
         "0",
         "0",
         "0",
         "0",
         "0",
         "0",
         "0",
         "0",
         "0",
         "0",
         "0",
         "0",
         "0",
         "2"
        ],
        [
         "21",
         "2734270",
         "Desktop",
         "2017-07-17 00:00:00",
         "2017-07-23 00:00:00",
         "14627008",
         "HMFRA_HM",
         "0",
         "0",
         "0",
         "0",
         "0",
         "0",
         "0",
         "0",
         "0",
         "0",
         "0",
         "0",
         "0",
         "0",
         "0",
         "0",
         "0",
         "0",
         "0",
         "0",
         "0",
         "0",
         "0",
         "0",
         "0",
         "0",
         "0",
         "0",
         "0",
         "14627008",
         "0",
         "0",
         "0",
         "0",
         "0",
         "0",
         "0",
         "0",
         "0",
         "0",
         "0",
         "0",
         "0",
         "0",
         "0",
         "0",
         "0",
         "0",
         "0",
         "0",
         "0",
         "0",
         "0",
         "1"
        ],
        [
         "22",
         "2734270",
         "SmartTV",
         "2017-07-17 00:00:00",
         "2017-07-23 00:00:00",
         "9026663",
         "HMFRA_HM",
         "0",
         "0",
         "0",
         "0",
         "0",
         "0",
         "0",
         "0",
         "0",
         "0",
         "0",
         "0",
         "0",
         "0",
         "0",
         "0",
         "0",
         "0",
         "0",
         "0",
         "0",
         "0",
         "0",
         "0",
         "0",
         "0",
         "0",
         "0",
         "0",
         "9026663",
         "0",
         "0",
         "0",
         "0",
         "0",
         "0",
         "0",
         "0",
         "0",
         "0",
         "0",
         "0",
         "0",
         "0",
         "0",
         "0",
         "0",
         "0",
         "0",
         "0",
         "0",
         "0",
         "0",
         "1"
        ],
        [
         "23",
         "2734270",
         "Smartphone",
         "2017-07-17 00:00:00",
         "2017-07-23 00:00:00",
         "35991877",
         "HMFRA_HM",
         "0",
         "0",
         "0",
         "0",
         "0",
         "0",
         "0",
         "0",
         "0",
         "0",
         "0",
         "0",
         "0",
         "0",
         "0",
         "0",
         "0",
         "0",
         "0",
         "0",
         "0",
         "0",
         "0",
         "0",
         "0",
         "0",
         "0",
         "0",
         "0",
         "35991877",
         "0",
         "0",
         "0",
         "0",
         "0",
         "0",
         "0",
         "0",
         "0",
         "0",
         "0",
         "0",
         "0",
         "0",
         "0",
         "0",
         "0",
         "0",
         "0",
         "0",
         "0",
         "0",
         "0",
         "1"
        ],
        [
         "24",
         "2734270",
         "Tablet",
         "2017-07-17 00:00:00",
         "2017-07-23 00:00:00",
         "28234411",
         "HMFRA_HM",
         "0",
         "0",
         "0",
         "0",
         "0",
         "0",
         "0",
         "0",
         "0",
         "0",
         "0",
         "0",
         "0",
         "0",
         "0",
         "0",
         "0",
         "0",
         "0",
         "0",
         "0",
         "0",
         "0",
         "0",
         "0",
         "0",
         "0",
         "0",
         "0",
         "28234411",
         "0",
         "0",
         "0",
         "0",
         "0",
         "0",
         "0",
         "0",
         "0",
         "0",
         "0",
         "0",
         "0",
         "0",
         "0",
         "0",
         "0",
         "0",
         "0",
         "0",
         "0",
         "0",
         "0",
         "1"
        ],
        [
         "25",
         "3193014",
         "Desktop",
         "2017-11-13 00:00:00",
         "2017-11-14 00:00:00",
         "15796446",
         "HMFRA_HM",
         "0",
         "0",
         "0",
         "0",
         "0",
         "0",
         "0",
         "0",
         "0",
         "0",
         "0",
         "0",
         "0",
         "0",
         "0",
         "0",
         "0",
         "0",
         "0",
         "0",
         "0",
         "0",
         "0",
         "0",
         "0",
         "0",
         "0",
         "0",
         "0",
         "0",
         "0",
         "0",
         "0",
         "0",
         "0",
         "0",
         "0",
         "0",
         "0",
         "0",
         "0",
         "0",
         "0",
         "0",
         "0",
         "0",
         "15796446",
         "0",
         "0",
         "0",
         "0",
         "0",
         "0",
         "1"
        ],
        [
         "26",
         "3193014",
         "SmartTV",
         "2017-11-13 00:00:00",
         "2017-11-14 00:00:00",
         "16758792",
         "HMFRA_HM",
         "0",
         "0",
         "0",
         "0",
         "0",
         "0",
         "0",
         "0",
         "0",
         "0",
         "0",
         "0",
         "0",
         "0",
         "0",
         "0",
         "0",
         "0",
         "0",
         "0",
         "0",
         "0",
         "0",
         "0",
         "0",
         "0",
         "0",
         "0",
         "0",
         "0",
         "0",
         "0",
         "0",
         "0",
         "0",
         "0",
         "0",
         "0",
         "0",
         "0",
         "0",
         "0",
         "0",
         "0",
         "0",
         "0",
         "16758792",
         "0",
         "0",
         "0",
         "0",
         "0",
         "0",
         "1"
        ],
        [
         "27",
         "3193014",
         "Smartphone",
         "2017-11-13 00:00:00",
         "2017-11-14 00:00:00",
         "48985698",
         "HMFRA_HM",
         "0",
         "0",
         "0",
         "0",
         "0",
         "0",
         "0",
         "0",
         "0",
         "0",
         "0",
         "0",
         "0",
         "0",
         "0",
         "0",
         "0",
         "0",
         "0",
         "0",
         "0",
         "0",
         "0",
         "0",
         "0",
         "0",
         "0",
         "0",
         "0",
         "0",
         "0",
         "0",
         "0",
         "0",
         "0",
         "0",
         "0",
         "0",
         "0",
         "0",
         "0",
         "0",
         "0",
         "0",
         "0",
         "0",
         "48985698",
         "0",
         "0",
         "0",
         "0",
         "0",
         "0",
         "1"
        ],
        [
         "28",
         "3193014",
         "Tablet",
         "2017-11-13 00:00:00",
         "2017-11-14 00:00:00",
         "39672734",
         "HMFRA_HM",
         "0",
         "0",
         "0",
         "0",
         "0",
         "0",
         "0",
         "0",
         "0",
         "0",
         "0",
         "0",
         "0",
         "0",
         "0",
         "0",
         "0",
         "0",
         "0",
         "0",
         "0",
         "0",
         "0",
         "0",
         "0",
         "0",
         "0",
         "0",
         "0",
         "0",
         "0",
         "0",
         "0",
         "0",
         "0",
         "0",
         "0",
         "0",
         "0",
         "0",
         "0",
         "0",
         "0",
         "0",
         "0",
         "0",
         "39672734",
         "0",
         "0",
         "0",
         "0",
         "0",
         "0",
         "1"
        ],
        [
         "29",
         "3412620",
         "Desktop",
         "2017-11-15 00:00:00",
         "2017-11-15 00:00:00",
         "925722",
         "HMFRA_HM",
         "0",
         "0",
         "0",
         "0",
         "0",
         "0",
         "0",
         "0",
         "0",
         "0",
         "0",
         "0",
         "0",
         "0",
         "0",
         "0",
         "0",
         "0",
         "0",
         "0",
         "0",
         "0",
         "0",
         "0",
         "0",
         "0",
         "0",
         "0",
         "0",
         "0",
         "0",
         "0",
         "0",
         "0",
         "0",
         "0",
         "0",
         "0",
         "0",
         "0",
         "0",
         "0",
         "0",
         "0",
         "0",
         "0",
         "925722",
         "0",
         "0",
         "0",
         "0",
         "0",
         "0",
         "1"
        ],
        [
         "30",
         "3412620",
         "SmartTV",
         "2017-11-15 00:00:00",
         "2017-11-15 00:00:00",
         "1548372",
         "HMFRA_HM",
         "0",
         "0",
         "0",
         "0",
         "0",
         "0",
         "0",
         "0",
         "0",
         "0",
         "0",
         "0",
         "0",
         "0",
         "0",
         "0",
         "0",
         "0",
         "0",
         "0",
         "0",
         "0",
         "0",
         "0",
         "0",
         "0",
         "0",
         "0",
         "0",
         "0",
         "0",
         "0",
         "0",
         "0",
         "0",
         "0",
         "0",
         "0",
         "0",
         "0",
         "0",
         "0",
         "0",
         "0",
         "0",
         "0",
         "1548372",
         "0",
         "0",
         "0",
         "0",
         "0",
         "0",
         "1"
        ],
        [
         "31",
         "3412620",
         "Smartphone",
         "2017-11-15 00:00:00",
         "2017-11-15 00:00:00",
         "6683916",
         "HMFRA_HM",
         "0",
         "0",
         "0",
         "0",
         "0",
         "0",
         "0",
         "0",
         "0",
         "0",
         "0",
         "0",
         "0",
         "0",
         "0",
         "0",
         "0",
         "0",
         "0",
         "0",
         "0",
         "0",
         "0",
         "0",
         "0",
         "0",
         "0",
         "0",
         "0",
         "0",
         "0",
         "0",
         "0",
         "0",
         "0",
         "0",
         "0",
         "0",
         "0",
         "0",
         "0",
         "0",
         "0",
         "0",
         "0",
         "0",
         "6683916",
         "0",
         "0",
         "0",
         "0",
         "0",
         "0",
         "1"
        ],
        [
         "32",
         "3412620",
         "Tablet",
         "2017-11-15 00:00:00",
         "2017-11-15 00:00:00",
         "3002768",
         "HMFRA_HM",
         "0",
         "0",
         "0",
         "0",
         "0",
         "0",
         "0",
         "0",
         "0",
         "0",
         "0",
         "0",
         "0",
         "0",
         "0",
         "0",
         "0",
         "0",
         "0",
         "0",
         "0",
         "0",
         "0",
         "0",
         "0",
         "0",
         "0",
         "0",
         "0",
         "0",
         "0",
         "0",
         "0",
         "0",
         "0",
         "0",
         "0",
         "0",
         "0",
         "0",
         "0",
         "0",
         "0",
         "0",
         "0",
         "0",
         "3002768",
         "0",
         "0",
         "0",
         "0",
         "0",
         "0",
         "1"
        ],
        [
         "33",
         "3626245",
         "Desktop",
         "2017-03-04 00:00:00",
         "2017-03-04 00:00:00",
         "2014516",
         "HMFRA_HM",
         "0",
         "0",
         "0",
         "0",
         "0",
         "0",
         "0",
         "0",
         "0",
         "2014516",
         "0",
         "0",
         "0",
         "0",
         "0",
         "0",
         "0",
         "0",
         "0",
         "0",
         "0",
         "0",
         "0",
         "0",
         "0",
         "0",
         "0",
         "0",
         "0",
         "0",
         "0",
         "0",
         "0",
         "0",
         "0",
         "0",
         "0",
         "0",
         "0",
         "0",
         "0",
         "0",
         "0",
         "0",
         "0",
         "0",
         "0",
         "0",
         "0",
         "0",
         "0",
         "0",
         "0",
         "1"
        ],
        [
         "34",
         "3626245",
         "SmartTV",
         "2017-03-04 00:00:00",
         "2017-03-04 00:00:00",
         "1575591",
         "HMFRA_HM",
         "0",
         "0",
         "0",
         "0",
         "0",
         "0",
         "0",
         "0",
         "0",
         "1575591",
         "0",
         "0",
         "0",
         "0",
         "0",
         "0",
         "0",
         "0",
         "0",
         "0",
         "0",
         "0",
         "0",
         "0",
         "0",
         "0",
         "0",
         "0",
         "0",
         "0",
         "0",
         "0",
         "0",
         "0",
         "0",
         "0",
         "0",
         "0",
         "0",
         "0",
         "0",
         "0",
         "0",
         "0",
         "0",
         "0",
         "0",
         "0",
         "0",
         "0",
         "0",
         "0",
         "0",
         "1"
        ],
        [
         "35",
         "3626245",
         "Smartphone",
         "2017-03-04 00:00:00",
         "2017-03-04 00:00:00",
         "5227076",
         "HMFRA_HM",
         "0",
         "0",
         "0",
         "0",
         "0",
         "0",
         "0",
         "0",
         "0",
         "5227076",
         "0",
         "0",
         "0",
         "0",
         "0",
         "0",
         "0",
         "0",
         "0",
         "0",
         "0",
         "0",
         "0",
         "0",
         "0",
         "0",
         "0",
         "0",
         "0",
         "0",
         "0",
         "0",
         "0",
         "0",
         "0",
         "0",
         "0",
         "0",
         "0",
         "0",
         "0",
         "0",
         "0",
         "0",
         "0",
         "0",
         "0",
         "0",
         "0",
         "0",
         "0",
         "0",
         "0",
         "1"
        ],
        [
         "36",
         "3626245",
         "Tablet",
         "2017-03-04 00:00:00",
         "2017-03-04 00:00:00",
         "3382570",
         "HMFRA_HM",
         "0",
         "0",
         "0",
         "0",
         "0",
         "0",
         "0",
         "0",
         "0",
         "3382570",
         "0",
         "0",
         "0",
         "0",
         "0",
         "0",
         "0",
         "0",
         "0",
         "0",
         "0",
         "0",
         "0",
         "0",
         "0",
         "0",
         "0",
         "0",
         "0",
         "0",
         "0",
         "0",
         "0",
         "0",
         "0",
         "0",
         "0",
         "0",
         "0",
         "0",
         "0",
         "0",
         "0",
         "0",
         "0",
         "0",
         "0",
         "0",
         "0",
         "0",
         "0",
         "0",
         "0",
         "1"
        ],
        [
         "37",
         "3659311",
         "Desktop",
         "2017-12-24 00:00:00",
         "2017-12-24 00:00:00",
         "168881",
         "HMFRA_HM",
         "0",
         "0",
         "0",
         "0",
         "0",
         "0",
         "0",
         "0",
         "0",
         "0",
         "0",
         "0",
         "0",
         "0",
         "0",
         "0",
         "0",
         "0",
         "0",
         "0",
         "0",
         "0",
         "0",
         "0",
         "0",
         "0",
         "0",
         "0",
         "0",
         "0",
         "0",
         "0",
         "0",
         "0",
         "0",
         "0",
         "0",
         "0",
         "0",
         "0",
         "0",
         "0",
         "0",
         "0",
         "0",
         "0",
         "0",
         "0",
         "0",
         "0",
         "0",
         "168881",
         "0",
         "1"
        ],
        [
         "38",
         "3659311",
         "SmartTV",
         "2017-12-24 00:00:00",
         "2017-12-24 00:00:00",
         "71384",
         "HMFRA_HM",
         "0",
         "0",
         "0",
         "0",
         "0",
         "0",
         "0",
         "0",
         "0",
         "0",
         "0",
         "0",
         "0",
         "0",
         "0",
         "0",
         "0",
         "0",
         "0",
         "0",
         "0",
         "0",
         "0",
         "0",
         "0",
         "0",
         "0",
         "0",
         "0",
         "0",
         "0",
         "0",
         "0",
         "0",
         "0",
         "0",
         "0",
         "0",
         "0",
         "0",
         "0",
         "0",
         "0",
         "0",
         "0",
         "0",
         "0",
         "0",
         "0",
         "0",
         "0",
         "71384",
         "0",
         "1"
        ],
        [
         "39",
         "3659311",
         "Smartphone",
         "2017-12-24 00:00:00",
         "2017-12-24 00:00:00",
         "514059",
         "HMFRA_HM",
         "0",
         "0",
         "0",
         "0",
         "0",
         "0",
         "0",
         "0",
         "0",
         "0",
         "0",
         "0",
         "0",
         "0",
         "0",
         "0",
         "0",
         "0",
         "0",
         "0",
         "0",
         "0",
         "0",
         "0",
         "0",
         "0",
         "0",
         "0",
         "0",
         "0",
         "0",
         "0",
         "0",
         "0",
         "0",
         "0",
         "0",
         "0",
         "0",
         "0",
         "0",
         "0",
         "0",
         "0",
         "0",
         "0",
         "0",
         "0",
         "0",
         "0",
         "0",
         "514059",
         "0",
         "1"
        ],
        [
         "40",
         "3659311",
         "Tablet",
         "2017-12-24 00:00:00",
         "2017-12-24 00:00:00",
         "499447",
         "HMFRA_HM",
         "0",
         "0",
         "0",
         "0",
         "0",
         "0",
         "0",
         "0",
         "0",
         "0",
         "0",
         "0",
         "0",
         "0",
         "0",
         "0",
         "0",
         "0",
         "0",
         "0",
         "0",
         "0",
         "0",
         "0",
         "0",
         "0",
         "0",
         "0",
         "0",
         "0",
         "0",
         "0",
         "0",
         "0",
         "0",
         "0",
         "0",
         "0",
         "0",
         "0",
         "0",
         "0",
         "0",
         "0",
         "0",
         "0",
         "0",
         "0",
         "0",
         "0",
         "0",
         "499447",
         "0",
         "1"
        ],
        [
         "41",
         "3745326",
         "Desktop",
         "2017-09-28 00:00:00",
         "2017-09-30 00:00:00",
         "75323026",
         "HMFRA_HM",
         "0",
         "0",
         "0",
         "0",
         "0",
         "0",
         "0",
         "0",
         "0",
         "0",
         "0",
         "0",
         "0",
         "0",
         "0",
         "0",
         "0",
         "0",
         "0",
         "0",
         "0",
         "0",
         "0",
         "0",
         "0",
         "0",
         "0",
         "0",
         "0",
         "0",
         "0",
         "0",
         "0",
         "0",
         "0",
         "0",
         "0",
         "0",
         "0",
         "75323026",
         "0",
         "0",
         "0",
         "0",
         "0",
         "0",
         "0",
         "0",
         "0",
         "0",
         "0",
         "0",
         "0",
         "1"
        ],
        [
         "42",
         "3745326",
         "SmartTV",
         "2017-09-28 00:00:00",
         "2017-09-30 00:00:00",
         "47821995",
         "HMFRA_HM",
         "0",
         "0",
         "0",
         "0",
         "0",
         "0",
         "0",
         "0",
         "0",
         "0",
         "0",
         "0",
         "0",
         "0",
         "0",
         "0",
         "0",
         "0",
         "0",
         "0",
         "0",
         "0",
         "0",
         "0",
         "0",
         "0",
         "0",
         "0",
         "0",
         "0",
         "0",
         "0",
         "0",
         "0",
         "0",
         "0",
         "0",
         "0",
         "0",
         "47821995",
         "0",
         "0",
         "0",
         "0",
         "0",
         "0",
         "0",
         "0",
         "0",
         "0",
         "0",
         "0",
         "0",
         "1"
        ],
        [
         "43",
         "3745326",
         "Smartphone",
         "2017-09-28 00:00:00",
         "2017-09-30 00:00:00",
         "158680931",
         "HMFRA_HM",
         "0",
         "0",
         "0",
         "0",
         "0",
         "0",
         "0",
         "0",
         "0",
         "0",
         "0",
         "0",
         "0",
         "0",
         "0",
         "0",
         "0",
         "0",
         "0",
         "0",
         "0",
         "0",
         "0",
         "0",
         "0",
         "0",
         "0",
         "0",
         "0",
         "0",
         "0",
         "0",
         "0",
         "0",
         "0",
         "0",
         "0",
         "0",
         "0",
         "158680931",
         "0",
         "0",
         "0",
         "0",
         "0",
         "0",
         "0",
         "0",
         "0",
         "0",
         "0",
         "0",
         "0",
         "1"
        ],
        [
         "44",
         "3745326",
         "Tablet",
         "2017-09-28 00:00:00",
         "2017-09-30 00:00:00",
         "117216975",
         "HMFRA_HM",
         "0",
         "0",
         "0",
         "0",
         "0",
         "0",
         "0",
         "0",
         "0",
         "0",
         "0",
         "0",
         "0",
         "0",
         "0",
         "0",
         "0",
         "0",
         "0",
         "0",
         "0",
         "0",
         "0",
         "0",
         "0",
         "0",
         "0",
         "0",
         "0",
         "0",
         "0",
         "0",
         "0",
         "0",
         "0",
         "0",
         "0",
         "0",
         "0",
         "117216975",
         "0",
         "0",
         "0",
         "0",
         "0",
         "0",
         "0",
         "0",
         "0",
         "0",
         "0",
         "0",
         "0",
         "1"
        ],
        [
         "45",
         "3751408",
         "Smartphone",
         "2017-12-13 00:00:00",
         "2017-12-13 00:00:00",
         "0",
         "HMFRA_HM",
         "0",
         "0",
         "0",
         "0",
         "0",
         "0",
         "0",
         "0",
         "0",
         "0",
         "0",
         "0",
         "0",
         "0",
         "0",
         "0",
         "0",
         "0",
         "0",
         "0",
         "0",
         "0",
         "0",
         "0",
         "0",
         "0",
         "0",
         "0",
         "0",
         "0",
         "0",
         "0",
         "0",
         "0",
         "0",
         "0",
         "0",
         "0",
         "0",
         "0",
         "0",
         "0",
         "0",
         "0",
         "0",
         "0",
         "0",
         "0",
         "0",
         "0",
         "0",
         "0",
         "0",
         "1"
        ],
        [
         "46",
         "3872570",
         "Desktop",
         "2017-04-20 00:00:00",
         "2017-04-20 00:00:00",
         "783255",
         "HMFRA_TE",
         "0",
         "0",
         "0",
         "0",
         "0",
         "0",
         "0",
         "0",
         "0",
         "0",
         "0",
         "0",
         "0",
         "0",
         "0",
         "0",
         "783255",
         "0",
         "0",
         "0",
         "0",
         "0",
         "0",
         "0",
         "0",
         "0",
         "0",
         "0",
         "0",
         "0",
         "0",
         "0",
         "0",
         "0",
         "0",
         "0",
         "0",
         "0",
         "0",
         "0",
         "0",
         "0",
         "0",
         "0",
         "0",
         "0",
         "0",
         "0",
         "0",
         "0",
         "0",
         "0",
         "0",
         "1"
        ],
        [
         "47",
         "3872570",
         "SmartTV",
         "2017-04-20 00:00:00",
         "2017-04-20 00:00:00",
         "743795",
         "HMFRA_TE",
         "0",
         "0",
         "0",
         "0",
         "0",
         "0",
         "0",
         "0",
         "0",
         "0",
         "0",
         "0",
         "0",
         "0",
         "0",
         "0",
         "743795",
         "0",
         "0",
         "0",
         "0",
         "0",
         "0",
         "0",
         "0",
         "0",
         "0",
         "0",
         "0",
         "0",
         "0",
         "0",
         "0",
         "0",
         "0",
         "0",
         "0",
         "0",
         "0",
         "0",
         "0",
         "0",
         "0",
         "0",
         "0",
         "0",
         "0",
         "0",
         "0",
         "0",
         "0",
         "0",
         "0",
         "1"
        ],
        [
         "48",
         "3872570",
         "Smartphone",
         "2017-04-20 00:00:00",
         "2017-04-20 00:00:00",
         "2014212",
         "HMFRA_TE",
         "0",
         "0",
         "0",
         "0",
         "0",
         "0",
         "0",
         "0",
         "0",
         "0",
         "0",
         "0",
         "0",
         "0",
         "0",
         "0",
         "2014212",
         "0",
         "0",
         "0",
         "0",
         "0",
         "0",
         "0",
         "0",
         "0",
         "0",
         "0",
         "0",
         "0",
         "0",
         "0",
         "0",
         "0",
         "0",
         "0",
         "0",
         "0",
         "0",
         "0",
         "0",
         "0",
         "0",
         "0",
         "0",
         "0",
         "0",
         "0",
         "0",
         "0",
         "0",
         "0",
         "0",
         "1"
        ],
        [
         "49",
         "3872570",
         "Tablet",
         "2017-04-20 00:00:00",
         "2017-04-20 00:00:00",
         "1586721",
         "HMFRA_TE",
         "0",
         "0",
         "0",
         "0",
         "0",
         "0",
         "0",
         "0",
         "0",
         "0",
         "0",
         "0",
         "0",
         "0",
         "0",
         "0",
         "1586721",
         "0",
         "0",
         "0",
         "0",
         "0",
         "0",
         "0",
         "0",
         "0",
         "0",
         "0",
         "0",
         "0",
         "0",
         "0",
         "0",
         "0",
         "0",
         "0",
         "0",
         "0",
         "0",
         "0",
         "0",
         "0",
         "0",
         "0",
         "0",
         "0",
         "0",
         "0",
         "0",
         "0",
         "0",
         "0",
         "0",
         "1"
        ]
       ],
       "shape": {
        "columns": 60,
        "rows": 6400
       }
      },
      "text/html": [
       "<div>\n",
       "<style scoped>\n",
       "    .dataframe tbody tr th:only-of-type {\n",
       "        vertical-align: middle;\n",
       "    }\n",
       "\n",
       "    .dataframe tbody tr th {\n",
       "        vertical-align: top;\n",
       "    }\n",
       "\n",
       "    .dataframe thead th {\n",
       "        text-align: right;\n",
       "    }\n",
       "</style>\n",
       "<table border=\"1\" class=\"dataframe\">\n",
       "  <thead>\n",
       "    <tr style=\"text-align: right;\">\n",
       "      <th></th>\n",
       "      <th>Campaign_id</th>\n",
       "      <th>device_type</th>\n",
       "      <th>start_date</th>\n",
       "      <th>end_date</th>\n",
       "      <th>Impression</th>\n",
       "      <th>advertiser_name</th>\n",
       "      <th>CW0</th>\n",
       "      <th>CW1</th>\n",
       "      <th>CW2</th>\n",
       "      <th>CW3</th>\n",
       "      <th>...</th>\n",
       "      <th>CW44</th>\n",
       "      <th>CW45</th>\n",
       "      <th>CW46</th>\n",
       "      <th>CW47</th>\n",
       "      <th>CW48</th>\n",
       "      <th>CW49</th>\n",
       "      <th>CW50</th>\n",
       "      <th>CW51</th>\n",
       "      <th>CW52</th>\n",
       "      <th>total_weeks</th>\n",
       "    </tr>\n",
       "  </thead>\n",
       "  <tbody>\n",
       "    <tr>\n",
       "      <th>0</th>\n",
       "      <td>660202</td>\n",
       "      <td>Desktop</td>\n",
       "      <td>2017-03-03</td>\n",
       "      <td>2017-03-09</td>\n",
       "      <td>302755298</td>\n",
       "      <td>HMFRA_TE</td>\n",
       "      <td>0</td>\n",
       "      <td>0</td>\n",
       "      <td>0</td>\n",
       "      <td>0</td>\n",
       "      <td>...</td>\n",
       "      <td>0</td>\n",
       "      <td>0</td>\n",
       "      <td>0</td>\n",
       "      <td>0</td>\n",
       "      <td>0</td>\n",
       "      <td>0</td>\n",
       "      <td>0</td>\n",
       "      <td>0</td>\n",
       "      <td>0</td>\n",
       "      <td>2</td>\n",
       "    </tr>\n",
       "    <tr>\n",
       "      <th>1</th>\n",
       "      <td>660202</td>\n",
       "      <td>SmartTV</td>\n",
       "      <td>2017-03-03</td>\n",
       "      <td>2017-03-09</td>\n",
       "      <td>206662461</td>\n",
       "      <td>HMFRA_TE</td>\n",
       "      <td>0</td>\n",
       "      <td>0</td>\n",
       "      <td>0</td>\n",
       "      <td>0</td>\n",
       "      <td>...</td>\n",
       "      <td>0</td>\n",
       "      <td>0</td>\n",
       "      <td>0</td>\n",
       "      <td>0</td>\n",
       "      <td>0</td>\n",
       "      <td>0</td>\n",
       "      <td>0</td>\n",
       "      <td>0</td>\n",
       "      <td>0</td>\n",
       "      <td>2</td>\n",
       "    </tr>\n",
       "    <tr>\n",
       "      <th>2</th>\n",
       "      <td>660202</td>\n",
       "      <td>Smartphone</td>\n",
       "      <td>2017-03-03</td>\n",
       "      <td>2017-03-09</td>\n",
       "      <td>774261219</td>\n",
       "      <td>HMFRA_TE</td>\n",
       "      <td>0</td>\n",
       "      <td>0</td>\n",
       "      <td>0</td>\n",
       "      <td>0</td>\n",
       "      <td>...</td>\n",
       "      <td>0</td>\n",
       "      <td>0</td>\n",
       "      <td>0</td>\n",
       "      <td>0</td>\n",
       "      <td>0</td>\n",
       "      <td>0</td>\n",
       "      <td>0</td>\n",
       "      <td>0</td>\n",
       "      <td>0</td>\n",
       "      <td>2</td>\n",
       "    </tr>\n",
       "    <tr>\n",
       "      <th>3</th>\n",
       "      <td>660202</td>\n",
       "      <td>Tablet</td>\n",
       "      <td>2017-03-03</td>\n",
       "      <td>2017-03-09</td>\n",
       "      <td>508493165</td>\n",
       "      <td>HMFRA_TE</td>\n",
       "      <td>0</td>\n",
       "      <td>0</td>\n",
       "      <td>0</td>\n",
       "      <td>0</td>\n",
       "      <td>...</td>\n",
       "      <td>0</td>\n",
       "      <td>0</td>\n",
       "      <td>0</td>\n",
       "      <td>0</td>\n",
       "      <td>0</td>\n",
       "      <td>0</td>\n",
       "      <td>0</td>\n",
       "      <td>0</td>\n",
       "      <td>0</td>\n",
       "      <td>2</td>\n",
       "    </tr>\n",
       "    <tr>\n",
       "      <th>4</th>\n",
       "      <td>823719</td>\n",
       "      <td>Desktop</td>\n",
       "      <td>2017-02-06</td>\n",
       "      <td>2017-02-12</td>\n",
       "      <td>31900776</td>\n",
       "      <td>HMFRA_TE</td>\n",
       "      <td>0</td>\n",
       "      <td>0</td>\n",
       "      <td>0</td>\n",
       "      <td>0</td>\n",
       "      <td>...</td>\n",
       "      <td>0</td>\n",
       "      <td>0</td>\n",
       "      <td>0</td>\n",
       "      <td>0</td>\n",
       "      <td>0</td>\n",
       "      <td>0</td>\n",
       "      <td>0</td>\n",
       "      <td>0</td>\n",
       "      <td>0</td>\n",
       "      <td>1</td>\n",
       "    </tr>\n",
       "    <tr>\n",
       "      <th>...</th>\n",
       "      <td>...</td>\n",
       "      <td>...</td>\n",
       "      <td>...</td>\n",
       "      <td>...</td>\n",
       "      <td>...</td>\n",
       "      <td>...</td>\n",
       "      <td>...</td>\n",
       "      <td>...</td>\n",
       "      <td>...</td>\n",
       "      <td>...</td>\n",
       "      <td>...</td>\n",
       "      <td>...</td>\n",
       "      <td>...</td>\n",
       "      <td>...</td>\n",
       "      <td>...</td>\n",
       "      <td>...</td>\n",
       "      <td>...</td>\n",
       "      <td>...</td>\n",
       "      <td>...</td>\n",
       "      <td>...</td>\n",
       "      <td>...</td>\n",
       "    </tr>\n",
       "    <tr>\n",
       "      <th>6395</th>\n",
       "      <td>52951442</td>\n",
       "      <td>Tablet</td>\n",
       "      <td>2017-05-05</td>\n",
       "      <td>2017-05-05</td>\n",
       "      <td>4571777</td>\n",
       "      <td>HMFRA_JD</td>\n",
       "      <td>0</td>\n",
       "      <td>0</td>\n",
       "      <td>0</td>\n",
       "      <td>0</td>\n",
       "      <td>...</td>\n",
       "      <td>0</td>\n",
       "      <td>0</td>\n",
       "      <td>0</td>\n",
       "      <td>0</td>\n",
       "      <td>0</td>\n",
       "      <td>0</td>\n",
       "      <td>0</td>\n",
       "      <td>0</td>\n",
       "      <td>0</td>\n",
       "      <td>1</td>\n",
       "    </tr>\n",
       "    <tr>\n",
       "      <th>6396</th>\n",
       "      <td>52956518</td>\n",
       "      <td>Desktop</td>\n",
       "      <td>2017-04-03</td>\n",
       "      <td>2017-04-13</td>\n",
       "      <td>209173</td>\n",
       "      <td>HMFRA_JD</td>\n",
       "      <td>0</td>\n",
       "      <td>0</td>\n",
       "      <td>0</td>\n",
       "      <td>0</td>\n",
       "      <td>...</td>\n",
       "      <td>0</td>\n",
       "      <td>0</td>\n",
       "      <td>0</td>\n",
       "      <td>0</td>\n",
       "      <td>0</td>\n",
       "      <td>0</td>\n",
       "      <td>0</td>\n",
       "      <td>0</td>\n",
       "      <td>0</td>\n",
       "      <td>2</td>\n",
       "    </tr>\n",
       "    <tr>\n",
       "      <th>6397</th>\n",
       "      <td>52956518</td>\n",
       "      <td>SmartTV</td>\n",
       "      <td>2017-04-03</td>\n",
       "      <td>2017-04-13</td>\n",
       "      <td>258599</td>\n",
       "      <td>HMFRA_JD</td>\n",
       "      <td>0</td>\n",
       "      <td>0</td>\n",
       "      <td>0</td>\n",
       "      <td>0</td>\n",
       "      <td>...</td>\n",
       "      <td>0</td>\n",
       "      <td>0</td>\n",
       "      <td>0</td>\n",
       "      <td>0</td>\n",
       "      <td>0</td>\n",
       "      <td>0</td>\n",
       "      <td>0</td>\n",
       "      <td>0</td>\n",
       "      <td>0</td>\n",
       "      <td>2</td>\n",
       "    </tr>\n",
       "    <tr>\n",
       "      <th>6398</th>\n",
       "      <td>52956518</td>\n",
       "      <td>Smartphone</td>\n",
       "      <td>2017-04-03</td>\n",
       "      <td>2017-04-13</td>\n",
       "      <td>706687</td>\n",
       "      <td>HMFRA_JD</td>\n",
       "      <td>0</td>\n",
       "      <td>0</td>\n",
       "      <td>0</td>\n",
       "      <td>0</td>\n",
       "      <td>...</td>\n",
       "      <td>0</td>\n",
       "      <td>0</td>\n",
       "      <td>0</td>\n",
       "      <td>0</td>\n",
       "      <td>0</td>\n",
       "      <td>0</td>\n",
       "      <td>0</td>\n",
       "      <td>0</td>\n",
       "      <td>0</td>\n",
       "      <td>2</td>\n",
       "    </tr>\n",
       "    <tr>\n",
       "      <th>6399</th>\n",
       "      <td>52956518</td>\n",
       "      <td>Tablet</td>\n",
       "      <td>2017-04-03</td>\n",
       "      <td>2017-04-13</td>\n",
       "      <td>957816</td>\n",
       "      <td>HMFRA_JD</td>\n",
       "      <td>0</td>\n",
       "      <td>0</td>\n",
       "      <td>0</td>\n",
       "      <td>0</td>\n",
       "      <td>...</td>\n",
       "      <td>0</td>\n",
       "      <td>0</td>\n",
       "      <td>0</td>\n",
       "      <td>0</td>\n",
       "      <td>0</td>\n",
       "      <td>0</td>\n",
       "      <td>0</td>\n",
       "      <td>0</td>\n",
       "      <td>0</td>\n",
       "      <td>2</td>\n",
       "    </tr>\n",
       "  </tbody>\n",
       "</table>\n",
       "<p>6400 rows × 60 columns</p>\n",
       "</div>"
      ],
      "text/plain": [
       "      Campaign_id device_type start_date   end_date  Impression  \\\n",
       "0          660202     Desktop 2017-03-03 2017-03-09   302755298   \n",
       "1          660202     SmartTV 2017-03-03 2017-03-09   206662461   \n",
       "2          660202  Smartphone 2017-03-03 2017-03-09   774261219   \n",
       "3          660202      Tablet 2017-03-03 2017-03-09   508493165   \n",
       "4          823719     Desktop 2017-02-06 2017-02-12    31900776   \n",
       "...           ...         ...        ...        ...         ...   \n",
       "6395     52951442      Tablet 2017-05-05 2017-05-05     4571777   \n",
       "6396     52956518     Desktop 2017-04-03 2017-04-13      209173   \n",
       "6397     52956518     SmartTV 2017-04-03 2017-04-13      258599   \n",
       "6398     52956518  Smartphone 2017-04-03 2017-04-13      706687   \n",
       "6399     52956518      Tablet 2017-04-03 2017-04-13      957816   \n",
       "\n",
       "     advertiser_name  CW0  CW1  CW2  CW3  ...  CW44  CW45  CW46  CW47  CW48  \\\n",
       "0           HMFRA_TE    0    0    0    0  ...     0     0     0     0     0   \n",
       "1           HMFRA_TE    0    0    0    0  ...     0     0     0     0     0   \n",
       "2           HMFRA_TE    0    0    0    0  ...     0     0     0     0     0   \n",
       "3           HMFRA_TE    0    0    0    0  ...     0     0     0     0     0   \n",
       "4           HMFRA_TE    0    0    0    0  ...     0     0     0     0     0   \n",
       "...              ...  ...  ...  ...  ...  ...   ...   ...   ...   ...   ...   \n",
       "6395        HMFRA_JD    0    0    0    0  ...     0     0     0     0     0   \n",
       "6396        HMFRA_JD    0    0    0    0  ...     0     0     0     0     0   \n",
       "6397        HMFRA_JD    0    0    0    0  ...     0     0     0     0     0   \n",
       "6398        HMFRA_JD    0    0    0    0  ...     0     0     0     0     0   \n",
       "6399        HMFRA_JD    0    0    0    0  ...     0     0     0     0     0   \n",
       "\n",
       "      CW49  CW50  CW51  CW52  total_weeks  \n",
       "0        0     0     0     0            2  \n",
       "1        0     0     0     0            2  \n",
       "2        0     0     0     0            2  \n",
       "3        0     0     0     0            2  \n",
       "4        0     0     0     0            1  \n",
       "...    ...   ...   ...   ...          ...  \n",
       "6395     0     0     0     0            1  \n",
       "6396     0     0     0     0            2  \n",
       "6397     0     0     0     0            2  \n",
       "6398     0     0     0     0            2  \n",
       "6399     0     0     0     0            2  \n",
       "\n",
       "[6400 rows x 60 columns]"
      ]
     },
     "execution_count": 11,
     "metadata": {},
     "output_type": "execute_result"
    }
   ],
   "source": [
    "meta_weekly_impressions"
   ]
  },
  {
   "cell_type": "code",
   "execution_count": 29,
   "id": "c13232bc",
   "metadata": {},
   "outputs": [
    {
     "name": "stdout",
     "output_type": "stream",
     "text": [
      "Longest campaign: 10 weeks\n",
      "Shortest campaign: 1 weeks\n"
     ]
    }
   ],
   "source": [
    "# Highest and lowest campaign durations\n",
    "max_duration = meta_weekly_impressions['total_weeks'].max()\n",
    "min_duration = meta_weekly_impressions['total_weeks'].min()\n",
    "print(f\"Longest campaign: {max_duration} weeks\")\n",
    "print(f\"Shortest campaign: {min_duration} weeks\")"
   ]
  },
  {
   "cell_type": "code",
   "execution_count": null,
   "id": "0d3c8444",
   "metadata": {},
   "outputs": [
    {
     "data": {
      "application/vnd.plotly.v1+json": {
       "config": {
        "plotlyServerURL": "https://plot.ly"
       },
       "data": [
        {
         "alignmentgroup": "True",
         "hovertemplate": "Week: %{x}<br>Impressions: %{y:,.0f}<extra></extra>",
         "legendgroup": "",
         "marker": {
          "color": "#c48a47",
          "line": {
           "width": 0
          },
          "pattern": {
           "shape": ""
          }
         },
         "name": "",
         "offsetgroup": "",
         "orientation": "v",
         "showlegend": false,
         "textposition": "auto",
         "type": "bar",
         "x": [
          "CW0",
          "CW1",
          "CW2",
          "CW3",
          "CW4",
          "CW5",
          "CW6",
          "CW7",
          "CW8",
          "CW9",
          "CW10",
          "CW11",
          "CW12",
          "CW13",
          "CW14",
          "CW15",
          "CW16",
          "CW17",
          "CW18",
          "CW19",
          "CW20",
          "CW21",
          "CW22",
          "CW23",
          "CW24",
          "CW25",
          "CW26",
          "CW27",
          "CW28",
          "CW29",
          "CW30",
          "CW31",
          "CW32",
          "CW33",
          "CW34",
          "CW35",
          "CW36",
          "CW37",
          "CW38",
          "CW39",
          "CW40",
          "CW41",
          "CW42",
          "CW43",
          "CW44",
          "CW45",
          "CW46",
          "CW47",
          "CW48",
          "CW49",
          "CW50",
          "CW51",
          "CW52"
         ],
         "xaxis": "x",
         "y": [
          884908,
          9777780,
          144621673,
          257431829,
          495072355,
          261240577,
          743651917,
          667901015,
          1619767133,
          2926267201,
          1248752272,
          669925007,
          952441702,
          478107164,
          168092475,
          333445382,
          752239437,
          747383206,
          331311422,
          258106589,
          494613726,
          4016004890,
          709240115,
          207580858,
          194057912,
          167118680,
          173097235,
          457716227,
          1121204251,
          354838370,
          177829069,
          2309346038,
          1984106480,
          1136870904,
          60842595,
          295256780,
          335138376,
          235424014,
          224487222,
          525759229,
          148999751,
          270068792,
          399950737,
          224632541,
          161922356,
          258525692,
          630429910,
          330890311,
          167011536,
          828120971,
          445463977,
          332142207,
          420042431
         ],
         "yaxis": "y"
        }
       ],
       "layout": {
        "annotations": [
         {
          "arrowhead": 1,
          "ax": 20,
          "ay": -30,
          "showarrow": true,
          "text": "Week: CW32<br>Impressions: 1,984,106,480",
          "x": "CW32",
          "y": 1984106480
         }
        ],
        "barmode": "relative",
        "font": {
         "size": 12
        },
        "height": 600,
        "legend": {
         "tracegroupgap": 0
        },
        "template": {
         "data": {
          "bar": [
           {
            "error_x": {
             "color": "#2a3f5f"
            },
            "error_y": {
             "color": "#2a3f5f"
            },
            "marker": {
             "line": {
              "color": "#E5ECF6",
              "width": 0.5
             },
             "pattern": {
              "fillmode": "overlay",
              "size": 10,
              "solidity": 0.2
             }
            },
            "type": "bar"
           }
          ],
          "barpolar": [
           {
            "marker": {
             "line": {
              "color": "#E5ECF6",
              "width": 0.5
             },
             "pattern": {
              "fillmode": "overlay",
              "size": 10,
              "solidity": 0.2
             }
            },
            "type": "barpolar"
           }
          ],
          "carpet": [
           {
            "aaxis": {
             "endlinecolor": "#2a3f5f",
             "gridcolor": "white",
             "linecolor": "white",
             "minorgridcolor": "white",
             "startlinecolor": "#2a3f5f"
            },
            "baxis": {
             "endlinecolor": "#2a3f5f",
             "gridcolor": "white",
             "linecolor": "white",
             "minorgridcolor": "white",
             "startlinecolor": "#2a3f5f"
            },
            "type": "carpet"
           }
          ],
          "choropleth": [
           {
            "colorbar": {
             "outlinewidth": 0,
             "ticks": ""
            },
            "type": "choropleth"
           }
          ],
          "contour": [
           {
            "colorbar": {
             "outlinewidth": 0,
             "ticks": ""
            },
            "colorscale": [
             [
              0,
              "#0d0887"
             ],
             [
              0.1111111111111111,
              "#46039f"
             ],
             [
              0.2222222222222222,
              "#7201a8"
             ],
             [
              0.3333333333333333,
              "#9c179e"
             ],
             [
              0.4444444444444444,
              "#bd3786"
             ],
             [
              0.5555555555555556,
              "#d8576b"
             ],
             [
              0.6666666666666666,
              "#ed7953"
             ],
             [
              0.7777777777777778,
              "#fb9f3a"
             ],
             [
              0.8888888888888888,
              "#fdca26"
             ],
             [
              1,
              "#f0f921"
             ]
            ],
            "type": "contour"
           }
          ],
          "contourcarpet": [
           {
            "colorbar": {
             "outlinewidth": 0,
             "ticks": ""
            },
            "type": "contourcarpet"
           }
          ],
          "heatmap": [
           {
            "colorbar": {
             "outlinewidth": 0,
             "ticks": ""
            },
            "colorscale": [
             [
              0,
              "#0d0887"
             ],
             [
              0.1111111111111111,
              "#46039f"
             ],
             [
              0.2222222222222222,
              "#7201a8"
             ],
             [
              0.3333333333333333,
              "#9c179e"
             ],
             [
              0.4444444444444444,
              "#bd3786"
             ],
             [
              0.5555555555555556,
              "#d8576b"
             ],
             [
              0.6666666666666666,
              "#ed7953"
             ],
             [
              0.7777777777777778,
              "#fb9f3a"
             ],
             [
              0.8888888888888888,
              "#fdca26"
             ],
             [
              1,
              "#f0f921"
             ]
            ],
            "type": "heatmap"
           }
          ],
          "heatmapgl": [
           {
            "colorbar": {
             "outlinewidth": 0,
             "ticks": ""
            },
            "colorscale": [
             [
              0,
              "#0d0887"
             ],
             [
              0.1111111111111111,
              "#46039f"
             ],
             [
              0.2222222222222222,
              "#7201a8"
             ],
             [
              0.3333333333333333,
              "#9c179e"
             ],
             [
              0.4444444444444444,
              "#bd3786"
             ],
             [
              0.5555555555555556,
              "#d8576b"
             ],
             [
              0.6666666666666666,
              "#ed7953"
             ],
             [
              0.7777777777777778,
              "#fb9f3a"
             ],
             [
              0.8888888888888888,
              "#fdca26"
             ],
             [
              1,
              "#f0f921"
             ]
            ],
            "type": "heatmapgl"
           }
          ],
          "histogram": [
           {
            "marker": {
             "pattern": {
              "fillmode": "overlay",
              "size": 10,
              "solidity": 0.2
             }
            },
            "type": "histogram"
           }
          ],
          "histogram2d": [
           {
            "colorbar": {
             "outlinewidth": 0,
             "ticks": ""
            },
            "colorscale": [
             [
              0,
              "#0d0887"
             ],
             [
              0.1111111111111111,
              "#46039f"
             ],
             [
              0.2222222222222222,
              "#7201a8"
             ],
             [
              0.3333333333333333,
              "#9c179e"
             ],
             [
              0.4444444444444444,
              "#bd3786"
             ],
             [
              0.5555555555555556,
              "#d8576b"
             ],
             [
              0.6666666666666666,
              "#ed7953"
             ],
             [
              0.7777777777777778,
              "#fb9f3a"
             ],
             [
              0.8888888888888888,
              "#fdca26"
             ],
             [
              1,
              "#f0f921"
             ]
            ],
            "type": "histogram2d"
           }
          ],
          "histogram2dcontour": [
           {
            "colorbar": {
             "outlinewidth": 0,
             "ticks": ""
            },
            "colorscale": [
             [
              0,
              "#0d0887"
             ],
             [
              0.1111111111111111,
              "#46039f"
             ],
             [
              0.2222222222222222,
              "#7201a8"
             ],
             [
              0.3333333333333333,
              "#9c179e"
             ],
             [
              0.4444444444444444,
              "#bd3786"
             ],
             [
              0.5555555555555556,
              "#d8576b"
             ],
             [
              0.6666666666666666,
              "#ed7953"
             ],
             [
              0.7777777777777778,
              "#fb9f3a"
             ],
             [
              0.8888888888888888,
              "#fdca26"
             ],
             [
              1,
              "#f0f921"
             ]
            ],
            "type": "histogram2dcontour"
           }
          ],
          "mesh3d": [
           {
            "colorbar": {
             "outlinewidth": 0,
             "ticks": ""
            },
            "type": "mesh3d"
           }
          ],
          "parcoords": [
           {
            "line": {
             "colorbar": {
              "outlinewidth": 0,
              "ticks": ""
             }
            },
            "type": "parcoords"
           }
          ],
          "pie": [
           {
            "automargin": true,
            "type": "pie"
           }
          ],
          "scatter": [
           {
            "fillpattern": {
             "fillmode": "overlay",
             "size": 10,
             "solidity": 0.2
            },
            "type": "scatter"
           }
          ],
          "scatter3d": [
           {
            "line": {
             "colorbar": {
              "outlinewidth": 0,
              "ticks": ""
             }
            },
            "marker": {
             "colorbar": {
              "outlinewidth": 0,
              "ticks": ""
             }
            },
            "type": "scatter3d"
           }
          ],
          "scattercarpet": [
           {
            "marker": {
             "colorbar": {
              "outlinewidth": 0,
              "ticks": ""
             }
            },
            "type": "scattercarpet"
           }
          ],
          "scattergeo": [
           {
            "marker": {
             "colorbar": {
              "outlinewidth": 0,
              "ticks": ""
             }
            },
            "type": "scattergeo"
           }
          ],
          "scattergl": [
           {
            "marker": {
             "colorbar": {
              "outlinewidth": 0,
              "ticks": ""
             }
            },
            "type": "scattergl"
           }
          ],
          "scattermapbox": [
           {
            "marker": {
             "colorbar": {
              "outlinewidth": 0,
              "ticks": ""
             }
            },
            "type": "scattermapbox"
           }
          ],
          "scatterpolar": [
           {
            "marker": {
             "colorbar": {
              "outlinewidth": 0,
              "ticks": ""
             }
            },
            "type": "scatterpolar"
           }
          ],
          "scatterpolargl": [
           {
            "marker": {
             "colorbar": {
              "outlinewidth": 0,
              "ticks": ""
             }
            },
            "type": "scatterpolargl"
           }
          ],
          "scatterternary": [
           {
            "marker": {
             "colorbar": {
              "outlinewidth": 0,
              "ticks": ""
             }
            },
            "type": "scatterternary"
           }
          ],
          "surface": [
           {
            "colorbar": {
             "outlinewidth": 0,
             "ticks": ""
            },
            "colorscale": [
             [
              0,
              "#0d0887"
             ],
             [
              0.1111111111111111,
              "#46039f"
             ],
             [
              0.2222222222222222,
              "#7201a8"
             ],
             [
              0.3333333333333333,
              "#9c179e"
             ],
             [
              0.4444444444444444,
              "#bd3786"
             ],
             [
              0.5555555555555556,
              "#d8576b"
             ],
             [
              0.6666666666666666,
              "#ed7953"
             ],
             [
              0.7777777777777778,
              "#fb9f3a"
             ],
             [
              0.8888888888888888,
              "#fdca26"
             ],
             [
              1,
              "#f0f921"
             ]
            ],
            "type": "surface"
           }
          ],
          "table": [
           {
            "cells": {
             "fill": {
              "color": "#EBF0F8"
             },
             "line": {
              "color": "white"
             }
            },
            "header": {
             "fill": {
              "color": "#C8D4E3"
             },
             "line": {
              "color": "white"
             }
            },
            "type": "table"
           }
          ]
         },
         "layout": {
          "annotationdefaults": {
           "arrowcolor": "#2a3f5f",
           "arrowhead": 0,
           "arrowwidth": 1
          },
          "autotypenumbers": "strict",
          "coloraxis": {
           "colorbar": {
            "outlinewidth": 0,
            "ticks": ""
           }
          },
          "colorscale": {
           "diverging": [
            [
             0,
             "#8e0152"
            ],
            [
             0.1,
             "#c51b7d"
            ],
            [
             0.2,
             "#de77ae"
            ],
            [
             0.3,
             "#f1b6da"
            ],
            [
             0.4,
             "#fde0ef"
            ],
            [
             0.5,
             "#f7f7f7"
            ],
            [
             0.6,
             "#e6f5d0"
            ],
            [
             0.7,
             "#b8e186"
            ],
            [
             0.8,
             "#7fbc41"
            ],
            [
             0.9,
             "#4d9221"
            ],
            [
             1,
             "#276419"
            ]
           ],
           "sequential": [
            [
             0,
             "#0d0887"
            ],
            [
             0.1111111111111111,
             "#46039f"
            ],
            [
             0.2222222222222222,
             "#7201a8"
            ],
            [
             0.3333333333333333,
             "#9c179e"
            ],
            [
             0.4444444444444444,
             "#bd3786"
            ],
            [
             0.5555555555555556,
             "#d8576b"
            ],
            [
             0.6666666666666666,
             "#ed7953"
            ],
            [
             0.7777777777777778,
             "#fb9f3a"
            ],
            [
             0.8888888888888888,
             "#fdca26"
            ],
            [
             1,
             "#f0f921"
            ]
           ],
           "sequentialminus": [
            [
             0,
             "#0d0887"
            ],
            [
             0.1111111111111111,
             "#46039f"
            ],
            [
             0.2222222222222222,
             "#7201a8"
            ],
            [
             0.3333333333333333,
             "#9c179e"
            ],
            [
             0.4444444444444444,
             "#bd3786"
            ],
            [
             0.5555555555555556,
             "#d8576b"
            ],
            [
             0.6666666666666666,
             "#ed7953"
            ],
            [
             0.7777777777777778,
             "#fb9f3a"
            ],
            [
             0.8888888888888888,
             "#fdca26"
            ],
            [
             1,
             "#f0f921"
            ]
           ]
          },
          "colorway": [
           "#636efa",
           "#EF553B",
           "#00cc96",
           "#ab63fa",
           "#FFA15A",
           "#19d3f3",
           "#FF6692",
           "#B6E880",
           "#FF97FF",
           "#FECB52"
          ],
          "font": {
           "color": "#2a3f5f"
          },
          "geo": {
           "bgcolor": "white",
           "lakecolor": "white",
           "landcolor": "#E5ECF6",
           "showlakes": true,
           "showland": true,
           "subunitcolor": "white"
          },
          "hoverlabel": {
           "align": "left"
          },
          "hovermode": "closest",
          "mapbox": {
           "style": "light"
          },
          "paper_bgcolor": "white",
          "plot_bgcolor": "#E5ECF6",
          "polar": {
           "angularaxis": {
            "gridcolor": "white",
            "linecolor": "white",
            "ticks": ""
           },
           "bgcolor": "#E5ECF6",
           "radialaxis": {
            "gridcolor": "white",
            "linecolor": "white",
            "ticks": ""
           }
          },
          "scene": {
           "xaxis": {
            "backgroundcolor": "#E5ECF6",
            "gridcolor": "white",
            "gridwidth": 2,
            "linecolor": "white",
            "showbackground": true,
            "ticks": "",
            "zerolinecolor": "white"
           },
           "yaxis": {
            "backgroundcolor": "#E5ECF6",
            "gridcolor": "white",
            "gridwidth": 2,
            "linecolor": "white",
            "showbackground": true,
            "ticks": "",
            "zerolinecolor": "white"
           },
           "zaxis": {
            "backgroundcolor": "#E5ECF6",
            "gridcolor": "white",
            "gridwidth": 2,
            "linecolor": "white",
            "showbackground": true,
            "ticks": "",
            "zerolinecolor": "white"
           }
          },
          "shapedefaults": {
           "line": {
            "color": "#2a3f5f"
           }
          },
          "ternary": {
           "aaxis": {
            "gridcolor": "white",
            "linecolor": "white",
            "ticks": ""
           },
           "baxis": {
            "gridcolor": "white",
            "linecolor": "white",
            "ticks": ""
           },
           "bgcolor": "#E5ECF6",
           "caxis": {
            "gridcolor": "white",
            "linecolor": "white",
            "ticks": ""
           }
          },
          "title": {
           "x": 0.05
          },
          "xaxis": {
           "automargin": true,
           "gridcolor": "white",
           "linecolor": "white",
           "ticks": "",
           "title": {
            "standoff": 15
           },
           "zerolinecolor": "white",
           "zerolinewidth": 2
          },
          "yaxis": {
           "automargin": true,
           "gridcolor": "white",
           "linecolor": "white",
           "ticks": "",
           "title": {
            "standoff": 15
           },
           "zerolinecolor": "white",
           "zerolinewidth": 2
          }
         }
        },
        "title": {
         "font": {
          "size": 18
         },
         "text": "Total Impressions by Calendar Week",
         "x": 0.5,
         "xanchor": "center"
        },
        "width": 1000,
        "xaxis": {
         "anchor": "y",
         "categoryarray": [
          "CW0",
          "CW1",
          "CW2",
          "CW3",
          "CW4",
          "CW5",
          "CW6",
          "CW7",
          "CW8",
          "CW9",
          "CW10",
          "CW11",
          "CW12",
          "CW13",
          "CW14",
          "CW15",
          "CW16",
          "CW17",
          "CW18",
          "CW19",
          "CW20",
          "CW21",
          "CW22",
          "CW23",
          "CW24",
          "CW25",
          "CW26",
          "CW27",
          "CW28",
          "CW29",
          "CW30",
          "CW31",
          "CW32",
          "CW33",
          "CW34",
          "CW35",
          "CW36",
          "CW37",
          "CW38",
          "CW39",
          "CW40",
          "CW41",
          "CW42",
          "CW43",
          "CW44",
          "CW45",
          "CW46",
          "CW47",
          "CW48",
          "CW49",
          "CW50",
          "CW51",
          "CW52"
         ],
         "categoryorder": "array",
         "domain": [
          0,
          1
         ],
         "title": {
          "text": "Calendar Week"
         }
        },
        "yaxis": {
         "anchor": "x",
         "domain": [
          0,
          1
         ],
         "ticktext": [
          "1M",
          "5M",
          "10M",
          "50M",
          "100M",
          "500M",
          "1B",
          "5B"
         ],
         "tickvals": [
          1000000,
          5000000,
          10000000,
          50000000,
          100000000,
          500000000,
          1000000000,
          5000000000
         ],
         "title": {
          "text": "Impressions"
         },
         "type": "log"
        }
       }
      }
     },
     "metadata": {},
     "output_type": "display_data"
    }
   ],
   "source": [
    "import plotly.express as px\n",
    "\n",
    "weekly_totals = meta_weekly_impressions[[f'CW{i}' for i in range(53)]].sum()\n",
    "\n",
    "# DataFrame for plotly\n",
    "weekly_df = pd.DataFrame({\n",
    "    'Week': weekly_totals.index,\n",
    "    'Impressions': weekly_totals.values\n",
    "})\n",
    "snapchat_color = '#c48a47'\n",
    "\n",
    "fig1 = px.bar(weekly_df, x='Week', y='Impressions',\n",
    "             title='Total Impressions by Calendar Week',\n",
    "             color_discrete_sequence=[snapchat_color],\n",
    "             hover_data={'Impressions': ':,.0f'}) \n",
    "fig1.update_layout(\n",
    "    xaxis_title='Calendar Week',\n",
    "    yaxis_title='Impressions',\n",
    "    width=1000,\n",
    "    height=600,\n",
    "    xaxis={'categoryorder': 'array', 'categoryarray': weekly_df['Week'].tolist()},\n",
    "    yaxis_type='log',\n",
    "    yaxis={\n",
    "        'tickvals': [1e6, 5e6, 1e7, 5e7, 1e8, 5e8, 1e9, 5e9],\n",
    "        'ticktext': ['1M', '5M', '10M', '50M', '100M', '500M', '1B', '5B']\n",
    "    },\n",
    "    font=dict(size=12),\n",
    "    title_font=dict(size=18),\n",
    "    title={\n",
    "        'text': 'Total Impressions by Calendar Week',\n",
    "        'x': 0.5, \n",
    "        'xanchor': 'center'\n",
    "    }\n",
    ")\n",
    "fig1.update_traces(\n",
    "    marker_line_width=0, \n",
    "    hovertemplate='Week: %{x}<br>Impressions: %{y:,.0f}<extra></extra>'  \n",
    ")\n",
    "fig1.add_annotation(\n",
    "    x='CW32',\n",
    "    y=1.984106480e9,\n",
    "    text=\"Week: CW32<br>Impressions: 1,984,106,480\",\n",
    "    showarrow=True,\n",
    "    arrowhead=1,\n",
    "    ax=20,\n",
    "    ay=-30\n",
    ")\n",
    "\n",
    "fig1.show()"
   ]
  },
  {
   "cell_type": "markdown",
   "id": "80c25979",
   "metadata": {},
   "source": [
    "##### HMFRA_TE dominated CW21 with 3.9B impressions (97.6%) using just 4 campaigns, making it very efficient."
   ]
  },
  {
   "cell_type": "code",
   "execution_count": 42,
   "id": "5deb9cfe",
   "metadata": {},
   "outputs": [
    {
     "data": {
      "application/vnd.plotly.v1+json": {
       "config": {
        "plotlyServerURL": "https://plot.ly"
       },
       "data": [
        {
         "alignmentgroup": "True",
         "hovertemplate": "%{y}: %{x:,.0f} impressions<extra></extra>",
         "legendgroup": "HMFRA_TE",
         "marker": {
          "color": "#955251",
          "pattern": {
           "shape": ""
          }
         },
         "name": "HMFRA_TE",
         "offsetgroup": "HMFRA_TE",
         "orientation": "h",
         "showlegend": true,
         "text": [
          "15.3B (46.5%)<br>20 campaigns"
         ],
         "textposition": "auto",
         "type": "bar",
         "x": [
          15296191348
         ],
         "xaxis": "x",
         "y": [
          "HMFRA_TE"
         ],
         "yaxis": "y"
        },
        {
         "alignmentgroup": "True",
         "hovertemplate": "%{y}: %{x:,.0f} impressions<extra></extra>",
         "legendgroup": "HMFRA_HM",
         "marker": {
          "color": "#6B5B95",
          "pattern": {
           "shape": ""
          }
         },
         "name": "HMFRA_HM",
         "offsetgroup": "HMFRA_HM",
         "orientation": "h",
         "showlegend": true,
         "text": [
          "12.0B (36.5%)<br>826 campaigns"
         ],
         "textposition": "auto",
         "type": "bar",
         "x": [
          11995954784
         ],
         "xaxis": "x",
         "y": [
          "HMFRA_HM"
         ],
         "yaxis": "y"
        },
        {
         "alignmentgroup": "True",
         "hovertemplate": "%{y}: %{x:,.0f} impressions<extra></extra>",
         "legendgroup": "HMFRA_JD",
         "marker": {
          "color": "#88B04B",
          "pattern": {
           "shape": ""
          }
         },
         "name": "HMFRA_JD",
         "offsetgroup": "HMFRA_JD",
         "orientation": "h",
         "showlegend": true,
         "text": [
          "3.5B (10.7%)<br>443 campaigns"
         ],
         "textposition": "auto",
         "type": "bar",
         "x": [
          3517251968
         ],
         "xaxis": "x",
         "y": [
          "HMFRA_JD"
         ],
         "yaxis": "y"
        },
        {
         "alignmentgroup": "True",
         "hovertemplate": "%{y}: %{x:,.0f} impressions<extra></extra>",
         "legendgroup": "HMFRA_Re",
         "marker": {
          "color": "#92A8D1",
          "pattern": {
           "shape": ""
          }
         },
         "name": "HMFRA_Re",
         "offsetgroup": "HMFRA_Re",
         "orientation": "h",
         "showlegend": true,
         "text": [
          "955.1M (2.9%)<br>178 campaigns"
         ],
         "textposition": "auto",
         "type": "bar",
         "x": [
          955081851
         ],
         "xaxis": "x",
         "y": [
          "HMFRA_Re"
         ],
         "yaxis": "y"
        },
        {
         "alignmentgroup": "True",
         "hovertemplate": "%{y}: %{x:,.0f} impressions<extra></extra>",
         "legendgroup": "HMFRA_KI",
         "marker": {
          "color": "#F7CAC9",
          "pattern": {
           "shape": ""
          }
         },
         "name": "HMFRA_KI",
         "offsetgroup": "HMFRA_KI",
         "orientation": "h",
         "showlegend": true,
         "text": [
          "683.3M (2.1%)<br>34 campaigns"
         ],
         "textposition": "auto",
         "type": "bar",
         "x": [
          683335224
         ],
         "xaxis": "x",
         "y": [
          "HMFRA_KI"
         ],
         "yaxis": "y"
        },
        {
         "alignmentgroup": "True",
         "hovertemplate": "%{y}: %{x:,.0f} impressions<extra></extra>",
         "legendgroup": "HMFRA_NO",
         "marker": {
          "color": "#B565A7",
          "pattern": {
           "shape": ""
          }
         },
         "name": "HMFRA_NO",
         "offsetgroup": "HMFRA_NO",
         "orientation": "h",
         "showlegend": true,
         "text": [
          "396.4M (1.2%)<br>135 campaigns"
         ],
         "textposition": "auto",
         "type": "bar",
         "x": [
          396395697
         ],
         "xaxis": "x",
         "y": [
          "HMFRA_NO"
         ],
         "yaxis": "y"
        },
        {
         "alignmentgroup": "True",
         "hovertemplate": "%{y}: %{x:,.0f} impressions<extra></extra>",
         "legendgroup": "HMFRA_HH",
         "marker": {
          "color": "#FF6F61",
          "pattern": {
           "shape": ""
          }
         },
         "name": "HMFRA_HH",
         "offsetgroup": "HMFRA_HH",
         "orientation": "h",
         "showlegend": true,
         "text": [
          "20.9M (0.1%)<br>2 campaigns"
         ],
         "textposition": "auto",
         "type": "bar",
         "x": [
          20944355
         ],
         "xaxis": "x",
         "y": [
          "HMFRA_HH"
         ],
         "yaxis": "y"
        }
       ],
       "layout": {
        "barmode": "relative",
        "height": 500,
        "legend": {
         "title": {
          "text": "advertiser_name"
         },
         "tracegroupgap": 0
        },
        "margin": {
         "t": 60
        },
        "paper_bgcolor": "white",
        "plot_bgcolor": "rgba(240,240,250,0.95)",
        "showlegend": false,
        "template": {
         "data": {
          "bar": [
           {
            "error_x": {
             "color": "#2a3f5f"
            },
            "error_y": {
             "color": "#2a3f5f"
            },
            "marker": {
             "line": {
              "color": "#E5ECF6",
              "width": 0.5
             },
             "pattern": {
              "fillmode": "overlay",
              "size": 10,
              "solidity": 0.2
             }
            },
            "type": "bar"
           }
          ],
          "barpolar": [
           {
            "marker": {
             "line": {
              "color": "#E5ECF6",
              "width": 0.5
             },
             "pattern": {
              "fillmode": "overlay",
              "size": 10,
              "solidity": 0.2
             }
            },
            "type": "barpolar"
           }
          ],
          "carpet": [
           {
            "aaxis": {
             "endlinecolor": "#2a3f5f",
             "gridcolor": "white",
             "linecolor": "white",
             "minorgridcolor": "white",
             "startlinecolor": "#2a3f5f"
            },
            "baxis": {
             "endlinecolor": "#2a3f5f",
             "gridcolor": "white",
             "linecolor": "white",
             "minorgridcolor": "white",
             "startlinecolor": "#2a3f5f"
            },
            "type": "carpet"
           }
          ],
          "choropleth": [
           {
            "colorbar": {
             "outlinewidth": 0,
             "ticks": ""
            },
            "type": "choropleth"
           }
          ],
          "contour": [
           {
            "colorbar": {
             "outlinewidth": 0,
             "ticks": ""
            },
            "colorscale": [
             [
              0,
              "#0d0887"
             ],
             [
              0.1111111111111111,
              "#46039f"
             ],
             [
              0.2222222222222222,
              "#7201a8"
             ],
             [
              0.3333333333333333,
              "#9c179e"
             ],
             [
              0.4444444444444444,
              "#bd3786"
             ],
             [
              0.5555555555555556,
              "#d8576b"
             ],
             [
              0.6666666666666666,
              "#ed7953"
             ],
             [
              0.7777777777777778,
              "#fb9f3a"
             ],
             [
              0.8888888888888888,
              "#fdca26"
             ],
             [
              1,
              "#f0f921"
             ]
            ],
            "type": "contour"
           }
          ],
          "contourcarpet": [
           {
            "colorbar": {
             "outlinewidth": 0,
             "ticks": ""
            },
            "type": "contourcarpet"
           }
          ],
          "heatmap": [
           {
            "colorbar": {
             "outlinewidth": 0,
             "ticks": ""
            },
            "colorscale": [
             [
              0,
              "#0d0887"
             ],
             [
              0.1111111111111111,
              "#46039f"
             ],
             [
              0.2222222222222222,
              "#7201a8"
             ],
             [
              0.3333333333333333,
              "#9c179e"
             ],
             [
              0.4444444444444444,
              "#bd3786"
             ],
             [
              0.5555555555555556,
              "#d8576b"
             ],
             [
              0.6666666666666666,
              "#ed7953"
             ],
             [
              0.7777777777777778,
              "#fb9f3a"
             ],
             [
              0.8888888888888888,
              "#fdca26"
             ],
             [
              1,
              "#f0f921"
             ]
            ],
            "type": "heatmap"
           }
          ],
          "heatmapgl": [
           {
            "colorbar": {
             "outlinewidth": 0,
             "ticks": ""
            },
            "colorscale": [
             [
              0,
              "#0d0887"
             ],
             [
              0.1111111111111111,
              "#46039f"
             ],
             [
              0.2222222222222222,
              "#7201a8"
             ],
             [
              0.3333333333333333,
              "#9c179e"
             ],
             [
              0.4444444444444444,
              "#bd3786"
             ],
             [
              0.5555555555555556,
              "#d8576b"
             ],
             [
              0.6666666666666666,
              "#ed7953"
             ],
             [
              0.7777777777777778,
              "#fb9f3a"
             ],
             [
              0.8888888888888888,
              "#fdca26"
             ],
             [
              1,
              "#f0f921"
             ]
            ],
            "type": "heatmapgl"
           }
          ],
          "histogram": [
           {
            "marker": {
             "pattern": {
              "fillmode": "overlay",
              "size": 10,
              "solidity": 0.2
             }
            },
            "type": "histogram"
           }
          ],
          "histogram2d": [
           {
            "colorbar": {
             "outlinewidth": 0,
             "ticks": ""
            },
            "colorscale": [
             [
              0,
              "#0d0887"
             ],
             [
              0.1111111111111111,
              "#46039f"
             ],
             [
              0.2222222222222222,
              "#7201a8"
             ],
             [
              0.3333333333333333,
              "#9c179e"
             ],
             [
              0.4444444444444444,
              "#bd3786"
             ],
             [
              0.5555555555555556,
              "#d8576b"
             ],
             [
              0.6666666666666666,
              "#ed7953"
             ],
             [
              0.7777777777777778,
              "#fb9f3a"
             ],
             [
              0.8888888888888888,
              "#fdca26"
             ],
             [
              1,
              "#f0f921"
             ]
            ],
            "type": "histogram2d"
           }
          ],
          "histogram2dcontour": [
           {
            "colorbar": {
             "outlinewidth": 0,
             "ticks": ""
            },
            "colorscale": [
             [
              0,
              "#0d0887"
             ],
             [
              0.1111111111111111,
              "#46039f"
             ],
             [
              0.2222222222222222,
              "#7201a8"
             ],
             [
              0.3333333333333333,
              "#9c179e"
             ],
             [
              0.4444444444444444,
              "#bd3786"
             ],
             [
              0.5555555555555556,
              "#d8576b"
             ],
             [
              0.6666666666666666,
              "#ed7953"
             ],
             [
              0.7777777777777778,
              "#fb9f3a"
             ],
             [
              0.8888888888888888,
              "#fdca26"
             ],
             [
              1,
              "#f0f921"
             ]
            ],
            "type": "histogram2dcontour"
           }
          ],
          "mesh3d": [
           {
            "colorbar": {
             "outlinewidth": 0,
             "ticks": ""
            },
            "type": "mesh3d"
           }
          ],
          "parcoords": [
           {
            "line": {
             "colorbar": {
              "outlinewidth": 0,
              "ticks": ""
             }
            },
            "type": "parcoords"
           }
          ],
          "pie": [
           {
            "automargin": true,
            "type": "pie"
           }
          ],
          "scatter": [
           {
            "fillpattern": {
             "fillmode": "overlay",
             "size": 10,
             "solidity": 0.2
            },
            "type": "scatter"
           }
          ],
          "scatter3d": [
           {
            "line": {
             "colorbar": {
              "outlinewidth": 0,
              "ticks": ""
             }
            },
            "marker": {
             "colorbar": {
              "outlinewidth": 0,
              "ticks": ""
             }
            },
            "type": "scatter3d"
           }
          ],
          "scattercarpet": [
           {
            "marker": {
             "colorbar": {
              "outlinewidth": 0,
              "ticks": ""
             }
            },
            "type": "scattercarpet"
           }
          ],
          "scattergeo": [
           {
            "marker": {
             "colorbar": {
              "outlinewidth": 0,
              "ticks": ""
             }
            },
            "type": "scattergeo"
           }
          ],
          "scattergl": [
           {
            "marker": {
             "colorbar": {
              "outlinewidth": 0,
              "ticks": ""
             }
            },
            "type": "scattergl"
           }
          ],
          "scattermapbox": [
           {
            "marker": {
             "colorbar": {
              "outlinewidth": 0,
              "ticks": ""
             }
            },
            "type": "scattermapbox"
           }
          ],
          "scatterpolar": [
           {
            "marker": {
             "colorbar": {
              "outlinewidth": 0,
              "ticks": ""
             }
            },
            "type": "scatterpolar"
           }
          ],
          "scatterpolargl": [
           {
            "marker": {
             "colorbar": {
              "outlinewidth": 0,
              "ticks": ""
             }
            },
            "type": "scatterpolargl"
           }
          ],
          "scatterternary": [
           {
            "marker": {
             "colorbar": {
              "outlinewidth": 0,
              "ticks": ""
             }
            },
            "type": "scatterternary"
           }
          ],
          "surface": [
           {
            "colorbar": {
             "outlinewidth": 0,
             "ticks": ""
            },
            "colorscale": [
             [
              0,
              "#0d0887"
             ],
             [
              0.1111111111111111,
              "#46039f"
             ],
             [
              0.2222222222222222,
              "#7201a8"
             ],
             [
              0.3333333333333333,
              "#9c179e"
             ],
             [
              0.4444444444444444,
              "#bd3786"
             ],
             [
              0.5555555555555556,
              "#d8576b"
             ],
             [
              0.6666666666666666,
              "#ed7953"
             ],
             [
              0.7777777777777778,
              "#fb9f3a"
             ],
             [
              0.8888888888888888,
              "#fdca26"
             ],
             [
              1,
              "#f0f921"
             ]
            ],
            "type": "surface"
           }
          ],
          "table": [
           {
            "cells": {
             "fill": {
              "color": "#EBF0F8"
             },
             "line": {
              "color": "white"
             }
            },
            "header": {
             "fill": {
              "color": "#C8D4E3"
             },
             "line": {
              "color": "white"
             }
            },
            "type": "table"
           }
          ]
         },
         "layout": {
          "annotationdefaults": {
           "arrowcolor": "#2a3f5f",
           "arrowhead": 0,
           "arrowwidth": 1
          },
          "autotypenumbers": "strict",
          "coloraxis": {
           "colorbar": {
            "outlinewidth": 0,
            "ticks": ""
           }
          },
          "colorscale": {
           "diverging": [
            [
             0,
             "#8e0152"
            ],
            [
             0.1,
             "#c51b7d"
            ],
            [
             0.2,
             "#de77ae"
            ],
            [
             0.3,
             "#f1b6da"
            ],
            [
             0.4,
             "#fde0ef"
            ],
            [
             0.5,
             "#f7f7f7"
            ],
            [
             0.6,
             "#e6f5d0"
            ],
            [
             0.7,
             "#b8e186"
            ],
            [
             0.8,
             "#7fbc41"
            ],
            [
             0.9,
             "#4d9221"
            ],
            [
             1,
             "#276419"
            ]
           ],
           "sequential": [
            [
             0,
             "#0d0887"
            ],
            [
             0.1111111111111111,
             "#46039f"
            ],
            [
             0.2222222222222222,
             "#7201a8"
            ],
            [
             0.3333333333333333,
             "#9c179e"
            ],
            [
             0.4444444444444444,
             "#bd3786"
            ],
            [
             0.5555555555555556,
             "#d8576b"
            ],
            [
             0.6666666666666666,
             "#ed7953"
            ],
            [
             0.7777777777777778,
             "#fb9f3a"
            ],
            [
             0.8888888888888888,
             "#fdca26"
            ],
            [
             1,
             "#f0f921"
            ]
           ],
           "sequentialminus": [
            [
             0,
             "#0d0887"
            ],
            [
             0.1111111111111111,
             "#46039f"
            ],
            [
             0.2222222222222222,
             "#7201a8"
            ],
            [
             0.3333333333333333,
             "#9c179e"
            ],
            [
             0.4444444444444444,
             "#bd3786"
            ],
            [
             0.5555555555555556,
             "#d8576b"
            ],
            [
             0.6666666666666666,
             "#ed7953"
            ],
            [
             0.7777777777777778,
             "#fb9f3a"
            ],
            [
             0.8888888888888888,
             "#fdca26"
            ],
            [
             1,
             "#f0f921"
            ]
           ]
          },
          "colorway": [
           "#636efa",
           "#EF553B",
           "#00cc96",
           "#ab63fa",
           "#FFA15A",
           "#19d3f3",
           "#FF6692",
           "#B6E880",
           "#FF97FF",
           "#FECB52"
          ],
          "font": {
           "color": "#2a3f5f"
          },
          "geo": {
           "bgcolor": "white",
           "lakecolor": "white",
           "landcolor": "#E5ECF6",
           "showlakes": true,
           "showland": true,
           "subunitcolor": "white"
          },
          "hoverlabel": {
           "align": "left"
          },
          "hovermode": "closest",
          "mapbox": {
           "style": "light"
          },
          "paper_bgcolor": "white",
          "plot_bgcolor": "#E5ECF6",
          "polar": {
           "angularaxis": {
            "gridcolor": "white",
            "linecolor": "white",
            "ticks": ""
           },
           "bgcolor": "#E5ECF6",
           "radialaxis": {
            "gridcolor": "white",
            "linecolor": "white",
            "ticks": ""
           }
          },
          "scene": {
           "xaxis": {
            "backgroundcolor": "#E5ECF6",
            "gridcolor": "white",
            "gridwidth": 2,
            "linecolor": "white",
            "showbackground": true,
            "ticks": "",
            "zerolinecolor": "white"
           },
           "yaxis": {
            "backgroundcolor": "#E5ECF6",
            "gridcolor": "white",
            "gridwidth": 2,
            "linecolor": "white",
            "showbackground": true,
            "ticks": "",
            "zerolinecolor": "white"
           },
           "zaxis": {
            "backgroundcolor": "#E5ECF6",
            "gridcolor": "white",
            "gridwidth": 2,
            "linecolor": "white",
            "showbackground": true,
            "ticks": "",
            "zerolinecolor": "white"
           }
          },
          "shapedefaults": {
           "line": {
            "color": "#2a3f5f"
           }
          },
          "ternary": {
           "aaxis": {
            "gridcolor": "white",
            "linecolor": "white",
            "ticks": ""
           },
           "baxis": {
            "gridcolor": "white",
            "linecolor": "white",
            "ticks": ""
           },
           "bgcolor": "#E5ECF6",
           "caxis": {
            "gridcolor": "white",
            "linecolor": "white",
            "ticks": ""
           }
          },
          "title": {
           "x": 0.05
          },
          "xaxis": {
           "automargin": true,
           "gridcolor": "white",
           "linecolor": "white",
           "ticks": "",
           "title": {
            "standoff": 15
           },
           "zerolinecolor": "white",
           "zerolinewidth": 2
          },
          "yaxis": {
           "automargin": true,
           "gridcolor": "white",
           "linecolor": "white",
           "ticks": "",
           "title": {
            "standoff": 15
           },
           "zerolinecolor": "white",
           "zerolinewidth": 2
          }
         }
        },
        "width": 800,
        "xaxis": {
         "anchor": "y",
         "domain": [
          0,
          1
         ],
         "ticktext": [
          "1M",
          "5M",
          "10M",
          "50M",
          "100M",
          "500M",
          "1B",
          "5B"
         ],
         "tickvals": [
          1000000,
          5000000,
          10000000,
          50000000,
          100000000,
          500000000,
          1000000000,
          5000000000
         ],
         "title": {
          "text": "Total_Impressions"
         },
         "type": "log"
        },
        "yaxis": {
         "anchor": "x",
         "categoryarray": [
          "HMFRA_HH",
          "HMFRA_NO",
          "HMFRA_KI",
          "HMFRA_Re",
          "HMFRA_JD",
          "HMFRA_HM",
          "HMFRA_TE"
         ],
         "categoryorder": "array",
         "domain": [
          0,
          1
         ],
         "title": {
          "text": "advertiser_name"
         }
        }
       }
      }
     },
     "metadata": {},
     "output_type": "display_data"
    }
   ],
   "source": [
    "import pandas as pd\n",
    "import plotly.express as px\n",
    "\n",
    "# Function to format large numbers into shorthand (e.g., 3,919,492,456 → \"3.9B\")\n",
    "def format_number(number):\n",
    "    if number >= 1e9:\n",
    "        return f\"{number/1e9:.1f}B\"\n",
    "    elif number >= 1e6:\n",
    "        return f\"{number/1e6:.1f}M\"\n",
    "    elif number >= 1e3:\n",
    "        return f\"{number/1e3:.1f}K\"\n",
    "    else:\n",
    "        return f\"{number:,.0f}\"\n",
    "\n",
    "# Step 1: Group by Campaign_id to ensure unique campaigns, then sum impressions by advertiser\n",
    "weekly_cols = [f'CW{i}' for i in range(53)]\n",
    "advertiser_summary = meta_weekly_impressions.groupby(['Campaign_id', 'advertiser_name'])[weekly_cols].sum().sum(axis=1).reset_index(name='Total_Impressions')\n",
    "advertiser_summary = advertiser_summary.groupby('advertiser_name')['Total_Impressions'].sum().reset_index()\n",
    "\n",
    "# Step 2: Filter out advertisers with zero impressions\n",
    "advertiser_summary = advertiser_summary[advertiser_summary['Total_Impressions'] > 0]\n",
    "\n",
    "# Step 3: Calculate total impressions across all advertisers\n",
    "total_impressions = advertiser_summary['Total_Impressions'].sum()\n",
    "\n",
    "# Step 4: Add percentage contribution\n",
    "advertiser_summary['Percentage'] = (advertiser_summary['Total_Impressions'] / total_impressions * 100).round(1)\n",
    "\n",
    "# Step 5: Count number of unique campaigns per advertiser\n",
    "campaign_counts = meta_weekly_impressions.groupby(['Campaign_id', 'advertiser_name']).first().reset_index().groupby('advertiser_name').size().reset_index(name='Campaign_Count')\n",
    "advertiser_summary = advertiser_summary.merge(campaign_counts, on='advertiser_name', how='left').fillna(0)\n",
    "advertiser_summary['Campaign_Count'] = advertiser_summary['Campaign_Count'].astype(int)\n",
    "\n",
    "# Step 6: Create text for display\n",
    "advertiser_summary['Text'] = advertiser_summary.apply(\n",
    "    lambda row: f\"{format_number(row['Total_Impressions'])} ({row['Percentage']}%)<br>{row['Campaign_Count']} campaigns\", axis=1)\n",
    "\n",
    "# Step 7: Sort by total impressions\n",
    "advertiser_summary = advertiser_summary.sort_values('Total_Impressions', ascending=False)\n",
    "\n",
    "# Step 8: Visualize\n",
    "fig = px.bar(\n",
    "    advertiser_summary, \n",
    "    x='Total_Impressions', \n",
    "    y='advertiser_name',\n",
    "    color='advertiser_name',\n",
    "    color_discrete_map={\n",
    "        'HMFRA_HH': '#FF6F61',\n",
    "        'HMFRA_HM': '#6B5B95',\n",
    "        'HMFRA_JD': '#88B04B',\n",
    "        'HMFRA_KI': '#F7CAC9',\n",
    "        'HMFRA_Re': '#92A8D1',\n",
    "        'HMFRA_TE': '#955251',\n",
    "        'HMFRA_NO': '#B565A7',\n",
    "        'HMFRA_[D': '#009B77'\n",
    "    },\n",
    "    text='Text'\n",
    ")\n",
    "\n",
    "# Update layout\n",
    "fig.update_layout(\n",
    "    xaxis_type='log',\n",
    "    xaxis={\n",
    "        'tickvals': [1e6, 5e6, 1e7, 5e7, 1e8, 5e8, 1e9, 5e9],\n",
    "        'ticktext': ['1M', '5M', '10M', '50M', '100M', '500M', '1B', '5B']\n",
    "    },\n",
    "    width=800,\n",
    "    height=500,\n",
    "    showlegend=False,\n",
    "    paper_bgcolor='white',\n",
    "    plot_bgcolor='rgba(240,240,250,0.95)'\n",
    ")\n",
    "\n",
    "fig.update_traces(\n",
    "    textposition='auto',  \n",
    "    hovertemplate='%{y}: %{x:,.0f} impressions<extra></extra>'\n",
    ")\n",
    "\n",
    "fig.show()"
   ]
  },
  {
   "cell_type": "code",
   "execution_count": null,
   "id": "fd0c19aa",
   "metadata": {},
   "outputs": [
    {
     "data": {
      "application/vnd.plotly.v1+json": {
       "config": {
        "plotlyServerURL": "https://plot.ly"
       },
       "data": [
        {
         "hovertemplate": "Duration: %{x} weeks<br>Avg Impressions: %{y:,.0f}<extra></extra>",
         "legendgroup": "",
         "marker": {
          "color": "#0866FF",
          "line": {
           "width": 0
          },
          "size": [
           4575872.502226179,
           3759927.556640625,
           785926.5515151515,
           979577.5450980392,
           716436.3123188405,
           1028874.575,
           130424.5,
           448461.28333333327
          ],
          "sizemode": "area",
          "sizeref": 11439.681255565449,
          "symbol": "circle"
         },
         "mode": "markers",
         "name": "",
         "orientation": "v",
         "showlegend": false,
         "type": "scatter",
         "x": [
          1,
          2,
          3,
          4,
          5,
          6,
          8,
          10
         ],
         "xaxis": "x",
         "y": [
          4575872.502226179,
          3759927.556640625,
          785926.5515151515,
          979577.5450980392,
          716436.3123188405,
          1028874.575,
          130424.5,
          448461.28333333327
         ],
         "yaxis": "y"
        },
        {
         "hovertemplate": "Duration: %{x} weeks<br>Avg Impressions: %{y:,.0f}<extra></extra>",
         "legendgroup": "",
         "line": {
          "color": "#0866FF"
         },
         "marker": {
          "color": "#0866FF",
          "line": {
           "width": 0
          },
          "symbol": "circle"
         },
         "mode": "lines",
         "name": "",
         "showlegend": false,
         "type": "scatter",
         "x": [
          1,
          2,
          3,
          4,
          5,
          6,
          8,
          10
         ],
         "xaxis": "x",
         "y": [
          3161069.8733872795,
          2746132.5133561157,
          2331195.153324952,
          1916257.7932937883,
          1501320.4332626245,
          1086383.073231461,
          256508.35316913342,
          -573366.366893194
         ],
         "yaxis": "y"
        }
       ],
       "layout": {
        "annotations": [
         {
          "arrowhead": 1,
          "ax": 20,
          "ay": -30,
          "showarrow": true,
          "text": "1.0 weeks: 4.6M",
          "x": 1,
          "y": 4575872.502226179
         },
         {
          "arrowhead": 1,
          "ax": 20,
          "ay": 30,
          "showarrow": true,
          "text": "8.0 weeks: 0.1M",
          "x": 8,
          "y": 130424.5
         }
        ],
        "height": 500,
        "legend": {
         "itemsizing": "constant",
         "tracegroupgap": 0
        },
        "template": {
         "data": {
          "bar": [
           {
            "error_x": {
             "color": "#2a3f5f"
            },
            "error_y": {
             "color": "#2a3f5f"
            },
            "marker": {
             "line": {
              "color": "#E5ECF6",
              "width": 0.5
             },
             "pattern": {
              "fillmode": "overlay",
              "size": 10,
              "solidity": 0.2
             }
            },
            "type": "bar"
           }
          ],
          "barpolar": [
           {
            "marker": {
             "line": {
              "color": "#E5ECF6",
              "width": 0.5
             },
             "pattern": {
              "fillmode": "overlay",
              "size": 10,
              "solidity": 0.2
             }
            },
            "type": "barpolar"
           }
          ],
          "carpet": [
           {
            "aaxis": {
             "endlinecolor": "#2a3f5f",
             "gridcolor": "white",
             "linecolor": "white",
             "minorgridcolor": "white",
             "startlinecolor": "#2a3f5f"
            },
            "baxis": {
             "endlinecolor": "#2a3f5f",
             "gridcolor": "white",
             "linecolor": "white",
             "minorgridcolor": "white",
             "startlinecolor": "#2a3f5f"
            },
            "type": "carpet"
           }
          ],
          "choropleth": [
           {
            "colorbar": {
             "outlinewidth": 0,
             "ticks": ""
            },
            "type": "choropleth"
           }
          ],
          "contour": [
           {
            "colorbar": {
             "outlinewidth": 0,
             "ticks": ""
            },
            "colorscale": [
             [
              0,
              "#0d0887"
             ],
             [
              0.1111111111111111,
              "#46039f"
             ],
             [
              0.2222222222222222,
              "#7201a8"
             ],
             [
              0.3333333333333333,
              "#9c179e"
             ],
             [
              0.4444444444444444,
              "#bd3786"
             ],
             [
              0.5555555555555556,
              "#d8576b"
             ],
             [
              0.6666666666666666,
              "#ed7953"
             ],
             [
              0.7777777777777778,
              "#fb9f3a"
             ],
             [
              0.8888888888888888,
              "#fdca26"
             ],
             [
              1,
              "#f0f921"
             ]
            ],
            "type": "contour"
           }
          ],
          "contourcarpet": [
           {
            "colorbar": {
             "outlinewidth": 0,
             "ticks": ""
            },
            "type": "contourcarpet"
           }
          ],
          "heatmap": [
           {
            "colorbar": {
             "outlinewidth": 0,
             "ticks": ""
            },
            "colorscale": [
             [
              0,
              "#0d0887"
             ],
             [
              0.1111111111111111,
              "#46039f"
             ],
             [
              0.2222222222222222,
              "#7201a8"
             ],
             [
              0.3333333333333333,
              "#9c179e"
             ],
             [
              0.4444444444444444,
              "#bd3786"
             ],
             [
              0.5555555555555556,
              "#d8576b"
             ],
             [
              0.6666666666666666,
              "#ed7953"
             ],
             [
              0.7777777777777778,
              "#fb9f3a"
             ],
             [
              0.8888888888888888,
              "#fdca26"
             ],
             [
              1,
              "#f0f921"
             ]
            ],
            "type": "heatmap"
           }
          ],
          "heatmapgl": [
           {
            "colorbar": {
             "outlinewidth": 0,
             "ticks": ""
            },
            "colorscale": [
             [
              0,
              "#0d0887"
             ],
             [
              0.1111111111111111,
              "#46039f"
             ],
             [
              0.2222222222222222,
              "#7201a8"
             ],
             [
              0.3333333333333333,
              "#9c179e"
             ],
             [
              0.4444444444444444,
              "#bd3786"
             ],
             [
              0.5555555555555556,
              "#d8576b"
             ],
             [
              0.6666666666666666,
              "#ed7953"
             ],
             [
              0.7777777777777778,
              "#fb9f3a"
             ],
             [
              0.8888888888888888,
              "#fdca26"
             ],
             [
              1,
              "#f0f921"
             ]
            ],
            "type": "heatmapgl"
           }
          ],
          "histogram": [
           {
            "marker": {
             "pattern": {
              "fillmode": "overlay",
              "size": 10,
              "solidity": 0.2
             }
            },
            "type": "histogram"
           }
          ],
          "histogram2d": [
           {
            "colorbar": {
             "outlinewidth": 0,
             "ticks": ""
            },
            "colorscale": [
             [
              0,
              "#0d0887"
             ],
             [
              0.1111111111111111,
              "#46039f"
             ],
             [
              0.2222222222222222,
              "#7201a8"
             ],
             [
              0.3333333333333333,
              "#9c179e"
             ],
             [
              0.4444444444444444,
              "#bd3786"
             ],
             [
              0.5555555555555556,
              "#d8576b"
             ],
             [
              0.6666666666666666,
              "#ed7953"
             ],
             [
              0.7777777777777778,
              "#fb9f3a"
             ],
             [
              0.8888888888888888,
              "#fdca26"
             ],
             [
              1,
              "#f0f921"
             ]
            ],
            "type": "histogram2d"
           }
          ],
          "histogram2dcontour": [
           {
            "colorbar": {
             "outlinewidth": 0,
             "ticks": ""
            },
            "colorscale": [
             [
              0,
              "#0d0887"
             ],
             [
              0.1111111111111111,
              "#46039f"
             ],
             [
              0.2222222222222222,
              "#7201a8"
             ],
             [
              0.3333333333333333,
              "#9c179e"
             ],
             [
              0.4444444444444444,
              "#bd3786"
             ],
             [
              0.5555555555555556,
              "#d8576b"
             ],
             [
              0.6666666666666666,
              "#ed7953"
             ],
             [
              0.7777777777777778,
              "#fb9f3a"
             ],
             [
              0.8888888888888888,
              "#fdca26"
             ],
             [
              1,
              "#f0f921"
             ]
            ],
            "type": "histogram2dcontour"
           }
          ],
          "mesh3d": [
           {
            "colorbar": {
             "outlinewidth": 0,
             "ticks": ""
            },
            "type": "mesh3d"
           }
          ],
          "parcoords": [
           {
            "line": {
             "colorbar": {
              "outlinewidth": 0,
              "ticks": ""
             }
            },
            "type": "parcoords"
           }
          ],
          "pie": [
           {
            "automargin": true,
            "type": "pie"
           }
          ],
          "scatter": [
           {
            "fillpattern": {
             "fillmode": "overlay",
             "size": 10,
             "solidity": 0.2
            },
            "type": "scatter"
           }
          ],
          "scatter3d": [
           {
            "line": {
             "colorbar": {
              "outlinewidth": 0,
              "ticks": ""
             }
            },
            "marker": {
             "colorbar": {
              "outlinewidth": 0,
              "ticks": ""
             }
            },
            "type": "scatter3d"
           }
          ],
          "scattercarpet": [
           {
            "marker": {
             "colorbar": {
              "outlinewidth": 0,
              "ticks": ""
             }
            },
            "type": "scattercarpet"
           }
          ],
          "scattergeo": [
           {
            "marker": {
             "colorbar": {
              "outlinewidth": 0,
              "ticks": ""
             }
            },
            "type": "scattergeo"
           }
          ],
          "scattergl": [
           {
            "marker": {
             "colorbar": {
              "outlinewidth": 0,
              "ticks": ""
             }
            },
            "type": "scattergl"
           }
          ],
          "scattermapbox": [
           {
            "marker": {
             "colorbar": {
              "outlinewidth": 0,
              "ticks": ""
             }
            },
            "type": "scattermapbox"
           }
          ],
          "scatterpolar": [
           {
            "marker": {
             "colorbar": {
              "outlinewidth": 0,
              "ticks": ""
             }
            },
            "type": "scatterpolar"
           }
          ],
          "scatterpolargl": [
           {
            "marker": {
             "colorbar": {
              "outlinewidth": 0,
              "ticks": ""
             }
            },
            "type": "scatterpolargl"
           }
          ],
          "scatterternary": [
           {
            "marker": {
             "colorbar": {
              "outlinewidth": 0,
              "ticks": ""
             }
            },
            "type": "scatterternary"
           }
          ],
          "surface": [
           {
            "colorbar": {
             "outlinewidth": 0,
             "ticks": ""
            },
            "colorscale": [
             [
              0,
              "#0d0887"
             ],
             [
              0.1111111111111111,
              "#46039f"
             ],
             [
              0.2222222222222222,
              "#7201a8"
             ],
             [
              0.3333333333333333,
              "#9c179e"
             ],
             [
              0.4444444444444444,
              "#bd3786"
             ],
             [
              0.5555555555555556,
              "#d8576b"
             ],
             [
              0.6666666666666666,
              "#ed7953"
             ],
             [
              0.7777777777777778,
              "#fb9f3a"
             ],
             [
              0.8888888888888888,
              "#fdca26"
             ],
             [
              1,
              "#f0f921"
             ]
            ],
            "type": "surface"
           }
          ],
          "table": [
           {
            "cells": {
             "fill": {
              "color": "#EBF0F8"
             },
             "line": {
              "color": "white"
             }
            },
            "header": {
             "fill": {
              "color": "#C8D4E3"
             },
             "line": {
              "color": "white"
             }
            },
            "type": "table"
           }
          ]
         },
         "layout": {
          "annotationdefaults": {
           "arrowcolor": "#2a3f5f",
           "arrowhead": 0,
           "arrowwidth": 1
          },
          "autotypenumbers": "strict",
          "coloraxis": {
           "colorbar": {
            "outlinewidth": 0,
            "ticks": ""
           }
          },
          "colorscale": {
           "diverging": [
            [
             0,
             "#8e0152"
            ],
            [
             0.1,
             "#c51b7d"
            ],
            [
             0.2,
             "#de77ae"
            ],
            [
             0.3,
             "#f1b6da"
            ],
            [
             0.4,
             "#fde0ef"
            ],
            [
             0.5,
             "#f7f7f7"
            ],
            [
             0.6,
             "#e6f5d0"
            ],
            [
             0.7,
             "#b8e186"
            ],
            [
             0.8,
             "#7fbc41"
            ],
            [
             0.9,
             "#4d9221"
            ],
            [
             1,
             "#276419"
            ]
           ],
           "sequential": [
            [
             0,
             "#0d0887"
            ],
            [
             0.1111111111111111,
             "#46039f"
            ],
            [
             0.2222222222222222,
             "#7201a8"
            ],
            [
             0.3333333333333333,
             "#9c179e"
            ],
            [
             0.4444444444444444,
             "#bd3786"
            ],
            [
             0.5555555555555556,
             "#d8576b"
            ],
            [
             0.6666666666666666,
             "#ed7953"
            ],
            [
             0.7777777777777778,
             "#fb9f3a"
            ],
            [
             0.8888888888888888,
             "#fdca26"
            ],
            [
             1,
             "#f0f921"
            ]
           ],
           "sequentialminus": [
            [
             0,
             "#0d0887"
            ],
            [
             0.1111111111111111,
             "#46039f"
            ],
            [
             0.2222222222222222,
             "#7201a8"
            ],
            [
             0.3333333333333333,
             "#9c179e"
            ],
            [
             0.4444444444444444,
             "#bd3786"
            ],
            [
             0.5555555555555556,
             "#d8576b"
            ],
            [
             0.6666666666666666,
             "#ed7953"
            ],
            [
             0.7777777777777778,
             "#fb9f3a"
            ],
            [
             0.8888888888888888,
             "#fdca26"
            ],
            [
             1,
             "#f0f921"
            ]
           ]
          },
          "colorway": [
           "#636efa",
           "#EF553B",
           "#00cc96",
           "#ab63fa",
           "#FFA15A",
           "#19d3f3",
           "#FF6692",
           "#B6E880",
           "#FF97FF",
           "#FECB52"
          ],
          "font": {
           "color": "#2a3f5f"
          },
          "geo": {
           "bgcolor": "white",
           "lakecolor": "white",
           "landcolor": "#E5ECF6",
           "showlakes": true,
           "showland": true,
           "subunitcolor": "white"
          },
          "hoverlabel": {
           "align": "left"
          },
          "hovermode": "closest",
          "mapbox": {
           "style": "light"
          },
          "paper_bgcolor": "white",
          "plot_bgcolor": "#E5ECF6",
          "polar": {
           "angularaxis": {
            "gridcolor": "white",
            "linecolor": "white",
            "ticks": ""
           },
           "bgcolor": "#E5ECF6",
           "radialaxis": {
            "gridcolor": "white",
            "linecolor": "white",
            "ticks": ""
           }
          },
          "scene": {
           "xaxis": {
            "backgroundcolor": "#E5ECF6",
            "gridcolor": "white",
            "gridwidth": 2,
            "linecolor": "white",
            "showbackground": true,
            "ticks": "",
            "zerolinecolor": "white"
           },
           "yaxis": {
            "backgroundcolor": "#E5ECF6",
            "gridcolor": "white",
            "gridwidth": 2,
            "linecolor": "white",
            "showbackground": true,
            "ticks": "",
            "zerolinecolor": "white"
           },
           "zaxis": {
            "backgroundcolor": "#E5ECF6",
            "gridcolor": "white",
            "gridwidth": 2,
            "linecolor": "white",
            "showbackground": true,
            "ticks": "",
            "zerolinecolor": "white"
           }
          },
          "shapedefaults": {
           "line": {
            "color": "#2a3f5f"
           }
          },
          "ternary": {
           "aaxis": {
            "gridcolor": "white",
            "linecolor": "white",
            "ticks": ""
           },
           "baxis": {
            "gridcolor": "white",
            "linecolor": "white",
            "ticks": ""
           },
           "bgcolor": "#E5ECF6",
           "caxis": {
            "gridcolor": "white",
            "linecolor": "white",
            "ticks": ""
           }
          },
          "title": {
           "x": 0.05
          },
          "xaxis": {
           "automargin": true,
           "gridcolor": "white",
           "linecolor": "white",
           "ticks": "",
           "title": {
            "standoff": 15
           },
           "zerolinecolor": "white",
           "zerolinewidth": 2
          },
          "yaxis": {
           "automargin": true,
           "gridcolor": "white",
           "linecolor": "white",
           "ticks": "",
           "title": {
            "standoff": 15
           },
           "zerolinecolor": "white",
           "zerolinewidth": 2
          }
         }
        },
        "title": {
         "text": "Average Weekly Impressions by Campaign Duration",
         "x": 0.5,
         "xanchor": "center"
        },
        "width": 800,
        "xaxis": {
         "anchor": "y",
         "domain": [
          0,
          1
         ],
         "title": {
          "text": "Campaign Duration (Weeks)"
         }
        },
        "yaxis": {
         "anchor": "x",
         "domain": [
          0,
          1
         ],
         "ticktext": [
          "1M",
          "5M",
          "10M",
          "50M",
          "100M",
          "500M",
          "1B",
          "5B"
         ],
         "tickvals": [
          1000000,
          5000000,
          10000000,
          50000000,
          100000000,
          500000000,
          1000000000,
          5000000000
         ],
         "title": {
          "text": "Average Impressions per Week"
         },
         "type": "log"
        }
       }
      }
     },
     "metadata": {},
     "output_type": "display_data"
    }
   ],
   "source": [
    "import plotly.express as px\n",
    "\n",
    "# Calculate average weekly impressions per campaign duration\n",
    "campaign_impressions = meta_weekly_impressions[[f'CW{i}' for i in range(53)]].sum(axis=1)\n",
    "meta_weekly_impressions['Total_Impressions'] = campaign_impressions\n",
    "meta_weekly_impressions['Avg_Impressions_Per_Week'] = meta_weekly_impressions['Total_Impressions'] / meta_weekly_impressions['total_weeks']\n",
    "duration_analysis = meta_weekly_impressions.groupby('total_weeks')['Avg_Impressions_Per_Week'].mean().reset_index()\n",
    "\n",
    "# Visualize\n",
    "fig = px.scatter(duration_analysis, \n",
    "                 x='total_weeks', \n",
    "                 y='Avg_Impressions_Per_Week',\n",
    "                 size='Avg_Impressions_Per_Week', \n",
    "                 title='Average Weekly Impressions by Campaign Duration',\n",
    "                 labels={\n",
    "                     'total_weeks': 'Campaign Duration (Weeks)',\n",
    "                     'Avg_Impressions_Per_Week': 'Average Impressions per Week'\n",
    "                 },\n",
    "                 trendline='ols',\n",
    "                 color_discrete_sequence=['#0866FF']  \n",
    "                )\n",
    "fig.update_layout(\n",
    "    yaxis_type='log',\n",
    "    yaxis={\n",
    "        'tickvals': [1e6, 5e6, 1e7, 5e7, 1e8, 5e8, 1e9, 5e9],\n",
    "        'ticktext': ['1M', '5M', '10M', '50M', '100M', '500M', '1B', '5B']\n",
    "    },\n",
    "    width=800,\n",
    "    height=500,\n",
    "    title={\n",
    "        'x': 0.5,  \n",
    "        'xanchor': 'center'\n",
    "    }\n",
    ")\n",
    "fig.update_traces(\n",
    "    hovertemplate='Duration: %{x} weeks<br>Avg Impressions: %{y:,.0f}<extra></extra>',\n",
    "    marker=dict(line=dict(width=0)) \n",
    ")\n",
    "fig.update_traces(\n",
    "    line=dict(color='#0866FF'),  \n",
    "    selector=dict(type='scatter', mode='lines')\n",
    ")\n",
    "\n",
    "# Add annotations for highest and lowest points\n",
    "max_point = duration_analysis.loc[duration_analysis['Avg_Impressions_Per_Week'].idxmax()]\n",
    "min_point = duration_analysis.loc[duration_analysis['Avg_Impressions_Per_Week'].idxmin()]\n",
    "fig.add_annotation(\n",
    "    x=max_point['total_weeks'],\n",
    "    y=max_point['Avg_Impressions_Per_Week'],\n",
    "    text=f\"{max_point['total_weeks']} weeks: {max_point['Avg_Impressions_Per_Week']/1e6:.1f}M\",\n",
    "    showarrow=True,\n",
    "    arrowhead=1,\n",
    "    ax=20,\n",
    "    ay=-30\n",
    ")\n",
    "fig.add_annotation(\n",
    "    x=min_point['total_weeks'],\n",
    "    y=min_point['Avg_Impressions_Per_Week'],\n",
    "    text=f\"{min_point['total_weeks']} weeks: {min_point['Avg_Impressions_Per_Week']/1e6:.1f}M\",\n",
    "    showarrow=True,\n",
    "    arrowhead=1,\n",
    "    ax=20,\n",
    "    ay=30\n",
    ")\n",
    "\n",
    "fig.show()"
   ]
  },
  {
   "cell_type": "markdown",
   "id": "b3dc293d",
   "metadata": {},
   "source": [
    "##### Shorter campaigns (1–3 weeks) averaged 4M–5M impressions per week on Meta, while longer ones (9–10 weeks) averaged only 1M. Short campaigns work better for higher weekly impressions"
   ]
  },
  {
   "cell_type": "code",
   "execution_count": 30,
   "id": "a233e5e3",
   "metadata": {},
   "outputs": [],
   "source": [
    "meta_weekly_impressions.to_csv('meta_weekly_impressions.csv', index=False)"
   ]
  }
 ],
 "metadata": {
  "kernelspec": {
   "display_name": "base",
   "language": "python",
   "name": "python3"
  },
  "language_info": {
   "codemirror_mode": {
    "name": "ipython",
    "version": 3
   },
   "file_extension": ".py",
   "mimetype": "text/x-python",
   "name": "python",
   "nbconvert_exporter": "python",
   "pygments_lexer": "ipython3",
   "version": "3.11.8"
  }
 },
 "nbformat": 4,
 "nbformat_minor": 5
}
