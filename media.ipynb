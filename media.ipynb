{
 "cells": [
  {
   "cell_type": "code",
   "execution_count": null,
   "id": "ab4ab13f",
   "metadata": {},
   "outputs": [],
   "source": [
    "# Importing libraries\n",
    "import pandas as pd\n",
    "import numpy as np\n",
    "import plotly.express as px\n",
    "import plotly.graph_objects as go\n",
    "from plotly.subplots import make_subplots\n",
    "import os\n",
    "from datetime import datetime, timedelta"
   ]
  },
  {
   "cell_type": "code",
   "execution_count": null,
   "id": "ffcfd927",
   "metadata": {},
   "outputs": [
    {
     "name": "stdout",
     "output_type": "stream",
     "text": [
      "Meta Dataset Info:\n",
      "<class 'pandas.core.frame.DataFrame'>\n",
      "RangeIndex: 2109884 entries, 0 to 2109883\n",
      "Data columns (total 11 columns):\n",
      " #   Column             Dtype         \n",
      "---  ------             -----         \n",
      " 0   campaign_id        object        \n",
      " 1   Startdatum         datetime64[ms]\n",
      " 2   Endedatum          datetime64[ms]\n",
      " 3   advertiser_name    object        \n",
      " 4   impressions        int64         \n",
      " 5   clicks             int64         \n",
      " 6   trueview_views     int64         \n",
      " 7   video_completions  int64         \n",
      " 8   date               datetime64[ms]\n",
      " 9   advertiser_id      object        \n",
      " 10  device_type        object        \n",
      "dtypes: datetime64[ms](3), int64(4), object(4)\n",
      "memory usage: 177.1+ MB\n",
      "None\n",
      "\n",
      "Meta Dataset Sample:\n",
      "  campaign_id Startdatum  Endedatum advertiser_name  impressions  clicks  \\\n",
      "0    52045241 2017-10-01 2017-10-04        HMFRA_HH        10289      24   \n",
      "1    52045241 2017-10-01 2017-10-04        HMFRA_HH         1117       1   \n",
      "2    52045241 2017-10-01 2017-10-04        HMFRA_HH        25286      32   \n",
      "3    52045241 2017-10-01 2017-10-04        HMFRA_HH        40988      80   \n",
      "4    52045241 2017-10-01 2017-10-04        HMFRA_HH         4447      16   \n",
      "\n",
      "   trueview_views  video_completions       date advertiser_id device_type  \n",
      "0               0               9524 2017-10-04     843621277     SmartTV  \n",
      "1               0               1032 2017-10-04     843621277      Tablet  \n",
      "2               0              23012 2017-10-04     843621277     Desktop  \n",
      "3               0              37803 2017-10-04     843621277      Tablet  \n",
      "4               0               4108 2017-10-04     843621277     SmartTV  \n",
      "\n",
      "Snapchat Dataset Info:\n",
      "<class 'pandas.core.frame.DataFrame'>\n",
      "RangeIndex: 38711 entries, 0 to 38710\n",
      "Data columns (total 8 columns):\n",
      " #   Column            Non-Null Count  Dtype \n",
      "---  ------            --------------  ----- \n",
      " 0   date_start        38711 non-null  object\n",
      " 1   advertiser_name   38711 non-null  object\n",
      " 2   video_views_p100  38711 non-null  int64 \n",
      " 3   impressions       38711 non-null  int64 \n",
      " 4   campaign_id       38711 non-null  object\n",
      " 5   clicks            38711 non-null  int64 \n",
      " 6   advertiser_id     38711 non-null  object\n",
      " 7   device_type       38711 non-null  object\n",
      "dtypes: int64(3), object(5)\n",
      "memory usage: 2.4+ MB\n",
      "None\n",
      "\n",
      "Snapchat Dataset Sample:\n",
      "   date_start advertiser_name  video_views_p100  impressions campaign_id  \\\n",
      "0  2017-10-01        HMFRA_KI                 0            4      437701   \n",
      "1  2017-10-01        HMFRA_KI                 0            4      437701   \n",
      "2  2017-10-01        HMFRA_KI                 0            2      437701   \n",
      "3  2017-10-01        HMFRA_KI                 0            2      437701   \n",
      "4  2017-10-01        HMFRA_KI                 0            6      437701   \n",
      "\n",
      "   clicks advertiser_id device_type  \n",
      "0       0       7676909  Smartphone  \n",
      "1       0       7676909      Tablet  \n",
      "2       0       7676909      Tablet  \n",
      "3       0       7676909     Desktop  \n",
      "4       1       7676909  Smartphone  \n"
     ]
    }
   ],
   "source": [
    "# Loading all datasets\n",
    "meta_df = pd.read_parquet('Platform/meta.parquet')\n",
    "snapchat_df = pd.read_parquet('Platform/snapchat.parquet')\n",
    "tiktok_df = pd.read_parquet('Platform/tiktok.parquet')\n",
    "youtube_df = pd.read_parquet('Platform/youtube.parquet')\n",
    "\n",
    "# basic information\n",
    "print(\"Meta Dataset Info:\")\n",
    "print(meta_df.info())\n",
    "print(\"\\nMeta Dataset Sample:\")\n",
    "print(meta_df.head())\n",
    "\n",
    "print(\"\\nSnapchat Dataset Info:\")\n",
    "print(snapchat_df.info())\n",
    "print(\"\\nSnapchat Dataset Sample:\")\n",
    "print(snapchat_df.head())"
   ]
  },
  {
   "cell_type": "code",
   "execution_count": 64,
   "id": "dc5e758a",
   "metadata": {},
   "outputs": [
    {
     "name": "stdout",
     "output_type": "stream",
     "text": [
      "Meta Unique Advertisers:\n",
      "['HMFRA_HH' 'HMFRA_HM' 'HMFRA_JD' 'HMFRA_KI' 'HMFRA_Re' 'HMFRA_TE'\n",
      " 'HMFRA_NO' 'HMFRA_[D']\n",
      "\n",
      "Snapchat Unique Advertisers:\n",
      "['HMFRA_KI' 'HMFRA_Va' 'HMFRA_Bu' 'HMFRA_As' 'HMFRA_Ha' 'HMFRA_My'\n",
      " 'HMFRA_AM' 'HMFRA_TE' 'HMFRA_AO']\n",
      "\n",
      "TikTok Unique Advertisers:\n",
      "['HMFRA_De' 'HMFRA_Ra' 'HMFRA_At' 'HMFRA_Ni' 'HMFRA_My' 'HMFRA_Sc'\n",
      " 'HMFRA_Ki' 'HMFRA_Te' 'HMFRA_EC' 'HMFRA_LO' 'HMFRA_Ba' 'HMFRA_Ao'\n",
      " 'HMFRA_vi' 'HMFRA_Ad' 'HMFRA_Vi' 'HMFRA_Lo' 'HMFRA_Sw']\n",
      "\n",
      "YouTube Unique Advertisers:\n",
      "['HMFRA_KP' 'HMFRA_TE' 'HMFRA_NI' 'HMFRA_We' 'HMFRA_AO' 'HMFRA_DE'\n",
      " 'HMFRA_SC' 'HMFRA_Lo' 'HMFRA_Mc' 'HMFRA_RO' 'HMFRA_Ra' 'HMFRA_As'\n",
      " 'HMFRA_Ta' 'HMFRA_Ec' 'HMFRA_Me' 'HMFRA_ST' 'HMFRA_KI' 'HMFRA_Pe'\n",
      " 'HMFRA_Va']\n",
      "\n",
      "Number of unique advertisers per platform:\n",
      "Meta: 8\n",
      "Snapchat: 9\n",
      "TikTok: 17\n",
      "YouTube: 19\n"
     ]
    }
   ],
   "source": [
    "# Get unique advertiser names for each platform\n",
    "print(\"Meta Unique Advertisers:\")\n",
    "print(meta_df['advertiser_name'].unique())\n",
    "print(\"\\nSnapchat Unique Advertisers:\")\n",
    "print(snapchat_df['advertiser_name'].unique())\n",
    "print(\"\\nTikTok Unique Advertisers:\")\n",
    "print(tiktok_df['advertiser_name'].unique())\n",
    "print(\"\\nYouTube Unique Advertisers:\")\n",
    "print(youtube_df['advertiser_name'].unique())\n",
    "\n",
    "# Get count of unique advertisers for each platform\n",
    "print(\"\\nNumber of unique advertisers per platform:\")\n",
    "print(f\"Meta: {meta_df['advertiser_name'].nunique()}\")\n",
    "print(f\"Snapchat: {snapchat_df['advertiser_name'].nunique()}\")\n",
    "print(f\"TikTok: {tiktok_df['advertiser_name'].nunique()}\")\n",
    "print(f\"YouTube: {youtube_df['advertiser_name'].nunique()}\")"
   ]
  },
  {
   "cell_type": "code",
   "execution_count": 44,
   "id": "e8f0ee20",
   "metadata": {},
   "outputs": [
    {
     "name": "stdout",
     "output_type": "stream",
     "text": [
      "\n",
      "TikTok Dataset Info:\n",
      "<class 'pandas.core.frame.DataFrame'>\n",
      "RangeIndex: 95744 entries, 0 to 95743\n",
      "Data columns (total 9 columns):\n",
      " #   Column             Non-Null Count  Dtype \n",
      "---  ------             --------------  ----- \n",
      " 0   campaign_id        95744 non-null  object\n",
      " 1   advertiser_name    95744 non-null  object\n",
      " 2   date               95744 non-null  object\n",
      " 3   clicks             95744 non-null  int64 \n",
      " 4   video_completions  95744 non-null  int64 \n",
      " 5   impressions        95744 non-null  int64 \n",
      " 6   device_type        95744 non-null  object\n",
      " 7   advertiser_id      95744 non-null  object\n",
      " 8   device_type (#1)   95744 non-null  object\n",
      "dtypes: int64(3), object(6)\n",
      "memory usage: 6.6+ MB\n",
      "None\n",
      "\n",
      "TikTok Dataset Sample:\n",
      "  campaign_id advertiser_name        date  clicks  video_completions  \\\n",
      "0      261569        HMFRA_De  2017-01-03       0                  0   \n",
      "1      250659        HMFRA_Ra  2017-01-03       0                  0   \n",
      "2      224138        HMFRA_At  2017-01-07       0                  0   \n",
      "3      224138        HMFRA_At  2017-01-07       0                  0   \n",
      "4      267661        HMFRA_Ni  2017-01-12       0                  0   \n",
      "\n",
      "   impressions device_type advertiser_id device_type (#1)  \n",
      "0            1  Smartphone         15336          Desktop  \n",
      "1            1     Desktop       8738821           Tablet  \n",
      "2            2     Desktop         12747          SmartTV  \n",
      "3            1     Desktop         12747       Smartphone  \n",
      "4          162     Desktop         13346       Smartphone  \n",
      "\n",
      "YouTube Dataset Info:\n",
      "<class 'pandas.core.frame.DataFrame'>\n",
      "RangeIndex: 1916407 entries, 0 to 1916406\n",
      "Data columns (total 8 columns):\n",
      " #   Column                        Dtype \n",
      "---  ------                        ----- \n",
      " 0   date                          object\n",
      " 1   impressions                   int64 \n",
      " 2   clicks                        int64 \n",
      " 3   account_name=advertiser_name  object\n",
      " 4   line_item_id                  object\n",
      " 5   video_completions             int64 \n",
      " 6   advertiser_id                 object\n",
      " 7   device_type                   object\n",
      "dtypes: int64(3), object(5)\n",
      "memory usage: 117.0+ MB\n",
      "None\n",
      "\n",
      "YouTube Dataset Sample:\n",
      "         date  impressions  clicks account_name=advertiser_name line_item_id  \\\n",
      "0  2017-01-18            5       0                     HMFRA_KP     20096377   \n",
      "1  2017-01-29            1       0                     HMFRA_KP     20096442   \n",
      "2  2017-01-26           23       0                     HMFRA_KP     20096464   \n",
      "3  2017-01-19            1       0                     HMFRA_KP     20096464   \n",
      "4  2017-01-26            0       1                     HMFRA_KP     20093556   \n",
      "\n",
      "   video_completions advertiser_id device_type  \n",
      "0                  0       7057172     Desktop  \n",
      "1                  0       7057172      Tablet  \n",
      "2                  0       7057172  Smartphone  \n",
      "3                  0       7057172     SmartTV  \n",
      "4                  0       7057172      Tablet  \n"
     ]
    }
   ],
   "source": [
    "print(\"\\nTikTok Dataset Info:\")\n",
    "print(tiktok_df.info())\n",
    "print(\"\\nTikTok Dataset Sample:\")\n",
    "print(tiktok_df.head())\n",
    "\n",
    "print(\"\\nYouTube Dataset Info:\")\n",
    "print(youtube_df.info())\n",
    "print(\"\\nYouTube Dataset Sample:\")\n",
    "print(youtube_df.head())"
   ]
  },
  {
   "cell_type": "code",
   "execution_count": 45,
   "id": "7972e59a",
   "metadata": {},
   "outputs": [
    {
     "name": "stdout",
     "output_type": "stream",
     "text": [
      "Meta date range: 2017-01-08 00:00:00 to 2017-12-31 00:00:00\n",
      "Snapchat date range: 2017-01-01 00:00:00 to 2017-12-31 00:00:00\n",
      "TikTok date range: 2017-01-03 00:00:00 to 2017-12-31 00:00:00\n",
      "YouTube date range: 2017-01-18 00:00:00 to 2017-12-31 00:00:00\n"
     ]
    }
   ],
   "source": [
    "# Converting strings dates to datetime format\n",
    "snapchat_df['date'] = pd.to_datetime(snapchat_df['date_start'])\n",
    "tiktok_df['date'] = pd.to_datetime(tiktok_df['date'])\n",
    "youtube_df['date'] = pd.to_datetime(youtube_df['date'])\n",
    "\n",
    "# date range\n",
    "print(\"Meta date range:\", meta_df['date'].min(), \"to\", meta_df['date'].max())\n",
    "print(\"Snapchat date range:\", snapchat_df['date'].min(), \"to\", snapchat_df['date'].max())\n",
    "print(\"TikTok date range:\", tiktok_df['date'].min(), \"to\", tiktok_df['date'].max())\n",
    "print(\"YouTube date range:\", youtube_df['date'].min(), \"to\", youtube_df['date'].max())"
   ]
  },
  {
   "cell_type": "code",
   "execution_count": 46,
   "id": "29dcf8c4",
   "metadata": {},
   "outputs": [
    {
     "name": "stdout",
     "output_type": "stream",
     "text": [
      "['date', 'impressions', 'clicks', 'advertiser_name', 'campaign_id', 'video_completions', 'advertiser_id', 'device_type']\n"
     ]
    }
   ],
   "source": [
    "# Renaming YouTube columns for consistency\n",
    "youtube_df = youtube_df.rename(columns={\n",
    "    'account_name=advertiser_name': 'advertiser_name',\n",
    "    'line_item_id': 'campaign_id'\n",
    "})\n",
    "print( youtube_df.columns.tolist())"
   ]
  },
  {
   "cell_type": "code",
   "execution_count": 47,
   "id": "6efefaa1",
   "metadata": {},
   "outputs": [
    {
     "name": "stdout",
     "output_type": "stream",
     "text": [
      "Missing values in Meta: 0\n",
      "Missing values in Snapchat: 0\n",
      "Missing values in TikTok: 0\n",
      "Missing values in YouTube: 0\n",
      "Duplicates in Meta: 900302\n",
      "Duplicates in Snapchat: 6034\n",
      "Duplicates in TikTok: 16176\n",
      "Duplicates in YouTube: 991265\n"
     ]
    }
   ],
   "source": [
    "# Check missing values\n",
    "print(\"Missing values in Meta:\", meta_df.isnull().sum().sum())\n",
    "print(\"Missing values in Snapchat:\", snapchat_df.isnull().sum().sum())\n",
    "print(\"Missing values in TikTok:\", tiktok_df.isnull().sum().sum())\n",
    "print(\"Missing values in YouTube:\", youtube_df.isnull().sum().sum())\n",
    "\n",
    "# Check duplicates\n",
    "print(\"Duplicates in Meta:\", meta_df.duplicated().sum())\n",
    "print(\"Duplicates in Snapchat:\", snapchat_df.duplicated().sum())\n",
    "print(\"Duplicates in TikTok:\", tiktok_df.duplicated().sum())\n",
    "print(\"Duplicates in YouTube:\", youtube_df.duplicated().sum())"
   ]
  },
  {
   "cell_type": "code",
   "execution_count": null,
   "id": "7c96285a",
   "metadata": {},
   "outputs": [
    {
     "name": "stdout",
     "output_type": "stream",
     "text": [
      "Meta rows after: 1209582\n",
      "Snapchat rows after: 32677\n",
      "TikTok rows after: 66118\n",
      "YouTube rows after: 925142\n"
     ]
    }
   ],
   "source": [
    "# Dropping duplicates\n",
    "meta_df = meta_df.drop_duplicates()\n",
    "snapchat_df = snapchat_df.drop_duplicates()\n",
    "tiktok_df = tiktok_df.drop_duplicates()\n",
    "youtube_df = youtube_df.drop_duplicates()\n",
    "\n",
    "# Verify\n",
    "print(\"Meta rows after:\", len(meta_df))\n",
    "print(\"Snapchat rows after:\", len(snapchat_df))\n",
    "print(\"TikTok rows after:\", len(tiktok_df))\n",
    "print(\"YouTube rows after:\", len(youtube_df))"
   ]
  },
  {
   "cell_type": "code",
   "execution_count": null,
   "id": "156b742a",
   "metadata": {},
   "outputs": [
    {
     "name": "stdout",
     "output_type": "stream",
     "text": [
      "device_type values: ['Smartphone' 'Desktop' 'Tablet' 'SmartTV']\n",
      "device_type (#1) values: ['Desktop' 'Tablet' 'SmartTV' 'Smartphone']\n"
     ]
    }
   ],
   "source": [
    "# Unique values in both device_type columns\n",
    "print(\"device_type values:\", tiktok_df['device_type'].unique())\n",
    "print(\"device_type (#1) values:\", tiktok_df['device_type (#1)'].unique())"
   ]
  },
  {
   "cell_type": "code",
   "execution_count": null,
   "id": "3a548449",
   "metadata": {},
   "outputs": [
    {
     "name": "stdout",
     "output_type": "stream",
     "text": [
      "TikTok columns: ['campaign_id', 'advertiser_name', 'date', 'clicks', 'video_completions', 'impressions', 'device_type', 'advertiser_id']\n"
     ]
    }
   ],
   "source": [
    "# Dropping TikTok's device_type (#1) column\n",
    "# This column is redundant as it contains the same information as device_type\n",
    "tiktok_df = tiktok_df.drop(columns=['device_type (#1)'])\n",
    "\n",
    "# Renaming Snapchat's video_views_p100 to video_completions\n",
    "snapchat_df = snapchat_df.rename(columns={'video_views_p100': 'video_completions'})\n",
    "print(\"TikTok columns:\", tiktok_df.columns.tolist())"
   ]
  },
  {
   "cell_type": "code",
   "execution_count": 51,
   "id": "233ed3d6",
   "metadata": {},
   "outputs": [
    {
     "name": "stdout",
     "output_type": "stream",
     "text": [
      "Meta video_completions total: 5645537682\n",
      "Meta trueview_views total: 1479466715\n",
      "Snapchat video_completions total: 66116156\n",
      "TikTok video_completions total: 29882462\n",
      "YouTube video_completions total: 194741321\n"
     ]
    }
   ],
   "source": [
    "# Total video_completions for each platform\n",
    "print(\"Meta video_completions total:\", meta_df['video_completions'].sum())\n",
    "print(\"Meta trueview_views total:\", meta_df['trueview_views'].sum())\n",
    "print(\"Snapchat video_completions total:\", snapchat_df['video_completions'].sum())\n",
    "print(\"TikTok video_completions total:\", tiktok_df['video_completions'].sum())\n",
    "print(\"YouTube video_completions total:\", youtube_df['video_completions'].sum())"
   ]
  },
  {
   "cell_type": "code",
   "execution_count": 53,
   "id": "005b29c5",
   "metadata": {},
   "outputs": [
    {
     "data": {
      "application/vnd.microsoft.datawrangler.viewer.v0+json": {
       "columns": [
        {
         "name": "index",
         "rawType": "int64",
         "type": "integer"
        },
        {
         "name": "date",
         "rawType": "datetime64[ns]",
         "type": "datetime"
        },
        {
         "name": "impressions",
         "rawType": "int64",
         "type": "integer"
        },
        {
         "name": "clicks",
         "rawType": "int64",
         "type": "integer"
        },
        {
         "name": "advertiser_name",
         "rawType": "object",
         "type": "string"
        },
        {
         "name": "campaign_id",
         "rawType": "object",
         "type": "string"
        },
        {
         "name": "video_completions",
         "rawType": "int64",
         "type": "integer"
        },
        {
         "name": "advertiser_id",
         "rawType": "object",
         "type": "string"
        },
        {
         "name": "device_type",
         "rawType": "object",
         "type": "string"
        }
       ],
       "conversionMethod": "pd.DataFrame",
       "ref": "79a4b84a-c14e-4088-8f1c-798c1ad17047",
       "rows": [
        [
         "0",
         "2017-01-18 00:00:00",
         "5",
         "0",
         "HMFRA_KP",
         "20096377",
         "0",
         "7057172",
         "Desktop"
        ],
        [
         "1",
         "2017-01-29 00:00:00",
         "1",
         "0",
         "HMFRA_KP",
         "20096442",
         "0",
         "7057172",
         "Tablet"
        ],
        [
         "2",
         "2017-01-26 00:00:00",
         "23",
         "0",
         "HMFRA_KP",
         "20096464",
         "0",
         "7057172",
         "Smartphone"
        ],
        [
         "3",
         "2017-01-19 00:00:00",
         "1",
         "0",
         "HMFRA_KP",
         "20096464",
         "0",
         "7057172",
         "SmartTV"
        ],
        [
         "4",
         "2017-01-26 00:00:00",
         "0",
         "1",
         "HMFRA_KP",
         "20093556",
         "0",
         "7057172",
         "Tablet"
        ]
       ],
       "shape": {
        "columns": 8,
        "rows": 5
       }
      },
      "text/html": [
       "<div>\n",
       "<style scoped>\n",
       "    .dataframe tbody tr th:only-of-type {\n",
       "        vertical-align: middle;\n",
       "    }\n",
       "\n",
       "    .dataframe tbody tr th {\n",
       "        vertical-align: top;\n",
       "    }\n",
       "\n",
       "    .dataframe thead th {\n",
       "        text-align: right;\n",
       "    }\n",
       "</style>\n",
       "<table border=\"1\" class=\"dataframe\">\n",
       "  <thead>\n",
       "    <tr style=\"text-align: right;\">\n",
       "      <th></th>\n",
       "      <th>date</th>\n",
       "      <th>impressions</th>\n",
       "      <th>clicks</th>\n",
       "      <th>advertiser_name</th>\n",
       "      <th>campaign_id</th>\n",
       "      <th>video_completions</th>\n",
       "      <th>advertiser_id</th>\n",
       "      <th>device_type</th>\n",
       "    </tr>\n",
       "  </thead>\n",
       "  <tbody>\n",
       "    <tr>\n",
       "      <th>0</th>\n",
       "      <td>2017-01-18</td>\n",
       "      <td>5</td>\n",
       "      <td>0</td>\n",
       "      <td>HMFRA_KP</td>\n",
       "      <td>20096377</td>\n",
       "      <td>0</td>\n",
       "      <td>7057172</td>\n",
       "      <td>Desktop</td>\n",
       "    </tr>\n",
       "    <tr>\n",
       "      <th>1</th>\n",
       "      <td>2017-01-29</td>\n",
       "      <td>1</td>\n",
       "      <td>0</td>\n",
       "      <td>HMFRA_KP</td>\n",
       "      <td>20096442</td>\n",
       "      <td>0</td>\n",
       "      <td>7057172</td>\n",
       "      <td>Tablet</td>\n",
       "    </tr>\n",
       "    <tr>\n",
       "      <th>2</th>\n",
       "      <td>2017-01-26</td>\n",
       "      <td>23</td>\n",
       "      <td>0</td>\n",
       "      <td>HMFRA_KP</td>\n",
       "      <td>20096464</td>\n",
       "      <td>0</td>\n",
       "      <td>7057172</td>\n",
       "      <td>Smartphone</td>\n",
       "    </tr>\n",
       "    <tr>\n",
       "      <th>3</th>\n",
       "      <td>2017-01-19</td>\n",
       "      <td>1</td>\n",
       "      <td>0</td>\n",
       "      <td>HMFRA_KP</td>\n",
       "      <td>20096464</td>\n",
       "      <td>0</td>\n",
       "      <td>7057172</td>\n",
       "      <td>SmartTV</td>\n",
       "    </tr>\n",
       "    <tr>\n",
       "      <th>4</th>\n",
       "      <td>2017-01-26</td>\n",
       "      <td>0</td>\n",
       "      <td>1</td>\n",
       "      <td>HMFRA_KP</td>\n",
       "      <td>20093556</td>\n",
       "      <td>0</td>\n",
       "      <td>7057172</td>\n",
       "      <td>Tablet</td>\n",
       "    </tr>\n",
       "  </tbody>\n",
       "</table>\n",
       "</div>"
      ],
      "text/plain": [
       "        date  impressions  clicks advertiser_name campaign_id  \\\n",
       "0 2017-01-18            5       0        HMFRA_KP    20096377   \n",
       "1 2017-01-29            1       0        HMFRA_KP    20096442   \n",
       "2 2017-01-26           23       0        HMFRA_KP    20096464   \n",
       "3 2017-01-19            1       0        HMFRA_KP    20096464   \n",
       "4 2017-01-26            0       1        HMFRA_KP    20093556   \n",
       "\n",
       "   video_completions advertiser_id device_type  \n",
       "0                  0       7057172     Desktop  \n",
       "1                  0       7057172      Tablet  \n",
       "2                  0       7057172  Smartphone  \n",
       "3                  0       7057172     SmartTV  \n",
       "4                  0       7057172      Tablet  "
      ]
     },
     "execution_count": 53,
     "metadata": {},
     "output_type": "execute_result"
    }
   ],
   "source": [
    "youtube_df.head(5)"
   ]
  },
  {
   "cell_type": "code",
   "execution_count": 54,
   "id": "a80718b6",
   "metadata": {},
   "outputs": [
    {
     "data": {
      "application/vnd.microsoft.datawrangler.viewer.v0+json": {
       "columns": [
        {
         "name": "index",
         "rawType": "int64",
         "type": "integer"
        },
        {
         "name": "campaign_id",
         "rawType": "object",
         "type": "string"
        },
        {
         "name": "advertiser_name",
         "rawType": "object",
         "type": "string"
        },
        {
         "name": "date",
         "rawType": "datetime64[ns]",
         "type": "datetime"
        },
        {
         "name": "clicks",
         "rawType": "int64",
         "type": "integer"
        },
        {
         "name": "video_completions",
         "rawType": "int64",
         "type": "integer"
        },
        {
         "name": "impressions",
         "rawType": "int64",
         "type": "integer"
        },
        {
         "name": "device_type",
         "rawType": "object",
         "type": "string"
        },
        {
         "name": "advertiser_id",
         "rawType": "object",
         "type": "string"
        }
       ],
       "conversionMethod": "pd.DataFrame",
       "ref": "eabfecf7-d15d-4082-aff0-4689b59e426d",
       "rows": [
        [
         "0",
         "261569",
         "HMFRA_De",
         "2017-01-03 00:00:00",
         "0",
         "0",
         "1",
         "Smartphone",
         "15336"
        ],
        [
         "1",
         "250659",
         "HMFRA_Ra",
         "2017-01-03 00:00:00",
         "0",
         "0",
         "1",
         "Desktop",
         "8738821"
        ],
        [
         "2",
         "224138",
         "HMFRA_At",
         "2017-01-07 00:00:00",
         "0",
         "0",
         "2",
         "Desktop",
         "12747"
        ],
        [
         "3",
         "224138",
         "HMFRA_At",
         "2017-01-07 00:00:00",
         "0",
         "0",
         "1",
         "Desktop",
         "12747"
        ],
        [
         "4",
         "267661",
         "HMFRA_Ni",
         "2017-01-12 00:00:00",
         "0",
         "0",
         "162",
         "Desktop",
         "13346"
        ]
       ],
       "shape": {
        "columns": 8,
        "rows": 5
       }
      },
      "text/html": [
       "<div>\n",
       "<style scoped>\n",
       "    .dataframe tbody tr th:only-of-type {\n",
       "        vertical-align: middle;\n",
       "    }\n",
       "\n",
       "    .dataframe tbody tr th {\n",
       "        vertical-align: top;\n",
       "    }\n",
       "\n",
       "    .dataframe thead th {\n",
       "        text-align: right;\n",
       "    }\n",
       "</style>\n",
       "<table border=\"1\" class=\"dataframe\">\n",
       "  <thead>\n",
       "    <tr style=\"text-align: right;\">\n",
       "      <th></th>\n",
       "      <th>campaign_id</th>\n",
       "      <th>advertiser_name</th>\n",
       "      <th>date</th>\n",
       "      <th>clicks</th>\n",
       "      <th>video_completions</th>\n",
       "      <th>impressions</th>\n",
       "      <th>device_type</th>\n",
       "      <th>advertiser_id</th>\n",
       "    </tr>\n",
       "  </thead>\n",
       "  <tbody>\n",
       "    <tr>\n",
       "      <th>0</th>\n",
       "      <td>261569</td>\n",
       "      <td>HMFRA_De</td>\n",
       "      <td>2017-01-03</td>\n",
       "      <td>0</td>\n",
       "      <td>0</td>\n",
       "      <td>1</td>\n",
       "      <td>Smartphone</td>\n",
       "      <td>15336</td>\n",
       "    </tr>\n",
       "    <tr>\n",
       "      <th>1</th>\n",
       "      <td>250659</td>\n",
       "      <td>HMFRA_Ra</td>\n",
       "      <td>2017-01-03</td>\n",
       "      <td>0</td>\n",
       "      <td>0</td>\n",
       "      <td>1</td>\n",
       "      <td>Desktop</td>\n",
       "      <td>8738821</td>\n",
       "    </tr>\n",
       "    <tr>\n",
       "      <th>2</th>\n",
       "      <td>224138</td>\n",
       "      <td>HMFRA_At</td>\n",
       "      <td>2017-01-07</td>\n",
       "      <td>0</td>\n",
       "      <td>0</td>\n",
       "      <td>2</td>\n",
       "      <td>Desktop</td>\n",
       "      <td>12747</td>\n",
       "    </tr>\n",
       "    <tr>\n",
       "      <th>3</th>\n",
       "      <td>224138</td>\n",
       "      <td>HMFRA_At</td>\n",
       "      <td>2017-01-07</td>\n",
       "      <td>0</td>\n",
       "      <td>0</td>\n",
       "      <td>1</td>\n",
       "      <td>Desktop</td>\n",
       "      <td>12747</td>\n",
       "    </tr>\n",
       "    <tr>\n",
       "      <th>4</th>\n",
       "      <td>267661</td>\n",
       "      <td>HMFRA_Ni</td>\n",
       "      <td>2017-01-12</td>\n",
       "      <td>0</td>\n",
       "      <td>0</td>\n",
       "      <td>162</td>\n",
       "      <td>Desktop</td>\n",
       "      <td>13346</td>\n",
       "    </tr>\n",
       "  </tbody>\n",
       "</table>\n",
       "</div>"
      ],
      "text/plain": [
       "  campaign_id advertiser_name       date  clicks  video_completions  \\\n",
       "0      261569        HMFRA_De 2017-01-03       0                  0   \n",
       "1      250659        HMFRA_Ra 2017-01-03       0                  0   \n",
       "2      224138        HMFRA_At 2017-01-07       0                  0   \n",
       "3      224138        HMFRA_At 2017-01-07       0                  0   \n",
       "4      267661        HMFRA_Ni 2017-01-12       0                  0   \n",
       "\n",
       "   impressions device_type advertiser_id  \n",
       "0            1  Smartphone         15336  \n",
       "1            1     Desktop       8738821  \n",
       "2            2     Desktop         12747  \n",
       "3            1     Desktop         12747  \n",
       "4          162     Desktop         13346  "
      ]
     },
     "execution_count": 54,
     "metadata": {},
     "output_type": "execute_result"
    }
   ],
   "source": [
    "tiktok_df.head(5)"
   ]
  },
  {
   "cell_type": "code",
   "execution_count": 55,
   "id": "11d8907d",
   "metadata": {},
   "outputs": [
    {
     "data": {
      "application/vnd.microsoft.datawrangler.viewer.v0+json": {
       "columns": [
        {
         "name": "index",
         "rawType": "int64",
         "type": "integer"
        },
        {
         "name": "date_start",
         "rawType": "object",
         "type": "unknown"
        },
        {
         "name": "advertiser_name",
         "rawType": "object",
         "type": "string"
        },
        {
         "name": "video_completions",
         "rawType": "int64",
         "type": "integer"
        },
        {
         "name": "impressions",
         "rawType": "int64",
         "type": "integer"
        },
        {
         "name": "campaign_id",
         "rawType": "object",
         "type": "string"
        },
        {
         "name": "clicks",
         "rawType": "int64",
         "type": "integer"
        },
        {
         "name": "advertiser_id",
         "rawType": "object",
         "type": "string"
        },
        {
         "name": "device_type",
         "rawType": "object",
         "type": "string"
        },
        {
         "name": "date",
         "rawType": "datetime64[ns]",
         "type": "datetime"
        }
       ],
       "conversionMethod": "pd.DataFrame",
       "ref": "fd31f1c3-dbe3-4a34-a629-d4b5e64ae576",
       "rows": [
        [
         "0",
         "2017-10-01",
         "HMFRA_KI",
         "0",
         "4",
         "437701",
         "0",
         "7676909",
         "Smartphone",
         "2017-10-01 00:00:00"
        ],
        [
         "1",
         "2017-10-01",
         "HMFRA_KI",
         "0",
         "4",
         "437701",
         "0",
         "7676909",
         "Tablet",
         "2017-10-01 00:00:00"
        ],
        [
         "2",
         "2017-10-01",
         "HMFRA_KI",
         "0",
         "2",
         "437701",
         "0",
         "7676909",
         "Tablet",
         "2017-10-01 00:00:00"
        ],
        [
         "3",
         "2017-10-01",
         "HMFRA_KI",
         "0",
         "2",
         "437701",
         "0",
         "7676909",
         "Desktop",
         "2017-10-01 00:00:00"
        ],
        [
         "4",
         "2017-10-01",
         "HMFRA_KI",
         "0",
         "6",
         "437701",
         "1",
         "7676909",
         "Smartphone",
         "2017-10-01 00:00:00"
        ]
       ],
       "shape": {
        "columns": 9,
        "rows": 5
       }
      },
      "text/html": [
       "<div>\n",
       "<style scoped>\n",
       "    .dataframe tbody tr th:only-of-type {\n",
       "        vertical-align: middle;\n",
       "    }\n",
       "\n",
       "    .dataframe tbody tr th {\n",
       "        vertical-align: top;\n",
       "    }\n",
       "\n",
       "    .dataframe thead th {\n",
       "        text-align: right;\n",
       "    }\n",
       "</style>\n",
       "<table border=\"1\" class=\"dataframe\">\n",
       "  <thead>\n",
       "    <tr style=\"text-align: right;\">\n",
       "      <th></th>\n",
       "      <th>date_start</th>\n",
       "      <th>advertiser_name</th>\n",
       "      <th>video_completions</th>\n",
       "      <th>impressions</th>\n",
       "      <th>campaign_id</th>\n",
       "      <th>clicks</th>\n",
       "      <th>advertiser_id</th>\n",
       "      <th>device_type</th>\n",
       "      <th>date</th>\n",
       "    </tr>\n",
       "  </thead>\n",
       "  <tbody>\n",
       "    <tr>\n",
       "      <th>0</th>\n",
       "      <td>2017-10-01</td>\n",
       "      <td>HMFRA_KI</td>\n",
       "      <td>0</td>\n",
       "      <td>4</td>\n",
       "      <td>437701</td>\n",
       "      <td>0</td>\n",
       "      <td>7676909</td>\n",
       "      <td>Smartphone</td>\n",
       "      <td>2017-10-01</td>\n",
       "    </tr>\n",
       "    <tr>\n",
       "      <th>1</th>\n",
       "      <td>2017-10-01</td>\n",
       "      <td>HMFRA_KI</td>\n",
       "      <td>0</td>\n",
       "      <td>4</td>\n",
       "      <td>437701</td>\n",
       "      <td>0</td>\n",
       "      <td>7676909</td>\n",
       "      <td>Tablet</td>\n",
       "      <td>2017-10-01</td>\n",
       "    </tr>\n",
       "    <tr>\n",
       "      <th>2</th>\n",
       "      <td>2017-10-01</td>\n",
       "      <td>HMFRA_KI</td>\n",
       "      <td>0</td>\n",
       "      <td>2</td>\n",
       "      <td>437701</td>\n",
       "      <td>0</td>\n",
       "      <td>7676909</td>\n",
       "      <td>Tablet</td>\n",
       "      <td>2017-10-01</td>\n",
       "    </tr>\n",
       "    <tr>\n",
       "      <th>3</th>\n",
       "      <td>2017-10-01</td>\n",
       "      <td>HMFRA_KI</td>\n",
       "      <td>0</td>\n",
       "      <td>2</td>\n",
       "      <td>437701</td>\n",
       "      <td>0</td>\n",
       "      <td>7676909</td>\n",
       "      <td>Desktop</td>\n",
       "      <td>2017-10-01</td>\n",
       "    </tr>\n",
       "    <tr>\n",
       "      <th>4</th>\n",
       "      <td>2017-10-01</td>\n",
       "      <td>HMFRA_KI</td>\n",
       "      <td>0</td>\n",
       "      <td>6</td>\n",
       "      <td>437701</td>\n",
       "      <td>1</td>\n",
       "      <td>7676909</td>\n",
       "      <td>Smartphone</td>\n",
       "      <td>2017-10-01</td>\n",
       "    </tr>\n",
       "  </tbody>\n",
       "</table>\n",
       "</div>"
      ],
      "text/plain": [
       "   date_start advertiser_name  video_completions  impressions campaign_id  \\\n",
       "0  2017-10-01        HMFRA_KI                  0            4      437701   \n",
       "1  2017-10-01        HMFRA_KI                  0            4      437701   \n",
       "2  2017-10-01        HMFRA_KI                  0            2      437701   \n",
       "3  2017-10-01        HMFRA_KI                  0            2      437701   \n",
       "4  2017-10-01        HMFRA_KI                  0            6      437701   \n",
       "\n",
       "   clicks advertiser_id device_type       date  \n",
       "0       0       7676909  Smartphone 2017-10-01  \n",
       "1       0       7676909      Tablet 2017-10-01  \n",
       "2       0       7676909      Tablet 2017-10-01  \n",
       "3       0       7676909     Desktop 2017-10-01  \n",
       "4       1       7676909  Smartphone 2017-10-01  "
      ]
     },
     "execution_count": 55,
     "metadata": {},
     "output_type": "execute_result"
    }
   ],
   "source": [
    "snapchat_df.head(5)"
   ]
  },
  {
   "cell_type": "code",
   "execution_count": 33,
   "id": "4efe59d5",
   "metadata": {},
   "outputs": [
    {
     "data": {
      "application/vnd.microsoft.datawrangler.viewer.v0+json": {
       "columns": [
        {
         "name": "index",
         "rawType": "int64",
         "type": "integer"
        },
        {
         "name": "campaign_id",
         "rawType": "object",
         "type": "string"
        },
        {
         "name": "Startdatum",
         "rawType": "datetime64[ms]",
         "type": "unknown"
        },
        {
         "name": "Endedatum",
         "rawType": "datetime64[ms]",
         "type": "unknown"
        },
        {
         "name": "advertiser_name",
         "rawType": "object",
         "type": "string"
        },
        {
         "name": "impressions",
         "rawType": "int64",
         "type": "integer"
        },
        {
         "name": "clicks",
         "rawType": "int64",
         "type": "integer"
        },
        {
         "name": "trueview_views",
         "rawType": "int64",
         "type": "integer"
        },
        {
         "name": "video_completions",
         "rawType": "int64",
         "type": "integer"
        },
        {
         "name": "date",
         "rawType": "datetime64[ms]",
         "type": "unknown"
        },
        {
         "name": "advertiser_id",
         "rawType": "object",
         "type": "string"
        },
        {
         "name": "device_type",
         "rawType": "object",
         "type": "string"
        }
       ],
       "conversionMethod": "pd.DataFrame",
       "ref": "eb88d381-adf9-4805-a11d-f1e50be33865",
       "rows": [
        [
         "0",
         "52045241",
         "2017-10-01 00:00:00",
         "2017-10-04 00:00:00",
         "HMFRA_HH",
         "10289",
         "24",
         "0",
         "9524",
         "2017-10-04 00:00:00",
         "843621277",
         "SmartTV"
        ],
        [
         "1",
         "52045241",
         "2017-10-01 00:00:00",
         "2017-10-04 00:00:00",
         "HMFRA_HH",
         "1117",
         "1",
         "0",
         "1032",
         "2017-10-04 00:00:00",
         "843621277",
         "Tablet"
        ],
        [
         "2",
         "52045241",
         "2017-10-01 00:00:00",
         "2017-10-04 00:00:00",
         "HMFRA_HH",
         "25286",
         "32",
         "0",
         "23012",
         "2017-10-04 00:00:00",
         "843621277",
         "Desktop"
        ],
        [
         "3",
         "52045241",
         "2017-10-01 00:00:00",
         "2017-10-04 00:00:00",
         "HMFRA_HH",
         "40988",
         "80",
         "0",
         "37803",
         "2017-10-04 00:00:00",
         "843621277",
         "Tablet"
        ],
        [
         "4",
         "52045241",
         "2017-10-01 00:00:00",
         "2017-10-04 00:00:00",
         "HMFRA_HH",
         "4447",
         "16",
         "0",
         "4108",
         "2017-10-04 00:00:00",
         "843621277",
         "SmartTV"
        ]
       ],
       "shape": {
        "columns": 11,
        "rows": 5
       }
      },
      "text/html": [
       "<div>\n",
       "<style scoped>\n",
       "    .dataframe tbody tr th:only-of-type {\n",
       "        vertical-align: middle;\n",
       "    }\n",
       "\n",
       "    .dataframe tbody tr th {\n",
       "        vertical-align: top;\n",
       "    }\n",
       "\n",
       "    .dataframe thead th {\n",
       "        text-align: right;\n",
       "    }\n",
       "</style>\n",
       "<table border=\"1\" class=\"dataframe\">\n",
       "  <thead>\n",
       "    <tr style=\"text-align: right;\">\n",
       "      <th></th>\n",
       "      <th>campaign_id</th>\n",
       "      <th>Startdatum</th>\n",
       "      <th>Endedatum</th>\n",
       "      <th>advertiser_name</th>\n",
       "      <th>impressions</th>\n",
       "      <th>clicks</th>\n",
       "      <th>trueview_views</th>\n",
       "      <th>video_completions</th>\n",
       "      <th>date</th>\n",
       "      <th>advertiser_id</th>\n",
       "      <th>device_type</th>\n",
       "    </tr>\n",
       "  </thead>\n",
       "  <tbody>\n",
       "    <tr>\n",
       "      <th>0</th>\n",
       "      <td>52045241</td>\n",
       "      <td>2017-10-01</td>\n",
       "      <td>2017-10-04</td>\n",
       "      <td>HMFRA_HH</td>\n",
       "      <td>10289</td>\n",
       "      <td>24</td>\n",
       "      <td>0</td>\n",
       "      <td>9524</td>\n",
       "      <td>2017-10-04</td>\n",
       "      <td>843621277</td>\n",
       "      <td>SmartTV</td>\n",
       "    </tr>\n",
       "    <tr>\n",
       "      <th>1</th>\n",
       "      <td>52045241</td>\n",
       "      <td>2017-10-01</td>\n",
       "      <td>2017-10-04</td>\n",
       "      <td>HMFRA_HH</td>\n",
       "      <td>1117</td>\n",
       "      <td>1</td>\n",
       "      <td>0</td>\n",
       "      <td>1032</td>\n",
       "      <td>2017-10-04</td>\n",
       "      <td>843621277</td>\n",
       "      <td>Tablet</td>\n",
       "    </tr>\n",
       "    <tr>\n",
       "      <th>2</th>\n",
       "      <td>52045241</td>\n",
       "      <td>2017-10-01</td>\n",
       "      <td>2017-10-04</td>\n",
       "      <td>HMFRA_HH</td>\n",
       "      <td>25286</td>\n",
       "      <td>32</td>\n",
       "      <td>0</td>\n",
       "      <td>23012</td>\n",
       "      <td>2017-10-04</td>\n",
       "      <td>843621277</td>\n",
       "      <td>Desktop</td>\n",
       "    </tr>\n",
       "    <tr>\n",
       "      <th>3</th>\n",
       "      <td>52045241</td>\n",
       "      <td>2017-10-01</td>\n",
       "      <td>2017-10-04</td>\n",
       "      <td>HMFRA_HH</td>\n",
       "      <td>40988</td>\n",
       "      <td>80</td>\n",
       "      <td>0</td>\n",
       "      <td>37803</td>\n",
       "      <td>2017-10-04</td>\n",
       "      <td>843621277</td>\n",
       "      <td>Tablet</td>\n",
       "    </tr>\n",
       "    <tr>\n",
       "      <th>4</th>\n",
       "      <td>52045241</td>\n",
       "      <td>2017-10-01</td>\n",
       "      <td>2017-10-04</td>\n",
       "      <td>HMFRA_HH</td>\n",
       "      <td>4447</td>\n",
       "      <td>16</td>\n",
       "      <td>0</td>\n",
       "      <td>4108</td>\n",
       "      <td>2017-10-04</td>\n",
       "      <td>843621277</td>\n",
       "      <td>SmartTV</td>\n",
       "    </tr>\n",
       "  </tbody>\n",
       "</table>\n",
       "</div>"
      ],
      "text/plain": [
       "  campaign_id Startdatum  Endedatum advertiser_name  impressions  clicks  \\\n",
       "0    52045241 2017-10-01 2017-10-04        HMFRA_HH        10289      24   \n",
       "1    52045241 2017-10-01 2017-10-04        HMFRA_HH         1117       1   \n",
       "2    52045241 2017-10-01 2017-10-04        HMFRA_HH        25286      32   \n",
       "3    52045241 2017-10-01 2017-10-04        HMFRA_HH        40988      80   \n",
       "4    52045241 2017-10-01 2017-10-04        HMFRA_HH         4447      16   \n",
       "\n",
       "   trueview_views  video_completions       date advertiser_id device_type  \n",
       "0               0               9524 2017-10-04     843621277     SmartTV  \n",
       "1               0               1032 2017-10-04     843621277      Tablet  \n",
       "2               0              23012 2017-10-04     843621277     Desktop  \n",
       "3               0              37803 2017-10-04     843621277      Tablet  \n",
       "4               0               4108 2017-10-04     843621277     SmartTV  "
      ]
     },
     "execution_count": 33,
     "metadata": {},
     "output_type": "execute_result"
    }
   ],
   "source": [
    "meta_df.head(5)"
   ]
  },
  {
   "cell_type": "code",
   "execution_count": null,
   "id": "1428681f",
   "metadata": {},
   "outputs": [
    {
     "name": "stdout",
     "output_type": "stream",
     "text": [
      "<class 'pandas.core.frame.DataFrame'>\n",
      "Index: 66118 entries, 0 to 95743\n",
      "Data columns (total 8 columns):\n",
      " #   Column             Non-Null Count  Dtype         \n",
      "---  ------             --------------  -----         \n",
      " 0   campaign_id        66118 non-null  object        \n",
      " 1   advertiser_name    66118 non-null  object        \n",
      " 2   date               66118 non-null  datetime64[ns]\n",
      " 3   clicks             66118 non-null  int64         \n",
      " 4   video_completions  66118 non-null  int64         \n",
      " 5   impressions        66118 non-null  int64         \n",
      " 6   device_type        66118 non-null  object        \n",
      " 7   advertiser_id      66118 non-null  object        \n",
      "dtypes: datetime64[ns](1), int64(3), object(4)\n",
      "memory usage: 4.5+ MB\n",
      "<class 'pandas.core.frame.DataFrame'>\n",
      "Index: 925142 entries, 0 to 1916406\n",
      "Data columns (total 8 columns):\n",
      " #   Column             Non-Null Count   Dtype         \n",
      "---  ------             --------------   -----         \n",
      " 0   date               925142 non-null  datetime64[ns]\n",
      " 1   impressions        925142 non-null  int64         \n",
      " 2   clicks             925142 non-null  int64         \n",
      " 3   advertiser_name    925142 non-null  object        \n",
      " 4   campaign_id        925142 non-null  object        \n",
      " 5   video_completions  925142 non-null  int64         \n",
      " 6   advertiser_id      925142 non-null  object        \n",
      " 7   device_type        925142 non-null  object        \n",
      "dtypes: datetime64[ns](1), int64(3), object(4)\n",
      "memory usage: 63.5+ MB\n",
      "<class 'pandas.core.frame.DataFrame'>\n",
      "Index: 32677 entries, 0 to 38710\n",
      "Data columns (total 9 columns):\n",
      " #   Column             Non-Null Count  Dtype         \n",
      "---  ------             --------------  -----         \n",
      " 0   date_start         32677 non-null  object        \n",
      " 1   advertiser_name    32677 non-null  object        \n",
      " 2   video_completions  32677 non-null  int64         \n",
      " 3   impressions        32677 non-null  int64         \n",
      " 4   campaign_id        32677 non-null  object        \n",
      " 5   clicks             32677 non-null  int64         \n",
      " 6   advertiser_id      32677 non-null  object        \n",
      " 7   device_type        32677 non-null  object        \n",
      " 8   date               32677 non-null  datetime64[ns]\n",
      "dtypes: datetime64[ns](1), int64(3), object(5)\n",
      "memory usage: 2.5+ MB\n",
      "<class 'pandas.core.frame.DataFrame'>\n",
      "Index: 1209582 entries, 0 to 2109883\n",
      "Data columns (total 11 columns):\n",
      " #   Column             Non-Null Count    Dtype         \n",
      "---  ------             --------------    -----         \n",
      " 0   campaign_id        1209582 non-null  object        \n",
      " 1   Startdatum         1209582 non-null  datetime64[ms]\n",
      " 2   Endedatum          1209582 non-null  datetime64[ms]\n",
      " 3   advertiser_name    1209582 non-null  object        \n",
      " 4   impressions        1209582 non-null  int64         \n",
      " 5   clicks             1209582 non-null  int64         \n",
      " 6   trueview_views     1209582 non-null  int64         \n",
      " 7   video_completions  1209582 non-null  int64         \n",
      " 8   date               1209582 non-null  datetime64[ms]\n",
      " 9   advertiser_id      1209582 non-null  object        \n",
      " 10  device_type        1209582 non-null  object        \n",
      "dtypes: datetime64[ms](3), int64(4), object(4)\n",
      "memory usage: 110.7+ MB\n",
      "Meta Data Types:\n",
      "campaign_id                  object\n",
      "Startdatum           datetime64[ms]\n",
      "Endedatum            datetime64[ms]\n",
      "advertiser_name              object\n",
      "impressions                   int64\n",
      "clicks                        int64\n",
      "trueview_views                int64\n",
      "video_completions             int64\n",
      "date                 datetime64[ms]\n",
      "advertiser_id                object\n",
      "device_type                  object\n",
      "dtype: object\n",
      "\n",
      "Snapchat Data Types:\n",
      "date_start                   object\n",
      "advertiser_name              object\n",
      "video_completions             int64\n",
      "impressions                   int64\n",
      "campaign_id                  object\n",
      "clicks                        int64\n",
      "advertiser_id                object\n",
      "device_type                  object\n",
      "date                 datetime64[ns]\n",
      "dtype: object\n",
      "\n",
      "TikTok Data Types:\n",
      "campaign_id                  object\n",
      "advertiser_name              object\n",
      "date                 datetime64[ns]\n",
      "clicks                        int64\n",
      "video_completions             int64\n",
      "impressions                   int64\n",
      "device_type                  object\n",
      "advertiser_id                object\n",
      "dtype: object\n",
      "\n",
      "YouTube Data Types:\n",
      "date                 datetime64[ns]\n",
      "impressions                   int64\n",
      "clicks                        int64\n",
      "advertiser_name              object\n",
      "campaign_id                  object\n",
      "video_completions             int64\n",
      "advertiser_id                object\n",
      "device_type                  object\n",
      "dtype: object\n"
     ]
    }
   ],
   "source": [
    "tiktok_df.info()\n",
    "youtube_df.info()\n",
    "snapchat_df.info()\n",
    "meta_df.info()\n",
    "# Checking the data types of the columns\n",
    "print(\"Meta Data Types:\")\n",
    "print(meta_df.dtypes)\n",
    "print(\"\\nSnapchat Data Types:\")\n",
    "print(snapchat_df.dtypes)\n",
    "print(\"\\nTikTok Data Types:\")\n",
    "print(tiktok_df.dtypes)\n",
    "print(\"\\nYouTube Data Types:\")\n",
    "print(youtube_df.dtypes)"
   ]
  },
  {
   "cell_type": "markdown",
   "id": "e6d979bc",
   "metadata": {},
   "source": [
    "### Data Integration"
   ]
  },
  {
   "cell_type": "code",
   "execution_count": null,
   "id": "33141913",
   "metadata": {},
   "outputs": [
    {
     "name": "stdout",
     "output_type": "stream",
     "text": [
      "Total rows in platform_data: 2233519\n",
      "Columns in platform_data: ['campaign_id', 'date', 'impressions', 'clicks', 'video_completions', 'device_type', 'advertiser_name', 'source']\n",
      "  campaign_id       date  impressions  clicks  video_completions device_type  \\\n",
      "0    52045241 2017-10-04        10289      24               9524     SmartTV   \n",
      "1    52045241 2017-10-04         1117       1               1032      Tablet   \n",
      "2    52045241 2017-10-04        25286      32              23012     Desktop   \n",
      "3    52045241 2017-10-04        40988      80              37803      Tablet   \n",
      "4    52045241 2017-10-04         4447      16               4108     SmartTV   \n",
      "\n",
      "  advertiser_name source  \n",
      "0        HMFRA_HH   Meta  \n",
      "1        HMFRA_HH   Meta  \n",
      "2        HMFRA_HH   Meta  \n",
      "3        HMFRA_HH   Meta  \n",
      "4        HMFRA_HH   Meta  \n"
     ]
    }
   ],
   "source": [
    "# columns needed for visualizations\n",
    "visualization_metrics = ['campaign_id', 'date', 'impressions', 'clicks', 'video_completions', 'device_type', 'advertiser_name']\n",
    "\n",
    "meta_df['date'] = meta_df['date'].astype('datetime64[ns]')\n",
    "\n",
    "# Cource column for each platform\n",
    "meta_df['source'] = 'Meta'\n",
    "snapchat_df['source'] = 'Snapchat'\n",
    "tiktok_df['source'] = 'TikTok'\n",
    "youtube_df['source'] = 'YouTube'\n",
    "\n",
    "# Combining datasets into one table for platform comparisons\n",
    "platform_data = pd.concat([\n",
    "    meta_df[visualization_metrics + ['source']],\n",
    "    snapchat_df[visualization_metrics + ['source']],\n",
    "    tiktok_df[visualization_metrics + ['source']],\n",
    "    youtube_df[visualization_metrics + ['source']]\n",
    "], ignore_index=True)\n",
    "\n",
    "# Verify\n",
    "print(\"Total rows in platform_data:\", len(platform_data))\n",
    "print(\"Columns in platform_data:\", platform_data.columns.tolist())\n",
    "print(platform_data.head())"
   ]
  },
  {
   "cell_type": "code",
   "execution_count": null,
   "id": "a5d7a413",
   "metadata": {},
   "outputs": [],
   "source": [
    "# Saving platform_data to CSV for Task 1 visualizations\n",
    "platform_data.to_csv('platform_data.csv', index=False) "
   ]
  },
  {
   "cell_type": "code",
   "execution_count": 63,
   "id": "4c246c02",
   "metadata": {},
   "outputs": [],
   "source": [
    "# Save the cleaned META DataFrame to CSV\n",
    "meta_df.to_csv('cleaned_meta.csv', index=False)"
   ]
  }
 ],
 "metadata": {
  "kernelspec": {
   "display_name": "base",
   "language": "python",
   "name": "python3"
  },
  "language_info": {
   "codemirror_mode": {
    "name": "ipython",
    "version": 3
   },
   "file_extension": ".py",
   "mimetype": "text/x-python",
   "name": "python",
   "nbconvert_exporter": "python",
   "pygments_lexer": "ipython3",
   "version": "3.11.8"
  }
 },
 "nbformat": 4,
 "nbformat_minor": 5
}
