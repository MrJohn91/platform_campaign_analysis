{
 "cells": [
  {
   "cell_type": "code",
   "execution_count": 194,
   "id": "780656c2",
   "metadata": {},
   "outputs": [
    {
     "data": {
      "application/vnd.microsoft.datawrangler.viewer.v0+json": {
       "columns": [
        {
         "name": "index",
         "rawType": "int64",
         "type": "integer"
        },
        {
         "name": "campaign_id",
         "rawType": "int64",
         "type": "integer"
        },
        {
         "name": "Startdatum",
         "rawType": "object",
         "type": "string"
        },
        {
         "name": "Endedatum",
         "rawType": "object",
         "type": "string"
        },
        {
         "name": "advertiser_name",
         "rawType": "object",
         "type": "string"
        },
        {
         "name": "impressions",
         "rawType": "int64",
         "type": "integer"
        },
        {
         "name": "clicks",
         "rawType": "int64",
         "type": "integer"
        },
        {
         "name": "trueview_views",
         "rawType": "int64",
         "type": "integer"
        },
        {
         "name": "video_completions",
         "rawType": "int64",
         "type": "integer"
        },
        {
         "name": "date",
         "rawType": "object",
         "type": "string"
        },
        {
         "name": "advertiser_id",
         "rawType": "int64",
         "type": "integer"
        },
        {
         "name": "device_type",
         "rawType": "object",
         "type": "string"
        },
        {
         "name": "source",
         "rawType": "object",
         "type": "string"
        }
       ],
       "conversionMethod": "pd.DataFrame",
       "ref": "7180d7f6-406c-4a0e-b79e-8c5b66f30399",
       "rows": [
        [
         "0",
         "52045241",
         "2017-10-01",
         "2017-10-04",
         "HMFRA_HH",
         "10289",
         "24",
         "0",
         "9524",
         "2017-10-04",
         "843621277",
         "SmartTV",
         "Meta"
        ],
        [
         "1",
         "52045241",
         "2017-10-01",
         "2017-10-04",
         "HMFRA_HH",
         "1117",
         "1",
         "0",
         "1032",
         "2017-10-04",
         "843621277",
         "Tablet",
         "Meta"
        ],
        [
         "2",
         "52045241",
         "2017-10-01",
         "2017-10-04",
         "HMFRA_HH",
         "25286",
         "32",
         "0",
         "23012",
         "2017-10-04",
         "843621277",
         "Desktop",
         "Meta"
        ],
        [
         "3",
         "52045241",
         "2017-10-01",
         "2017-10-04",
         "HMFRA_HH",
         "40988",
         "80",
         "0",
         "37803",
         "2017-10-04",
         "843621277",
         "Tablet",
         "Meta"
        ],
        [
         "4",
         "52045241",
         "2017-10-01",
         "2017-10-04",
         "HMFRA_HH",
         "4447",
         "16",
         "0",
         "4108",
         "2017-10-04",
         "843621277",
         "SmartTV",
         "Meta"
        ]
       ],
       "shape": {
        "columns": 12,
        "rows": 5
       }
      },
      "text/html": [
       "<div>\n",
       "<style scoped>\n",
       "    .dataframe tbody tr th:only-of-type {\n",
       "        vertical-align: middle;\n",
       "    }\n",
       "\n",
       "    .dataframe tbody tr th {\n",
       "        vertical-align: top;\n",
       "    }\n",
       "\n",
       "    .dataframe thead th {\n",
       "        text-align: right;\n",
       "    }\n",
       "</style>\n",
       "<table border=\"1\" class=\"dataframe\">\n",
       "  <thead>\n",
       "    <tr style=\"text-align: right;\">\n",
       "      <th></th>\n",
       "      <th>campaign_id</th>\n",
       "      <th>Startdatum</th>\n",
       "      <th>Endedatum</th>\n",
       "      <th>advertiser_name</th>\n",
       "      <th>impressions</th>\n",
       "      <th>clicks</th>\n",
       "      <th>trueview_views</th>\n",
       "      <th>video_completions</th>\n",
       "      <th>date</th>\n",
       "      <th>advertiser_id</th>\n",
       "      <th>device_type</th>\n",
       "      <th>source</th>\n",
       "    </tr>\n",
       "  </thead>\n",
       "  <tbody>\n",
       "    <tr>\n",
       "      <th>0</th>\n",
       "      <td>52045241</td>\n",
       "      <td>2017-10-01</td>\n",
       "      <td>2017-10-04</td>\n",
       "      <td>HMFRA_HH</td>\n",
       "      <td>10289</td>\n",
       "      <td>24</td>\n",
       "      <td>0</td>\n",
       "      <td>9524</td>\n",
       "      <td>2017-10-04</td>\n",
       "      <td>843621277</td>\n",
       "      <td>SmartTV</td>\n",
       "      <td>Meta</td>\n",
       "    </tr>\n",
       "    <tr>\n",
       "      <th>1</th>\n",
       "      <td>52045241</td>\n",
       "      <td>2017-10-01</td>\n",
       "      <td>2017-10-04</td>\n",
       "      <td>HMFRA_HH</td>\n",
       "      <td>1117</td>\n",
       "      <td>1</td>\n",
       "      <td>0</td>\n",
       "      <td>1032</td>\n",
       "      <td>2017-10-04</td>\n",
       "      <td>843621277</td>\n",
       "      <td>Tablet</td>\n",
       "      <td>Meta</td>\n",
       "    </tr>\n",
       "    <tr>\n",
       "      <th>2</th>\n",
       "      <td>52045241</td>\n",
       "      <td>2017-10-01</td>\n",
       "      <td>2017-10-04</td>\n",
       "      <td>HMFRA_HH</td>\n",
       "      <td>25286</td>\n",
       "      <td>32</td>\n",
       "      <td>0</td>\n",
       "      <td>23012</td>\n",
       "      <td>2017-10-04</td>\n",
       "      <td>843621277</td>\n",
       "      <td>Desktop</td>\n",
       "      <td>Meta</td>\n",
       "    </tr>\n",
       "    <tr>\n",
       "      <th>3</th>\n",
       "      <td>52045241</td>\n",
       "      <td>2017-10-01</td>\n",
       "      <td>2017-10-04</td>\n",
       "      <td>HMFRA_HH</td>\n",
       "      <td>40988</td>\n",
       "      <td>80</td>\n",
       "      <td>0</td>\n",
       "      <td>37803</td>\n",
       "      <td>2017-10-04</td>\n",
       "      <td>843621277</td>\n",
       "      <td>Tablet</td>\n",
       "      <td>Meta</td>\n",
       "    </tr>\n",
       "    <tr>\n",
       "      <th>4</th>\n",
       "      <td>52045241</td>\n",
       "      <td>2017-10-01</td>\n",
       "      <td>2017-10-04</td>\n",
       "      <td>HMFRA_HH</td>\n",
       "      <td>4447</td>\n",
       "      <td>16</td>\n",
       "      <td>0</td>\n",
       "      <td>4108</td>\n",
       "      <td>2017-10-04</td>\n",
       "      <td>843621277</td>\n",
       "      <td>SmartTV</td>\n",
       "      <td>Meta</td>\n",
       "    </tr>\n",
       "  </tbody>\n",
       "</table>\n",
       "</div>"
      ],
      "text/plain": [
       "   campaign_id  Startdatum   Endedatum advertiser_name  impressions  clicks  \\\n",
       "0     52045241  2017-10-01  2017-10-04        HMFRA_HH        10289      24   \n",
       "1     52045241  2017-10-01  2017-10-04        HMFRA_HH         1117       1   \n",
       "2     52045241  2017-10-01  2017-10-04        HMFRA_HH        25286      32   \n",
       "3     52045241  2017-10-01  2017-10-04        HMFRA_HH        40988      80   \n",
       "4     52045241  2017-10-01  2017-10-04        HMFRA_HH         4447      16   \n",
       "\n",
       "   trueview_views  video_completions        date  advertiser_id device_type  \\\n",
       "0               0               9524  2017-10-04      843621277     SmartTV   \n",
       "1               0               1032  2017-10-04      843621277      Tablet   \n",
       "2               0              23012  2017-10-04      843621277     Desktop   \n",
       "3               0              37803  2017-10-04      843621277      Tablet   \n",
       "4               0               4108  2017-10-04      843621277     SmartTV   \n",
       "\n",
       "  source  \n",
       "0   Meta  \n",
       "1   Meta  \n",
       "2   Meta  \n",
       "3   Meta  \n",
       "4   Meta  "
      ]
     },
     "execution_count": 194,
     "metadata": {},
     "output_type": "execute_result"
    }
   ],
   "source": [
    "import pandas as pd\n",
    "\n",
    "# Loading the cleaned Meta dataset\n",
    "meta_df = pd.read_csv('cleaned_meta.csv')\n",
    "meta_df.head()\n"
   ]
  },
  {
   "cell_type": "code",
   "execution_count": 195,
   "id": "788c2d11",
   "metadata": {},
   "outputs": [
    {
     "name": "stdout",
     "output_type": "stream",
     "text": [
      "<class 'pandas.core.frame.DataFrame'>\n",
      "RangeIndex: 1209582 entries, 0 to 1209581\n",
      "Data columns (total 12 columns):\n",
      " #   Column             Non-Null Count    Dtype \n",
      "---  ------             --------------    ----- \n",
      " 0   campaign_id        1209582 non-null  int64 \n",
      " 1   Startdatum         1209582 non-null  object\n",
      " 2   Endedatum          1209582 non-null  object\n",
      " 3   advertiser_name    1209582 non-null  object\n",
      " 4   impressions        1209582 non-null  int64 \n",
      " 5   clicks             1209582 non-null  int64 \n",
      " 6   trueview_views     1209582 non-null  int64 \n",
      " 7   video_completions  1209582 non-null  int64 \n",
      " 8   date               1209582 non-null  object\n",
      " 9   advertiser_id      1209582 non-null  int64 \n",
      " 10  device_type        1209582 non-null  object\n",
      " 11  source             1209582 non-null  object\n",
      "dtypes: int64(6), object(6)\n",
      "memory usage: 110.7+ MB\n"
     ]
    }
   ],
   "source": [
    "meta_df.info()"
   ]
  },
  {
   "cell_type": "code",
   "execution_count": 196,
   "id": "210dc7f8",
   "metadata": {},
   "outputs": [],
   "source": [
    "# Convert date columns to datetime with format\n",
    "meta_df['Startdatum'] = pd.to_datetime(meta_df['Startdatum'], format='mixed')\n",
    "meta_df['Endedatum'] = pd.to_datetime(meta_df['Endedatum'], format='mixed')\n",
    "meta_df['date'] = pd.to_datetime(meta_df['date'], format='mixed')"
   ]
  },
  {
   "cell_type": "code",
   "execution_count": 197,
   "id": "6c8d8c73",
   "metadata": {},
   "outputs": [
    {
     "name": "stdout",
     "output_type": "stream",
     "text": [
      "<class 'pandas.core.frame.DataFrame'>\n",
      "RangeIndex: 1209582 entries, 0 to 1209581\n",
      "Data columns (total 12 columns):\n",
      " #   Column             Non-Null Count    Dtype         \n",
      "---  ------             --------------    -----         \n",
      " 0   campaign_id        1209582 non-null  int64         \n",
      " 1   Startdatum         1209582 non-null  datetime64[ns]\n",
      " 2   Endedatum          1209582 non-null  datetime64[ns]\n",
      " 3   advertiser_name    1209582 non-null  object        \n",
      " 4   impressions        1209582 non-null  int64         \n",
      " 5   clicks             1209582 non-null  int64         \n",
      " 6   trueview_views     1209582 non-null  int64         \n",
      " 7   video_completions  1209582 non-null  int64         \n",
      " 8   date               1209582 non-null  datetime64[ns]\n",
      " 9   advertiser_id      1209582 non-null  int64         \n",
      " 10  device_type        1209582 non-null  object        \n",
      " 11  source             1209582 non-null  object        \n",
      "dtypes: datetime64[ns](3), int64(6), object(3)\n",
      "memory usage: 110.7+ MB\n"
     ]
    }
   ],
   "source": [
    "meta_df.info()"
   ]
  },
  {
   "cell_type": "code",
   "execution_count": 198,
   "id": "c7c13a1e",
   "metadata": {},
   "outputs": [
    {
     "name": "stdout",
     "output_type": "stream",
     "text": [
      "Earliest date: 2017-01-01 00:00:00\n",
      "Latest date: 2017-12-31 00:00:00\n"
     ]
    }
   ],
   "source": [
    "import pandas as pd\n",
    "earliest_date = meta_df['Startdatum'].min()\n",
    "latest_date = meta_df['Endedatum'].max()\n",
    "\n",
    "print(f\"Earliest date: {earliest_date}\")\n",
    "print(f\"Latest date: {latest_date}\")"
   ]
  },
  {
   "cell_type": "code",
   "execution_count": 199,
   "id": "f4c14c83",
   "metadata": {},
   "outputs": [
    {
     "name": "stdout",
     "output_type": "stream",
     "text": [
      "Number of unique campaigns: 1638\n"
     ]
    }
   ],
   "source": [
    "import pandas as pd\n",
    "\n",
    "# Number of unique campaigns \n",
    "unique_campaigns = meta_df['campaign_id'].nunique()\n",
    "print(f\"Number of unique campaigns: {unique_campaigns}\")"
   ]
  },
  {
   "cell_type": "code",
   "execution_count": 200,
   "id": "389e68cf",
   "metadata": {},
   "outputs": [
    {
     "name": "stdout",
     "output_type": "stream",
     "text": [
      "Columns in grouped Meta dataset: ['Campaign_id', 'start_date', 'end_date', 'Impression']\n",
      "\n",
      "First few rows of grouped Meta dataset:\n",
      "   Campaign_id start_date   end_date  Impression\n",
      "0       660202 2017-03-03 2017-03-09  1792172143\n",
      "1       823719 2017-02-06 2017-02-12   186504119\n",
      "2       986754 2017-02-25 2017-03-02  1987903068\n",
      "3      2144261 2017-03-21 2017-03-21   102565720\n",
      "4      2441433 2017-02-20 2017-02-20   349293774\n"
     ]
    }
   ],
   "source": [
    "# Grouping by campaign_id \n",
    "meta_campaigns = meta_df.groupby(['campaign_id']).agg({\n",
    "    'Startdatum': 'min',  \n",
    "    'Endedatum': 'max',   \n",
    "    'impressions': 'sum',  \n",
    "}).reset_index()\n",
    "\n",
    "# Renaming columns\n",
    "meta_campaigns = meta_campaigns.rename(columns={\n",
    "    'campaign_id': 'Campaign_id',\n",
    "    'Startdatum': 'start_date',\n",
    "    'Endedatum': 'end_date',\n",
    "    'impressions': 'Impression'\n",
    "})\n",
    "print(\"Columns in grouped Meta dataset:\", meta_campaigns.columns.tolist())\n",
    "print(\"\\nFirst few rows of grouped Meta dataset:\")\n",
    "print(meta_campaigns.head())"
   ]
  },
  {
   "cell_type": "code",
   "execution_count": 201,
   "id": "8850a1cf",
   "metadata": {},
   "outputs": [
    {
     "name": "stdout",
     "output_type": "stream",
     "text": [
      "Campaign duration stats:\n",
      "count    1638.000000\n",
      "mean        6.967643\n",
      "std         8.307884\n",
      "min         1.000000\n",
      "25%         1.000000\n",
      "50%         4.000000\n",
      "75%        10.000000\n",
      "max        63.000000\n",
      "Name: duration_days, dtype: float64\n",
      "\n",
      "Sample short campaigns (<=1 day):\n",
      "    Campaign_id start_date   end_date  Impression  duration_days\n",
      "3       2144261 2017-03-21 2017-03-21   102565720              1\n",
      "4       2441433 2017-02-20 2017-02-20   349293774              1\n",
      "8       3412620 2017-11-15 2017-11-15    12160778              1\n",
      "9       3626245 2017-03-04 2017-03-04    12199753              1\n",
      "10      3659311 2017-12-24 2017-12-24     1253771              1\n"
     ]
    }
   ],
   "source": [
    "meta_campaigns['duration_days'] = (meta_campaigns['end_date'] - meta_campaigns['start_date']).dt.days + 1\n",
    "\n",
    "print(\"Campaign duration stats:\")\n",
    "print(meta_campaigns['duration_days'].describe())\n",
    "print(\"\\nSample short campaigns (<=1 day):\")\n",
    "print(meta_campaigns[meta_campaigns['duration_days'] <= 1].head())\n"
   ]
  },
  {
   "cell_type": "code",
   "execution_count": 216,
   "id": "bb5a7688",
   "metadata": {},
   "outputs": [
    {
     "data": {
      "text/plain": [
       "Campaign_id               int64\n",
       "start_date       datetime64[ns]\n",
       "end_date         datetime64[ns]\n",
       "Impression                int64\n",
       "duration_days             int64\n",
       "dtype: object"
      ]
     },
     "execution_count": 216,
     "metadata": {},
     "output_type": "execute_result"
    }
   ],
   "source": [
    "meta_campaigns.dtypes"
   ]
  },
  {
   "cell_type": "code",
   "execution_count": 217,
   "id": "29c58e46",
   "metadata": {},
   "outputs": [
    {
     "name": "stdout",
     "output_type": "stream",
     "text": [
      "Total number of weeks: 53\n",
      "\n",
      "First few weeks:\n",
      "  week       start         end\n",
      "0  CW0  2016-12-26  2017-01-01\n",
      "1  CW1  2017-01-02  2017-01-08\n",
      "2  CW2  2017-01-09  2017-01-15\n",
      "3  CW3  2017-01-16  2017-01-22\n",
      "4  CW4  2017-01-23  2017-01-29\n",
      "\n",
      "Last few weeks:\n",
      "    week       start         end\n",
      "48  CW48  2017-11-27  2017-12-03\n",
      "49  CW49  2017-12-04  2017-12-10\n",
      "50  CW50  2017-12-11  2017-12-17\n",
      "51  CW51  2017-12-18  2017-12-24\n",
      "52  CW52  2017-12-25  2017-12-31\n"
     ]
    }
   ],
   "source": [
    "from datetime import datetime, timedelta\n",
    "\n",
    "# Starting with CW0 as the last week of 2016\n",
    "cw0_start = datetime(2016, 12, 26)\n",
    "weeks = []\n",
    "\n",
    "# Define weeks CW0 to CW52\n",
    "for i in range(53):\n",
    "    start_date = cw0_start + timedelta(days=i*7)\n",
    "    end_date = start_date + timedelta(days=6)\n",
    "    weeks.append({'week': f'CW{i}', 'start': start_date, 'end': end_date})\n",
    "\n",
    "# Create DataFrame\n",
    "weeks_df = pd.DataFrame(weeks)\n",
    "\n",
    "# Format dates for display (but keep as datetime for calculations)\n",
    "weeks_df['start'] = weeks_df['start'].apply(lambda x: x.strftime('%Y-%m-%d'))\n",
    "weeks_df['end'] = weeks_df['end'].apply(lambda x: x.strftime('%Y-%m-%d'))\n",
    "print(f\"Total number of weeks: {len(weeks_df)}\")\n",
    "print(\"\\nFirst few weeks:\")\n",
    "print(weeks_df.head())\n",
    "print(\"\\nLast few weeks:\")\n",
    "print(weeks_df.tail())"
   ]
  },
  {
   "cell_type": "code",
   "execution_count": 218,
   "id": "4fa956b7",
   "metadata": {},
   "outputs": [
    {
     "name": "stdout",
     "output_type": "stream",
     "text": [
      "\n",
      "Data types in weeks_df:\n",
      "week     object\n",
      "start    object\n",
      "end      object\n",
      "dtype: object\n"
     ]
    }
   ],
   "source": [
    "print(\"\\nData types in weeks_df:\")\n",
    "print(weeks_df.dtypes)"
   ]
  },
  {
   "cell_type": "code",
   "execution_count": null,
   "id": "cbc8f4d8",
   "metadata": {},
   "outputs": [
    {
     "name": "stdout",
     "output_type": "stream",
     "text": [
      "\n",
      "Data types in weeks_df after conversion:\n",
      "week             object\n",
      "start    datetime64[ns]\n",
      "end      datetime64[ns]\n",
      "dtype: object\n",
      "\n",
      "First few rows of weeks_df after conversion:\n",
      "  week      start        end\n",
      "0  CW0 2016-12-26 2017-01-01\n",
      "1  CW1 2017-01-02 2017-01-08\n",
      "2  CW2 2017-01-09 2017-01-15\n",
      "3  CW3 2017-01-16 2017-01-22\n",
      "4  CW4 2017-01-23 2017-01-29\n"
     ]
    }
   ],
   "source": [
    "weeks_df['start'] = pd.to_datetime(weeks_df['start'])\n",
    "weeks_df['end'] = pd.to_datetime(weeks_df['end'])\n",
    "\n",
    "print(\"\\nData types in weeks_df after conversion:\")\n",
    "print(weeks_df.dtypes)\n",
    "print(\"\\nFirst few rows of weeks_df after conversion:\")\n",
    "print(weeks_df.head())"
   ]
  },
  {
   "cell_type": "code",
   "execution_count": 203,
   "id": "53088feb",
   "metadata": {},
   "outputs": [
    {
     "data": {
      "application/vnd.microsoft.datawrangler.viewer.v0+json": {
       "columns": [
        {
         "name": "index",
         "rawType": "int64",
         "type": "integer"
        },
        {
         "name": "week",
         "rawType": "object",
         "type": "string"
        },
        {
         "name": "start",
         "rawType": "object",
         "type": "string"
        },
        {
         "name": "end",
         "rawType": "object",
         "type": "string"
        }
       ],
       "conversionMethod": "pd.DataFrame",
       "ref": "4a71f293-cefd-4b21-8225-d2376d11489b",
       "rows": [
        [
         "0",
         "CW0",
         "2016-12-26",
         "2017-01-01"
        ],
        [
         "1",
         "CW1",
         "2017-01-02",
         "2017-01-08"
        ],
        [
         "2",
         "CW2",
         "2017-01-09",
         "2017-01-15"
        ],
        [
         "3",
         "CW3",
         "2017-01-16",
         "2017-01-22"
        ],
        [
         "4",
         "CW4",
         "2017-01-23",
         "2017-01-29"
        ]
       ],
       "shape": {
        "columns": 3,
        "rows": 5
       }
      },
      "text/html": [
       "<div>\n",
       "<style scoped>\n",
       "    .dataframe tbody tr th:only-of-type {\n",
       "        vertical-align: middle;\n",
       "    }\n",
       "\n",
       "    .dataframe tbody tr th {\n",
       "        vertical-align: top;\n",
       "    }\n",
       "\n",
       "    .dataframe thead th {\n",
       "        text-align: right;\n",
       "    }\n",
       "</style>\n",
       "<table border=\"1\" class=\"dataframe\">\n",
       "  <thead>\n",
       "    <tr style=\"text-align: right;\">\n",
       "      <th></th>\n",
       "      <th>week</th>\n",
       "      <th>start</th>\n",
       "      <th>end</th>\n",
       "    </tr>\n",
       "  </thead>\n",
       "  <tbody>\n",
       "    <tr>\n",
       "      <th>0</th>\n",
       "      <td>CW0</td>\n",
       "      <td>2016-12-26</td>\n",
       "      <td>2017-01-01</td>\n",
       "    </tr>\n",
       "    <tr>\n",
       "      <th>1</th>\n",
       "      <td>CW1</td>\n",
       "      <td>2017-01-02</td>\n",
       "      <td>2017-01-08</td>\n",
       "    </tr>\n",
       "    <tr>\n",
       "      <th>2</th>\n",
       "      <td>CW2</td>\n",
       "      <td>2017-01-09</td>\n",
       "      <td>2017-01-15</td>\n",
       "    </tr>\n",
       "    <tr>\n",
       "      <th>3</th>\n",
       "      <td>CW3</td>\n",
       "      <td>2017-01-16</td>\n",
       "      <td>2017-01-22</td>\n",
       "    </tr>\n",
       "    <tr>\n",
       "      <th>4</th>\n",
       "      <td>CW4</td>\n",
       "      <td>2017-01-23</td>\n",
       "      <td>2017-01-29</td>\n",
       "    </tr>\n",
       "  </tbody>\n",
       "</table>\n",
       "</div>"
      ],
      "text/plain": [
       "  week       start         end\n",
       "0  CW0  2016-12-26  2017-01-01\n",
       "1  CW1  2017-01-02  2017-01-08\n",
       "2  CW2  2017-01-09  2017-01-15\n",
       "3  CW3  2017-01-16  2017-01-22\n",
       "4  CW4  2017-01-23  2017-01-29"
      ]
     },
     "execution_count": 203,
     "metadata": {},
     "output_type": "execute_result"
    }
   ],
   "source": [
    "weeks_df.head()"
   ]
  },
  {
   "cell_type": "code",
   "execution_count": 220,
   "id": "b028cd01",
   "metadata": {},
   "outputs": [
    {
     "name": "stdout",
     "output_type": "stream",
     "text": [
      "Test result for Campaign 660202:\n",
      "   CW0  CW1  CW2  CW3  CW4  CW5  CW6  CW7  CW8        CW9  ...  CW44  CW45  \\\n",
      "0    0    0    0    0    0    0    0    0    0  768073776  ...     0     0   \n",
      "\n",
      "   CW46  CW47  CW48  CW49  CW50  CW51  CW52  total_weeks  \n",
      "0     0     0     0     0     0     0     0            2  \n",
      "\n",
      "[1 rows x 54 columns]\n"
     ]
    }
   ],
   "source": [
    "def split_impressions(row, weeks_df):\n",
    "    start, end = row['start_date'], row['end_date']\n",
    "    total_impressions = row['Impression']\n",
    "    \n",
    "    # Calculate daily impressions\n",
    "    daily_impressions = total_impressions / max(1, (end - start).days + 1)\n",
    "    \n",
    "    impressions = []\n",
    "    weeks_count = 0\n",
    "    \n",
    "    for _, week in weeks_df.iterrows():\n",
    "        # Dates are already datetime, so we can compare directly\n",
    "        week_start = week['start'].normalize()\n",
    "        week_end = week['end'].normalize()\n",
    "        \n",
    "        # Calculate overlap\n",
    "        overlap_start = max(start, week_start)\n",
    "        overlap_end = min(end, week_end)\n",
    "        \n",
    "        # Calculate overlap days (set 0 if no overlap)\n",
    "        if overlap_end < overlap_start:\n",
    "            overlap_days = 0\n",
    "        else:\n",
    "            overlap_days = (overlap_end - overlap_start).days + 1\n",
    "        \n",
    "        # Calculate impressions for this week\n",
    "        impression_for_week = daily_impressions * overlap_days\n",
    "        impressions.append(impression_for_week)\n",
    "        \n",
    "        # Count weeks with non-zero impressions\n",
    "        if overlap_days > 0:\n",
    "            weeks_count += 1\n",
    "    \n",
    "    # Convert to integers and distribute rounding errors using largest remainder method\n",
    "    int_impressions = [int(imp) for imp in impressions]\n",
    "    remainder_tuples = sorted([(imp - int(imp), i) for i, imp in enumerate(impressions)], reverse=True)\n",
    "    \n",
    "    difference = int(total_impressions - sum(int_impressions))\n",
    "    for i in range(difference):\n",
    "        if i < len(remainder_tuples):\n",
    "            int_impressions[remainder_tuples[i][1]] += 1\n",
    "    \n",
    "    return int_impressions + [weeks_count]\n",
    "\n",
    "# Test the function on the first campaign\n",
    "test_row = meta_campaigns.iloc[0]  # Campaign 660202\n",
    "result = split_impressions(test_row, weeks_df)\n",
    "week_columns = [f'CW{i}' for i in range(53)] + ['total_weeks']\n",
    "test_df = pd.DataFrame([result], columns=week_columns)\n",
    "print(\"Test result for Campaign 660202:\")\n",
    "print(test_df)"
   ]
  },
  {
   "cell_type": "markdown",
   "id": "c5b0d601",
   "metadata": {},
   "source": [
    "### Applying the Function to Create the Final DataFrame"
   ]
  },
  {
   "cell_type": "code",
   "execution_count": 222,
   "id": "85e8fe14",
   "metadata": {},
   "outputs": [
    {
     "name": "stdout",
     "output_type": "stream",
     "text": [
      "First 5 rows of meta_weekly_impressions:\n",
      "   Campaign_id start_date   end_date  Impression  duration_days  CW0  CW1  \\\n",
      "0       660202 2017-03-03 2017-03-09  1792172143              7    0    0   \n",
      "1       823719 2017-02-06 2017-02-12   186504119              7    0    0   \n",
      "2       986754 2017-02-25 2017-03-02  1987903068              6    0    0   \n",
      "3      2144261 2017-03-21 2017-03-21   102565720              1    0    0   \n",
      "4      2441433 2017-02-20 2017-02-20   349293774              1    0    0   \n",
      "\n",
      "   CW2  CW3  CW4  ...  CW44  CW45  CW46  CW47  CW48  CW49  CW50  CW51  CW52  \\\n",
      "0    0    0    0  ...     0     0     0     0     0     0     0     0     0   \n",
      "1    0    0    0  ...     0     0     0     0     0     0     0     0     0   \n",
      "2    0    0    0  ...     0     0     0     0     0     0     0     0     0   \n",
      "3    0    0    0  ...     0     0     0     0     0     0     0     0     0   \n",
      "4    0    0    0  ...     0     0     0     0     0     0     0     0     0   \n",
      "\n",
      "   total_weeks  \n",
      "0            2  \n",
      "1            1  \n",
      "2            2  \n",
      "3            1  \n",
      "4            1  \n",
      "\n",
      "[5 rows x 59 columns]\n"
     ]
    }
   ],
   "source": [
    "# Defining column names\n",
    "week_columns = [f'CW{i}' for i in range(53)] + ['total_weeks']\n",
    "\n",
    "# Applying the function to each campaign\n",
    "weekly_data = meta_campaigns.apply(lambda row: split_impressions(row, weeks_df), axis=1)\n",
    "\n",
    "# DataFrame with the weekly impressions\n",
    "weekly_df = pd.DataFrame(weekly_data.tolist(), columns=week_columns)\n",
    "\n",
    "# Combining with meta_campaigns\n",
    "meta_weekly_impressions = pd.concat([meta_campaigns, weekly_df], axis=1)\n",
    "\n",
    "# Verify the result\n",
    "print(\"First 5 rows of meta_weekly_impressions:\")\n",
    "print(meta_weekly_impressions.head())"
   ]
  },
  {
   "cell_type": "code",
   "execution_count": 224,
   "id": "a879dbec",
   "metadata": {},
   "outputs": [
    {
     "data": {
      "application/vnd.microsoft.datawrangler.viewer.v0+json": {
       "columns": [
        {
         "name": "index",
         "rawType": "int64",
         "type": "integer"
        },
        {
         "name": "Campaign_id",
         "rawType": "int64",
         "type": "integer"
        },
        {
         "name": "start_date",
         "rawType": "datetime64[ns]",
         "type": "datetime"
        },
        {
         "name": "end_date",
         "rawType": "datetime64[ns]",
         "type": "datetime"
        },
        {
         "name": "Impression",
         "rawType": "int64",
         "type": "integer"
        },
        {
         "name": "duration_days",
         "rawType": "int64",
         "type": "integer"
        },
        {
         "name": "CW0",
         "rawType": "int64",
         "type": "integer"
        },
        {
         "name": "CW1",
         "rawType": "int64",
         "type": "integer"
        },
        {
         "name": "CW2",
         "rawType": "int64",
         "type": "integer"
        },
        {
         "name": "CW3",
         "rawType": "int64",
         "type": "integer"
        },
        {
         "name": "CW4",
         "rawType": "int64",
         "type": "integer"
        },
        {
         "name": "CW5",
         "rawType": "int64",
         "type": "integer"
        },
        {
         "name": "CW6",
         "rawType": "int64",
         "type": "integer"
        },
        {
         "name": "CW7",
         "rawType": "int64",
         "type": "integer"
        },
        {
         "name": "CW8",
         "rawType": "int64",
         "type": "integer"
        },
        {
         "name": "CW9",
         "rawType": "int64",
         "type": "integer"
        },
        {
         "name": "CW10",
         "rawType": "int64",
         "type": "integer"
        },
        {
         "name": "CW11",
         "rawType": "int64",
         "type": "integer"
        },
        {
         "name": "CW12",
         "rawType": "int64",
         "type": "integer"
        },
        {
         "name": "CW13",
         "rawType": "int64",
         "type": "integer"
        },
        {
         "name": "CW14",
         "rawType": "int64",
         "type": "integer"
        },
        {
         "name": "CW15",
         "rawType": "int64",
         "type": "integer"
        },
        {
         "name": "CW16",
         "rawType": "int64",
         "type": "integer"
        },
        {
         "name": "CW17",
         "rawType": "int64",
         "type": "integer"
        },
        {
         "name": "CW18",
         "rawType": "int64",
         "type": "integer"
        },
        {
         "name": "CW19",
         "rawType": "int64",
         "type": "integer"
        },
        {
         "name": "CW20",
         "rawType": "int64",
         "type": "integer"
        },
        {
         "name": "CW21",
         "rawType": "int64",
         "type": "integer"
        },
        {
         "name": "CW22",
         "rawType": "int64",
         "type": "integer"
        },
        {
         "name": "CW23",
         "rawType": "int64",
         "type": "integer"
        },
        {
         "name": "CW24",
         "rawType": "int64",
         "type": "integer"
        },
        {
         "name": "CW25",
         "rawType": "int64",
         "type": "integer"
        },
        {
         "name": "CW26",
         "rawType": "int64",
         "type": "integer"
        },
        {
         "name": "CW27",
         "rawType": "int64",
         "type": "integer"
        },
        {
         "name": "CW28",
         "rawType": "int64",
         "type": "integer"
        },
        {
         "name": "CW29",
         "rawType": "int64",
         "type": "integer"
        },
        {
         "name": "CW30",
         "rawType": "int64",
         "type": "integer"
        },
        {
         "name": "CW31",
         "rawType": "int64",
         "type": "integer"
        },
        {
         "name": "CW32",
         "rawType": "int64",
         "type": "integer"
        },
        {
         "name": "CW33",
         "rawType": "int64",
         "type": "integer"
        },
        {
         "name": "CW34",
         "rawType": "int64",
         "type": "integer"
        },
        {
         "name": "CW35",
         "rawType": "int64",
         "type": "integer"
        },
        {
         "name": "CW36",
         "rawType": "int64",
         "type": "integer"
        },
        {
         "name": "CW37",
         "rawType": "int64",
         "type": "integer"
        },
        {
         "name": "CW38",
         "rawType": "int64",
         "type": "integer"
        },
        {
         "name": "CW39",
         "rawType": "int64",
         "type": "integer"
        },
        {
         "name": "CW40",
         "rawType": "int64",
         "type": "integer"
        },
        {
         "name": "CW41",
         "rawType": "int64",
         "type": "integer"
        },
        {
         "name": "CW42",
         "rawType": "int64",
         "type": "integer"
        },
        {
         "name": "CW43",
         "rawType": "int64",
         "type": "integer"
        },
        {
         "name": "CW44",
         "rawType": "int64",
         "type": "integer"
        },
        {
         "name": "CW45",
         "rawType": "int64",
         "type": "integer"
        },
        {
         "name": "CW46",
         "rawType": "int64",
         "type": "integer"
        },
        {
         "name": "CW47",
         "rawType": "int64",
         "type": "integer"
        },
        {
         "name": "CW48",
         "rawType": "int64",
         "type": "integer"
        },
        {
         "name": "CW49",
         "rawType": "int64",
         "type": "integer"
        },
        {
         "name": "CW50",
         "rawType": "int64",
         "type": "integer"
        },
        {
         "name": "CW51",
         "rawType": "int64",
         "type": "integer"
        },
        {
         "name": "CW52",
         "rawType": "int64",
         "type": "integer"
        },
        {
         "name": "total_weeks",
         "rawType": "int64",
         "type": "integer"
        }
       ],
       "conversionMethod": "pd.DataFrame",
       "ref": "75e03a36-a230-4576-b0aa-7bff06356079",
       "rows": [
        [
         "0",
         "660202",
         "2017-03-03 00:00:00",
         "2017-03-09 00:00:00",
         "1792172143",
         "7",
         "0",
         "0",
         "0",
         "0",
         "0",
         "0",
         "0",
         "0",
         "0",
         "768073776",
         "1024098367",
         "0",
         "0",
         "0",
         "0",
         "0",
         "0",
         "0",
         "0",
         "0",
         "0",
         "0",
         "0",
         "0",
         "0",
         "0",
         "0",
         "0",
         "0",
         "0",
         "0",
         "0",
         "0",
         "0",
         "0",
         "0",
         "0",
         "0",
         "0",
         "0",
         "0",
         "0",
         "0",
         "0",
         "0",
         "0",
         "0",
         "0",
         "0",
         "0",
         "0",
         "0",
         "0",
         "2"
        ],
        [
         "1",
         "823719",
         "2017-02-06 00:00:00",
         "2017-02-12 00:00:00",
         "186504119",
         "7",
         "0",
         "0",
         "0",
         "0",
         "0",
         "0",
         "186504119",
         "0",
         "0",
         "0",
         "0",
         "0",
         "0",
         "0",
         "0",
         "0",
         "0",
         "0",
         "0",
         "0",
         "0",
         "0",
         "0",
         "0",
         "0",
         "0",
         "0",
         "0",
         "0",
         "0",
         "0",
         "0",
         "0",
         "0",
         "0",
         "0",
         "0",
         "0",
         "0",
         "0",
         "0",
         "0",
         "0",
         "0",
         "0",
         "0",
         "0",
         "0",
         "0",
         "0",
         "0",
         "0",
         "0",
         "1"
        ],
        [
         "2",
         "986754",
         "2017-02-25 00:00:00",
         "2017-03-02 00:00:00",
         "1987903068",
         "6",
         "0",
         "0",
         "0",
         "0",
         "0",
         "0",
         "0",
         "0",
         "662634356",
         "1325268712",
         "0",
         "0",
         "0",
         "0",
         "0",
         "0",
         "0",
         "0",
         "0",
         "0",
         "0",
         "0",
         "0",
         "0",
         "0",
         "0",
         "0",
         "0",
         "0",
         "0",
         "0",
         "0",
         "0",
         "0",
         "0",
         "0",
         "0",
         "0",
         "0",
         "0",
         "0",
         "0",
         "0",
         "0",
         "0",
         "0",
         "0",
         "0",
         "0",
         "0",
         "0",
         "0",
         "0",
         "2"
        ],
        [
         "3",
         "2144261",
         "2017-03-21 00:00:00",
         "2017-03-21 00:00:00",
         "102565720",
         "1",
         "0",
         "0",
         "0",
         "0",
         "0",
         "0",
         "0",
         "0",
         "0",
         "0",
         "0",
         "0",
         "102565720",
         "0",
         "0",
         "0",
         "0",
         "0",
         "0",
         "0",
         "0",
         "0",
         "0",
         "0",
         "0",
         "0",
         "0",
         "0",
         "0",
         "0",
         "0",
         "0",
         "0",
         "0",
         "0",
         "0",
         "0",
         "0",
         "0",
         "0",
         "0",
         "0",
         "0",
         "0",
         "0",
         "0",
         "0",
         "0",
         "0",
         "0",
         "0",
         "0",
         "0",
         "1"
        ],
        [
         "4",
         "2441433",
         "2017-02-20 00:00:00",
         "2017-02-20 00:00:00",
         "349293774",
         "1",
         "0",
         "0",
         "0",
         "0",
         "0",
         "0",
         "0",
         "0",
         "349293774",
         "0",
         "0",
         "0",
         "0",
         "0",
         "0",
         "0",
         "0",
         "0",
         "0",
         "0",
         "0",
         "0",
         "0",
         "0",
         "0",
         "0",
         "0",
         "0",
         "0",
         "0",
         "0",
         "0",
         "0",
         "0",
         "0",
         "0",
         "0",
         "0",
         "0",
         "0",
         "0",
         "0",
         "0",
         "0",
         "0",
         "0",
         "0",
         "0",
         "0",
         "0",
         "0",
         "0",
         "0",
         "1"
        ]
       ],
       "shape": {
        "columns": 59,
        "rows": 5
       }
      },
      "text/html": [
       "<div>\n",
       "<style scoped>\n",
       "    .dataframe tbody tr th:only-of-type {\n",
       "        vertical-align: middle;\n",
       "    }\n",
       "\n",
       "    .dataframe tbody tr th {\n",
       "        vertical-align: top;\n",
       "    }\n",
       "\n",
       "    .dataframe thead th {\n",
       "        text-align: right;\n",
       "    }\n",
       "</style>\n",
       "<table border=\"1\" class=\"dataframe\">\n",
       "  <thead>\n",
       "    <tr style=\"text-align: right;\">\n",
       "      <th></th>\n",
       "      <th>Campaign_id</th>\n",
       "      <th>start_date</th>\n",
       "      <th>end_date</th>\n",
       "      <th>Impression</th>\n",
       "      <th>duration_days</th>\n",
       "      <th>CW0</th>\n",
       "      <th>CW1</th>\n",
       "      <th>CW2</th>\n",
       "      <th>CW3</th>\n",
       "      <th>CW4</th>\n",
       "      <th>...</th>\n",
       "      <th>CW44</th>\n",
       "      <th>CW45</th>\n",
       "      <th>CW46</th>\n",
       "      <th>CW47</th>\n",
       "      <th>CW48</th>\n",
       "      <th>CW49</th>\n",
       "      <th>CW50</th>\n",
       "      <th>CW51</th>\n",
       "      <th>CW52</th>\n",
       "      <th>total_weeks</th>\n",
       "    </tr>\n",
       "  </thead>\n",
       "  <tbody>\n",
       "    <tr>\n",
       "      <th>0</th>\n",
       "      <td>660202</td>\n",
       "      <td>2017-03-03</td>\n",
       "      <td>2017-03-09</td>\n",
       "      <td>1792172143</td>\n",
       "      <td>7</td>\n",
       "      <td>0</td>\n",
       "      <td>0</td>\n",
       "      <td>0</td>\n",
       "      <td>0</td>\n",
       "      <td>0</td>\n",
       "      <td>...</td>\n",
       "      <td>0</td>\n",
       "      <td>0</td>\n",
       "      <td>0</td>\n",
       "      <td>0</td>\n",
       "      <td>0</td>\n",
       "      <td>0</td>\n",
       "      <td>0</td>\n",
       "      <td>0</td>\n",
       "      <td>0</td>\n",
       "      <td>2</td>\n",
       "    </tr>\n",
       "    <tr>\n",
       "      <th>1</th>\n",
       "      <td>823719</td>\n",
       "      <td>2017-02-06</td>\n",
       "      <td>2017-02-12</td>\n",
       "      <td>186504119</td>\n",
       "      <td>7</td>\n",
       "      <td>0</td>\n",
       "      <td>0</td>\n",
       "      <td>0</td>\n",
       "      <td>0</td>\n",
       "      <td>0</td>\n",
       "      <td>...</td>\n",
       "      <td>0</td>\n",
       "      <td>0</td>\n",
       "      <td>0</td>\n",
       "      <td>0</td>\n",
       "      <td>0</td>\n",
       "      <td>0</td>\n",
       "      <td>0</td>\n",
       "      <td>0</td>\n",
       "      <td>0</td>\n",
       "      <td>1</td>\n",
       "    </tr>\n",
       "    <tr>\n",
       "      <th>2</th>\n",
       "      <td>986754</td>\n",
       "      <td>2017-02-25</td>\n",
       "      <td>2017-03-02</td>\n",
       "      <td>1987903068</td>\n",
       "      <td>6</td>\n",
       "      <td>0</td>\n",
       "      <td>0</td>\n",
       "      <td>0</td>\n",
       "      <td>0</td>\n",
       "      <td>0</td>\n",
       "      <td>...</td>\n",
       "      <td>0</td>\n",
       "      <td>0</td>\n",
       "      <td>0</td>\n",
       "      <td>0</td>\n",
       "      <td>0</td>\n",
       "      <td>0</td>\n",
       "      <td>0</td>\n",
       "      <td>0</td>\n",
       "      <td>0</td>\n",
       "      <td>2</td>\n",
       "    </tr>\n",
       "    <tr>\n",
       "      <th>3</th>\n",
       "      <td>2144261</td>\n",
       "      <td>2017-03-21</td>\n",
       "      <td>2017-03-21</td>\n",
       "      <td>102565720</td>\n",
       "      <td>1</td>\n",
       "      <td>0</td>\n",
       "      <td>0</td>\n",
       "      <td>0</td>\n",
       "      <td>0</td>\n",
       "      <td>0</td>\n",
       "      <td>...</td>\n",
       "      <td>0</td>\n",
       "      <td>0</td>\n",
       "      <td>0</td>\n",
       "      <td>0</td>\n",
       "      <td>0</td>\n",
       "      <td>0</td>\n",
       "      <td>0</td>\n",
       "      <td>0</td>\n",
       "      <td>0</td>\n",
       "      <td>1</td>\n",
       "    </tr>\n",
       "    <tr>\n",
       "      <th>4</th>\n",
       "      <td>2441433</td>\n",
       "      <td>2017-02-20</td>\n",
       "      <td>2017-02-20</td>\n",
       "      <td>349293774</td>\n",
       "      <td>1</td>\n",
       "      <td>0</td>\n",
       "      <td>0</td>\n",
       "      <td>0</td>\n",
       "      <td>0</td>\n",
       "      <td>0</td>\n",
       "      <td>...</td>\n",
       "      <td>0</td>\n",
       "      <td>0</td>\n",
       "      <td>0</td>\n",
       "      <td>0</td>\n",
       "      <td>0</td>\n",
       "      <td>0</td>\n",
       "      <td>0</td>\n",
       "      <td>0</td>\n",
       "      <td>0</td>\n",
       "      <td>1</td>\n",
       "    </tr>\n",
       "  </tbody>\n",
       "</table>\n",
       "<p>5 rows × 59 columns</p>\n",
       "</div>"
      ],
      "text/plain": [
       "   Campaign_id start_date   end_date  Impression  duration_days  CW0  CW1  \\\n",
       "0       660202 2017-03-03 2017-03-09  1792172143              7    0    0   \n",
       "1       823719 2017-02-06 2017-02-12   186504119              7    0    0   \n",
       "2       986754 2017-02-25 2017-03-02  1987903068              6    0    0   \n",
       "3      2144261 2017-03-21 2017-03-21   102565720              1    0    0   \n",
       "4      2441433 2017-02-20 2017-02-20   349293774              1    0    0   \n",
       "\n",
       "   CW2  CW3  CW4  ...  CW44  CW45  CW46  CW47  CW48  CW49  CW50  CW51  CW52  \\\n",
       "0    0    0    0  ...     0     0     0     0     0     0     0     0     0   \n",
       "1    0    0    0  ...     0     0     0     0     0     0     0     0     0   \n",
       "2    0    0    0  ...     0     0     0     0     0     0     0     0     0   \n",
       "3    0    0    0  ...     0     0     0     0     0     0     0     0     0   \n",
       "4    0    0    0  ...     0     0     0     0     0     0     0     0     0   \n",
       "\n",
       "   total_weeks  \n",
       "0            2  \n",
       "1            1  \n",
       "2            2  \n",
       "3            1  \n",
       "4            1  \n",
       "\n",
       "[5 rows x 59 columns]"
      ]
     },
     "execution_count": 224,
     "metadata": {},
     "output_type": "execute_result"
    }
   ],
   "source": [
    "meta_weekly_impressions.head()"
   ]
  },
  {
   "cell_type": "code",
   "execution_count": 153,
   "id": "d9b4a5d4",
   "metadata": {},
   "outputs": [
    {
     "name": "stdout",
     "output_type": "stream",
     "text": [
      "['Campaign_id', 'start_date', 'end_date', 'Impression', 'duration_days', 'CW0', 'CW1', 'CW2', 'CW3', 'CW4', 'CW5', 'CW6', 'CW7', 'CW8', 'CW9', 'CW10', 'CW11', 'CW12', 'CW13', 'CW14', 'CW15', 'CW16', 'CW17', 'CW18', 'CW19', 'CW20', 'CW21', 'CW22', 'CW23', 'CW24', 'CW25', 'CW26', 'CW27', 'CW28', 'CW29', 'CW30', 'CW31', 'CW32', 'CW33', 'CW34', 'CW35', 'CW36', 'CW37', 'CW38', 'CW39', 'CW40', 'CW41', 'CW42', 'CW43', 'CW44', 'CW45', 'CW46', 'CW47', 'CW48', 'CW49', 'CW50', 'CW51', 'CW52', 'total_weeks']\n"
     ]
    }
   ],
   "source": [
    "print(meta_weekly_impressions.columns.tolist())\n"
   ]
  },
  {
   "cell_type": "code",
   "execution_count": 243,
   "id": "2659292d",
   "metadata": {},
   "outputs": [
    {
     "data": {
      "application/vnd.plotly.v1+json": {
       "config": {
        "plotlyServerURL": "https://plot.ly"
       },
       "data": [
        {
         "alignmentgroup": "True",
         "hovertemplate": "Week: %{x}<br>Impressions: %{y:,.0f}<extra></extra>",
         "legendgroup": "Other",
         "marker": {
          "color": "#c48a47",
          "line": {
           "width": 0
          },
          "pattern": {
           "shape": ""
          }
         },
         "name": "Other",
         "offsetgroup": "Other",
         "orientation": "v",
         "showlegend": true,
         "textposition": "auto",
         "type": "bar",
         "x": [
          "CW0",
          "CW1",
          "CW2",
          "CW3",
          "CW4",
          "CW5",
          "CW6",
          "CW7",
          "CW8",
          "CW10",
          "CW11",
          "CW12",
          "CW13",
          "CW14",
          "CW15",
          "CW16",
          "CW17",
          "CW18",
          "CW19",
          "CW20",
          "CW22",
          "CW23",
          "CW24",
          "CW25",
          "CW26",
          "CW27",
          "CW28",
          "CW29",
          "CW30",
          "CW32",
          "CW33",
          "CW34",
          "CW35",
          "CW36",
          "CW37",
          "CW38",
          "CW39",
          "CW40",
          "CW41",
          "CW42",
          "CW43",
          "CW44",
          "CW45",
          "CW46",
          "CW47",
          "CW48",
          "CW49",
          "CW50",
          "CW51",
          "CW52"
         ],
         "xaxis": "x",
         "y": [
          884914,
          9777781,
          144621672,
          257431827,
          495072351,
          261240574,
          743651934,
          667901025,
          1619767117,
          1248752276,
          669925003,
          952441694,
          478107168,
          168092480,
          333445388,
          752239432,
          747383196,
          331311432,
          258106587,
          494613719,
          709240117,
          207580869,
          194057908,
          167118670,
          173097238,
          457716240,
          1121204252,
          354838366,
          177829064,
          1984106489,
          1136870903,
          60842590,
          295256781,
          335138382,
          235424009,
          224487220,
          525759232,
          148999753,
          270068794,
          399950733,
          224632540,
          161922350,
          258525696,
          630429911,
          330890309,
          167011535,
          828120986,
          445463982,
          332142192,
          420042425
         ],
         "yaxis": "y"
        },
        {
         "alignmentgroup": "True",
         "hovertemplate": "Week: %{x}<br>Impressions: %{y:,.0f}<extra></extra>",
         "legendgroup": "Top 3",
         "marker": {
          "color": "#FF6200",
          "line": {
           "width": 0
          },
          "pattern": {
           "shape": ""
          }
         },
         "name": "Top 3",
         "offsetgroup": "Top 3",
         "orientation": "v",
         "showlegend": true,
         "textposition": "auto",
         "type": "bar",
         "x": [
          "CW9",
          "CW21",
          "CW31"
         ],
         "xaxis": "x",
         "y": [
          2926267201,
          4016004886,
          2309346034
         ],
         "yaxis": "y"
        }
       ],
       "layout": {
        "barmode": "relative",
        "font": {
         "size": 12
        },
        "height": 600,
        "legend": {
         "title": {
          "text": "Category"
         },
         "tracegroupgap": 0
        },
        "template": {
         "data": {
          "bar": [
           {
            "error_x": {
             "color": "#2a3f5f"
            },
            "error_y": {
             "color": "#2a3f5f"
            },
            "marker": {
             "line": {
              "color": "#E5ECF6",
              "width": 0.5
             },
             "pattern": {
              "fillmode": "overlay",
              "size": 10,
              "solidity": 0.2
             }
            },
            "type": "bar"
           }
          ],
          "barpolar": [
           {
            "marker": {
             "line": {
              "color": "#E5ECF6",
              "width": 0.5
             },
             "pattern": {
              "fillmode": "overlay",
              "size": 10,
              "solidity": 0.2
             }
            },
            "type": "barpolar"
           }
          ],
          "carpet": [
           {
            "aaxis": {
             "endlinecolor": "#2a3f5f",
             "gridcolor": "white",
             "linecolor": "white",
             "minorgridcolor": "white",
             "startlinecolor": "#2a3f5f"
            },
            "baxis": {
             "endlinecolor": "#2a3f5f",
             "gridcolor": "white",
             "linecolor": "white",
             "minorgridcolor": "white",
             "startlinecolor": "#2a3f5f"
            },
            "type": "carpet"
           }
          ],
          "choropleth": [
           {
            "colorbar": {
             "outlinewidth": 0,
             "ticks": ""
            },
            "type": "choropleth"
           }
          ],
          "contour": [
           {
            "colorbar": {
             "outlinewidth": 0,
             "ticks": ""
            },
            "colorscale": [
             [
              0,
              "#0d0887"
             ],
             [
              0.1111111111111111,
              "#46039f"
             ],
             [
              0.2222222222222222,
              "#7201a8"
             ],
             [
              0.3333333333333333,
              "#9c179e"
             ],
             [
              0.4444444444444444,
              "#bd3786"
             ],
             [
              0.5555555555555556,
              "#d8576b"
             ],
             [
              0.6666666666666666,
              "#ed7953"
             ],
             [
              0.7777777777777778,
              "#fb9f3a"
             ],
             [
              0.8888888888888888,
              "#fdca26"
             ],
             [
              1,
              "#f0f921"
             ]
            ],
            "type": "contour"
           }
          ],
          "contourcarpet": [
           {
            "colorbar": {
             "outlinewidth": 0,
             "ticks": ""
            },
            "type": "contourcarpet"
           }
          ],
          "heatmap": [
           {
            "colorbar": {
             "outlinewidth": 0,
             "ticks": ""
            },
            "colorscale": [
             [
              0,
              "#0d0887"
             ],
             [
              0.1111111111111111,
              "#46039f"
             ],
             [
              0.2222222222222222,
              "#7201a8"
             ],
             [
              0.3333333333333333,
              "#9c179e"
             ],
             [
              0.4444444444444444,
              "#bd3786"
             ],
             [
              0.5555555555555556,
              "#d8576b"
             ],
             [
              0.6666666666666666,
              "#ed7953"
             ],
             [
              0.7777777777777778,
              "#fb9f3a"
             ],
             [
              0.8888888888888888,
              "#fdca26"
             ],
             [
              1,
              "#f0f921"
             ]
            ],
            "type": "heatmap"
           }
          ],
          "heatmapgl": [
           {
            "colorbar": {
             "outlinewidth": 0,
             "ticks": ""
            },
            "colorscale": [
             [
              0,
              "#0d0887"
             ],
             [
              0.1111111111111111,
              "#46039f"
             ],
             [
              0.2222222222222222,
              "#7201a8"
             ],
             [
              0.3333333333333333,
              "#9c179e"
             ],
             [
              0.4444444444444444,
              "#bd3786"
             ],
             [
              0.5555555555555556,
              "#d8576b"
             ],
             [
              0.6666666666666666,
              "#ed7953"
             ],
             [
              0.7777777777777778,
              "#fb9f3a"
             ],
             [
              0.8888888888888888,
              "#fdca26"
             ],
             [
              1,
              "#f0f921"
             ]
            ],
            "type": "heatmapgl"
           }
          ],
          "histogram": [
           {
            "marker": {
             "pattern": {
              "fillmode": "overlay",
              "size": 10,
              "solidity": 0.2
             }
            },
            "type": "histogram"
           }
          ],
          "histogram2d": [
           {
            "colorbar": {
             "outlinewidth": 0,
             "ticks": ""
            },
            "colorscale": [
             [
              0,
              "#0d0887"
             ],
             [
              0.1111111111111111,
              "#46039f"
             ],
             [
              0.2222222222222222,
              "#7201a8"
             ],
             [
              0.3333333333333333,
              "#9c179e"
             ],
             [
              0.4444444444444444,
              "#bd3786"
             ],
             [
              0.5555555555555556,
              "#d8576b"
             ],
             [
              0.6666666666666666,
              "#ed7953"
             ],
             [
              0.7777777777777778,
              "#fb9f3a"
             ],
             [
              0.8888888888888888,
              "#fdca26"
             ],
             [
              1,
              "#f0f921"
             ]
            ],
            "type": "histogram2d"
           }
          ],
          "histogram2dcontour": [
           {
            "colorbar": {
             "outlinewidth": 0,
             "ticks": ""
            },
            "colorscale": [
             [
              0,
              "#0d0887"
             ],
             [
              0.1111111111111111,
              "#46039f"
             ],
             [
              0.2222222222222222,
              "#7201a8"
             ],
             [
              0.3333333333333333,
              "#9c179e"
             ],
             [
              0.4444444444444444,
              "#bd3786"
             ],
             [
              0.5555555555555556,
              "#d8576b"
             ],
             [
              0.6666666666666666,
              "#ed7953"
             ],
             [
              0.7777777777777778,
              "#fb9f3a"
             ],
             [
              0.8888888888888888,
              "#fdca26"
             ],
             [
              1,
              "#f0f921"
             ]
            ],
            "type": "histogram2dcontour"
           }
          ],
          "mesh3d": [
           {
            "colorbar": {
             "outlinewidth": 0,
             "ticks": ""
            },
            "type": "mesh3d"
           }
          ],
          "parcoords": [
           {
            "line": {
             "colorbar": {
              "outlinewidth": 0,
              "ticks": ""
             }
            },
            "type": "parcoords"
           }
          ],
          "pie": [
           {
            "automargin": true,
            "type": "pie"
           }
          ],
          "scatter": [
           {
            "fillpattern": {
             "fillmode": "overlay",
             "size": 10,
             "solidity": 0.2
            },
            "type": "scatter"
           }
          ],
          "scatter3d": [
           {
            "line": {
             "colorbar": {
              "outlinewidth": 0,
              "ticks": ""
             }
            },
            "marker": {
             "colorbar": {
              "outlinewidth": 0,
              "ticks": ""
             }
            },
            "type": "scatter3d"
           }
          ],
          "scattercarpet": [
           {
            "marker": {
             "colorbar": {
              "outlinewidth": 0,
              "ticks": ""
             }
            },
            "type": "scattercarpet"
           }
          ],
          "scattergeo": [
           {
            "marker": {
             "colorbar": {
              "outlinewidth": 0,
              "ticks": ""
             }
            },
            "type": "scattergeo"
           }
          ],
          "scattergl": [
           {
            "marker": {
             "colorbar": {
              "outlinewidth": 0,
              "ticks": ""
             }
            },
            "type": "scattergl"
           }
          ],
          "scattermapbox": [
           {
            "marker": {
             "colorbar": {
              "outlinewidth": 0,
              "ticks": ""
             }
            },
            "type": "scattermapbox"
           }
          ],
          "scatterpolar": [
           {
            "marker": {
             "colorbar": {
              "outlinewidth": 0,
              "ticks": ""
             }
            },
            "type": "scatterpolar"
           }
          ],
          "scatterpolargl": [
           {
            "marker": {
             "colorbar": {
              "outlinewidth": 0,
              "ticks": ""
             }
            },
            "type": "scatterpolargl"
           }
          ],
          "scatterternary": [
           {
            "marker": {
             "colorbar": {
              "outlinewidth": 0,
              "ticks": ""
             }
            },
            "type": "scatterternary"
           }
          ],
          "surface": [
           {
            "colorbar": {
             "outlinewidth": 0,
             "ticks": ""
            },
            "colorscale": [
             [
              0,
              "#0d0887"
             ],
             [
              0.1111111111111111,
              "#46039f"
             ],
             [
              0.2222222222222222,
              "#7201a8"
             ],
             [
              0.3333333333333333,
              "#9c179e"
             ],
             [
              0.4444444444444444,
              "#bd3786"
             ],
             [
              0.5555555555555556,
              "#d8576b"
             ],
             [
              0.6666666666666666,
              "#ed7953"
             ],
             [
              0.7777777777777778,
              "#fb9f3a"
             ],
             [
              0.8888888888888888,
              "#fdca26"
             ],
             [
              1,
              "#f0f921"
             ]
            ],
            "type": "surface"
           }
          ],
          "table": [
           {
            "cells": {
             "fill": {
              "color": "#EBF0F8"
             },
             "line": {
              "color": "white"
             }
            },
            "header": {
             "fill": {
              "color": "#C8D4E3"
             },
             "line": {
              "color": "white"
             }
            },
            "type": "table"
           }
          ]
         },
         "layout": {
          "annotationdefaults": {
           "arrowcolor": "#2a3f5f",
           "arrowhead": 0,
           "arrowwidth": 1
          },
          "autotypenumbers": "strict",
          "coloraxis": {
           "colorbar": {
            "outlinewidth": 0,
            "ticks": ""
           }
          },
          "colorscale": {
           "diverging": [
            [
             0,
             "#8e0152"
            ],
            [
             0.1,
             "#c51b7d"
            ],
            [
             0.2,
             "#de77ae"
            ],
            [
             0.3,
             "#f1b6da"
            ],
            [
             0.4,
             "#fde0ef"
            ],
            [
             0.5,
             "#f7f7f7"
            ],
            [
             0.6,
             "#e6f5d0"
            ],
            [
             0.7,
             "#b8e186"
            ],
            [
             0.8,
             "#7fbc41"
            ],
            [
             0.9,
             "#4d9221"
            ],
            [
             1,
             "#276419"
            ]
           ],
           "sequential": [
            [
             0,
             "#0d0887"
            ],
            [
             0.1111111111111111,
             "#46039f"
            ],
            [
             0.2222222222222222,
             "#7201a8"
            ],
            [
             0.3333333333333333,
             "#9c179e"
            ],
            [
             0.4444444444444444,
             "#bd3786"
            ],
            [
             0.5555555555555556,
             "#d8576b"
            ],
            [
             0.6666666666666666,
             "#ed7953"
            ],
            [
             0.7777777777777778,
             "#fb9f3a"
            ],
            [
             0.8888888888888888,
             "#fdca26"
            ],
            [
             1,
             "#f0f921"
            ]
           ],
           "sequentialminus": [
            [
             0,
             "#0d0887"
            ],
            [
             0.1111111111111111,
             "#46039f"
            ],
            [
             0.2222222222222222,
             "#7201a8"
            ],
            [
             0.3333333333333333,
             "#9c179e"
            ],
            [
             0.4444444444444444,
             "#bd3786"
            ],
            [
             0.5555555555555556,
             "#d8576b"
            ],
            [
             0.6666666666666666,
             "#ed7953"
            ],
            [
             0.7777777777777778,
             "#fb9f3a"
            ],
            [
             0.8888888888888888,
             "#fdca26"
            ],
            [
             1,
             "#f0f921"
            ]
           ]
          },
          "colorway": [
           "#636efa",
           "#EF553B",
           "#00cc96",
           "#ab63fa",
           "#FFA15A",
           "#19d3f3",
           "#FF6692",
           "#B6E880",
           "#FF97FF",
           "#FECB52"
          ],
          "font": {
           "color": "#2a3f5f"
          },
          "geo": {
           "bgcolor": "white",
           "lakecolor": "white",
           "landcolor": "#E5ECF6",
           "showlakes": true,
           "showland": true,
           "subunitcolor": "white"
          },
          "hoverlabel": {
           "align": "left"
          },
          "hovermode": "closest",
          "mapbox": {
           "style": "light"
          },
          "paper_bgcolor": "white",
          "plot_bgcolor": "#E5ECF6",
          "polar": {
           "angularaxis": {
            "gridcolor": "white",
            "linecolor": "white",
            "ticks": ""
           },
           "bgcolor": "#E5ECF6",
           "radialaxis": {
            "gridcolor": "white",
            "linecolor": "white",
            "ticks": ""
           }
          },
          "scene": {
           "xaxis": {
            "backgroundcolor": "#E5ECF6",
            "gridcolor": "white",
            "gridwidth": 2,
            "linecolor": "white",
            "showbackground": true,
            "ticks": "",
            "zerolinecolor": "white"
           },
           "yaxis": {
            "backgroundcolor": "#E5ECF6",
            "gridcolor": "white",
            "gridwidth": 2,
            "linecolor": "white",
            "showbackground": true,
            "ticks": "",
            "zerolinecolor": "white"
           },
           "zaxis": {
            "backgroundcolor": "#E5ECF6",
            "gridcolor": "white",
            "gridwidth": 2,
            "linecolor": "white",
            "showbackground": true,
            "ticks": "",
            "zerolinecolor": "white"
           }
          },
          "shapedefaults": {
           "line": {
            "color": "#2a3f5f"
           }
          },
          "ternary": {
           "aaxis": {
            "gridcolor": "white",
            "linecolor": "white",
            "ticks": ""
           },
           "baxis": {
            "gridcolor": "white",
            "linecolor": "white",
            "ticks": ""
           },
           "bgcolor": "#E5ECF6",
           "caxis": {
            "gridcolor": "white",
            "linecolor": "white",
            "ticks": ""
           }
          },
          "title": {
           "x": 0.05
          },
          "xaxis": {
           "automargin": true,
           "gridcolor": "white",
           "linecolor": "white",
           "ticks": "",
           "title": {
            "standoff": 15
           },
           "zerolinecolor": "white",
           "zerolinewidth": 2
          },
          "yaxis": {
           "automargin": true,
           "gridcolor": "white",
           "linecolor": "white",
           "ticks": "",
           "title": {
            "standoff": 15
           },
           "zerolinecolor": "white",
           "zerolinewidth": 2
          }
         }
        },
        "title": {
         "font": {
          "size": 18
         },
         "text": "Total Impressions by Calendar Week",
         "x": 0.5,
         "xanchor": "center"
        },
        "width": 1000,
        "xaxis": {
         "anchor": "y",
         "categoryarray": [
          "CW0",
          "CW1",
          "CW2",
          "CW3",
          "CW4",
          "CW5",
          "CW6",
          "CW7",
          "CW8",
          "CW9",
          "CW10",
          "CW11",
          "CW12",
          "CW13",
          "CW14",
          "CW15",
          "CW16",
          "CW17",
          "CW18",
          "CW19",
          "CW20",
          "CW21",
          "CW22",
          "CW23",
          "CW24",
          "CW25",
          "CW26",
          "CW27",
          "CW28",
          "CW29",
          "CW30",
          "CW31",
          "CW32",
          "CW33",
          "CW34",
          "CW35",
          "CW36",
          "CW37",
          "CW38",
          "CW39",
          "CW40",
          "CW41",
          "CW42",
          "CW43",
          "CW44",
          "CW45",
          "CW46",
          "CW47",
          "CW48",
          "CW49",
          "CW50",
          "CW51",
          "CW52"
         ],
         "categoryorder": "array",
         "domain": [
          0,
          1
         ],
         "title": {
          "text": "Calendar Week"
         }
        },
        "yaxis": {
         "anchor": "x",
         "domain": [
          0,
          1
         ],
         "ticktext": [
          "1M",
          "5M",
          "10M",
          "50M",
          "100M",
          "500M",
          "1B",
          "5B"
         ],
         "tickvals": [
          1000000,
          5000000,
          10000000,
          50000000,
          100000000,
          500000000,
          1000000000,
          5000000000
         ],
         "title": {
          "text": "Impressions"
         },
         "type": "log"
        }
       }
      }
     },
     "metadata": {},
     "output_type": "display_data"
    }
   ],
   "source": [
    "import plotly.express as px\n",
    "import pandas as pd\n",
    "\n",
    "# Calculating total impressions by week\n",
    "weekly_totals = meta_weekly_impressions[[f'CW{i}' for i in range(53)]].sum()\n",
    "\n",
    "# DataFrame \n",
    "weekly_df = pd.DataFrame({\n",
    "    'Week': weekly_totals.index,\n",
    "    'Impressions': weekly_totals.values\n",
    "})\n",
    "top_3_df = weekly_df.sort_values(by='Impressions', ascending=False).head(3)\n",
    "top_3_weeks = top_3_df['Week'].tolist()\n",
    "\n",
    "# Add a category column for coloring\n",
    "weekly_df['Category'] = weekly_df['Week'].apply(lambda x: 'Top 3' if x in top_3_weeks else 'Other')\n",
    "\n",
    "# colors\n",
    "snapchat_color = '#c48a47'\n",
    "color_map = {\n",
    "    'Top 3': '#FF6200', \n",
    "    'Other': snapchat_color  \n",
    "}\n",
    "\n",
    "# Create the bar chart with color mapping\n",
    "fig = px.bar(weekly_df, \n",
    "             x='Week', \n",
    "             y='Impressions',\n",
    "             title='Total Impressions by Calendar Week',\n",
    "             color='Category', \n",
    "             color_discrete_map=color_map,  \n",
    "             hover_data={'Impressions': ':,.0f'}) \n",
    "fig.update_layout(\n",
    "    xaxis_title='Calendar Week',\n",
    "    yaxis_title='Impressions',\n",
    "    width=1000,\n",
    "    height=600,\n",
    "    xaxis={'categoryorder': 'array', 'categoryarray': weekly_df['Week'].tolist()},\n",
    "    yaxis_type='log',\n",
    "    yaxis={\n",
    "        'tickvals': [1e6, 5e6, 1e7, 5e7, 1e8, 5e8, 1e9, 5e9],\n",
    "        'ticktext': ['1M', '5M', '10M', '50M', '100M', '500M', '1B', '5B']\n",
    "    },\n",
    "    font=dict(size=12),\n",
    "    title_font=dict(size=18),\n",
    "    title={\n",
    "        'text': 'Total Impressions by Calendar Week',\n",
    "        'x': 0.5, \n",
    "        'xanchor': 'center'\n",
    "    }\n",
    ")\n",
    "fig.update_traces(\n",
    "    marker_line_width=0, \n",
    "    hovertemplate='Week: %{x}<br>Impressions: %{y:,.0f}<extra></extra>'  \n",
    ")\n",
    "\n",
    "fig.show()"
   ]
  },
  {
   "cell_type": "markdown",
   "id": "917a5e55",
   "metadata": {},
   "source": [
    "##### The impression data shows three main peaks in 2017: mid-May (week 21) has the highest at 4.8B impressions, early March (week 9) follows with 3B, and early August (weeks 31-32) shows about 2.3B. The rest of the year maintains steady activity between 200-500M weekly impressions. This pattern shows a strategy of big campaign pushes at key times throughout the year"
   ]
  },
  {
   "cell_type": "code",
   "execution_count": null,
   "id": "2441c729",
   "metadata": {},
   "outputs": [
    {
     "data": {
      "application/vnd.plotly.v1+json": {
       "config": {
        "plotlyServerURL": "https://plot.ly"
       },
       "data": [
        {
         "hovertemplate": "Campaign Duration=%{x}<br>Average Impression=%{y}<extra></extra>",
         "legendgroup": "",
         "line": {
          "color": "#636efa",
          "dash": "solid"
         },
         "marker": {
          "symbol": "circle"
         },
         "mode": "lines",
         "name": "",
         "orientation": "v",
         "showlegend": false,
         "type": "scatter",
         "x": [
          1,
          2,
          3,
          4,
          5,
          6,
          8,
          10
         ],
         "xaxis": "x",
         "y": [
          17842725.069444444,
          14775855.66118421,
          3087568.595238095,
          3784731.4242424243,
          2746339.1972222226,
          4115498.3,
          478223.1666666667,
          1793845.1333333335
         ],
         "yaxis": "y"
        },
        {
         "mode": "text",
         "showlegend": false,
         "text": [
          "17.8M",
          "14.8M",
          "3.1M",
          "3.8M",
          "2.7M",
          "4.1M",
          "0.5M",
          "1.8M"
         ],
         "textposition": "top center",
         "type": "scatter",
         "x": [
          1,
          2,
          3,
          4,
          5,
          6,
          8,
          10
         ],
         "y": [
          17842725.069444444,
          14775855.66118421,
          3087568.595238095,
          3784731.4242424243,
          2746339.1972222226,
          4115498.3,
          478223.1666666667,
          1793845.1333333335
         ]
        }
       ],
       "layout": {
        "height": 500,
        "legend": {
         "tracegroupgap": 0
        },
        "paper_bgcolor": "white",
        "plot_bgcolor": "rgba(240,240,250,0.95)",
        "showlegend": false,
        "template": {
         "data": {
          "bar": [
           {
            "error_x": {
             "color": "#2a3f5f"
            },
            "error_y": {
             "color": "#2a3f5f"
            },
            "marker": {
             "line": {
              "color": "#E5ECF6",
              "width": 0.5
             },
             "pattern": {
              "fillmode": "overlay",
              "size": 10,
              "solidity": 0.2
             }
            },
            "type": "bar"
           }
          ],
          "barpolar": [
           {
            "marker": {
             "line": {
              "color": "#E5ECF6",
              "width": 0.5
             },
             "pattern": {
              "fillmode": "overlay",
              "size": 10,
              "solidity": 0.2
             }
            },
            "type": "barpolar"
           }
          ],
          "carpet": [
           {
            "aaxis": {
             "endlinecolor": "#2a3f5f",
             "gridcolor": "white",
             "linecolor": "white",
             "minorgridcolor": "white",
             "startlinecolor": "#2a3f5f"
            },
            "baxis": {
             "endlinecolor": "#2a3f5f",
             "gridcolor": "white",
             "linecolor": "white",
             "minorgridcolor": "white",
             "startlinecolor": "#2a3f5f"
            },
            "type": "carpet"
           }
          ],
          "choropleth": [
           {
            "colorbar": {
             "outlinewidth": 0,
             "ticks": ""
            },
            "type": "choropleth"
           }
          ],
          "contour": [
           {
            "colorbar": {
             "outlinewidth": 0,
             "ticks": ""
            },
            "colorscale": [
             [
              0,
              "#0d0887"
             ],
             [
              0.1111111111111111,
              "#46039f"
             ],
             [
              0.2222222222222222,
              "#7201a8"
             ],
             [
              0.3333333333333333,
              "#9c179e"
             ],
             [
              0.4444444444444444,
              "#bd3786"
             ],
             [
              0.5555555555555556,
              "#d8576b"
             ],
             [
              0.6666666666666666,
              "#ed7953"
             ],
             [
              0.7777777777777778,
              "#fb9f3a"
             ],
             [
              0.8888888888888888,
              "#fdca26"
             ],
             [
              1,
              "#f0f921"
             ]
            ],
            "type": "contour"
           }
          ],
          "contourcarpet": [
           {
            "colorbar": {
             "outlinewidth": 0,
             "ticks": ""
            },
            "type": "contourcarpet"
           }
          ],
          "heatmap": [
           {
            "colorbar": {
             "outlinewidth": 0,
             "ticks": ""
            },
            "colorscale": [
             [
              0,
              "#0d0887"
             ],
             [
              0.1111111111111111,
              "#46039f"
             ],
             [
              0.2222222222222222,
              "#7201a8"
             ],
             [
              0.3333333333333333,
              "#9c179e"
             ],
             [
              0.4444444444444444,
              "#bd3786"
             ],
             [
              0.5555555555555556,
              "#d8576b"
             ],
             [
              0.6666666666666666,
              "#ed7953"
             ],
             [
              0.7777777777777778,
              "#fb9f3a"
             ],
             [
              0.8888888888888888,
              "#fdca26"
             ],
             [
              1,
              "#f0f921"
             ]
            ],
            "type": "heatmap"
           }
          ],
          "heatmapgl": [
           {
            "colorbar": {
             "outlinewidth": 0,
             "ticks": ""
            },
            "colorscale": [
             [
              0,
              "#0d0887"
             ],
             [
              0.1111111111111111,
              "#46039f"
             ],
             [
              0.2222222222222222,
              "#7201a8"
             ],
             [
              0.3333333333333333,
              "#9c179e"
             ],
             [
              0.4444444444444444,
              "#bd3786"
             ],
             [
              0.5555555555555556,
              "#d8576b"
             ],
             [
              0.6666666666666666,
              "#ed7953"
             ],
             [
              0.7777777777777778,
              "#fb9f3a"
             ],
             [
              0.8888888888888888,
              "#fdca26"
             ],
             [
              1,
              "#f0f921"
             ]
            ],
            "type": "heatmapgl"
           }
          ],
          "histogram": [
           {
            "marker": {
             "pattern": {
              "fillmode": "overlay",
              "size": 10,
              "solidity": 0.2
             }
            },
            "type": "histogram"
           }
          ],
          "histogram2d": [
           {
            "colorbar": {
             "outlinewidth": 0,
             "ticks": ""
            },
            "colorscale": [
             [
              0,
              "#0d0887"
             ],
             [
              0.1111111111111111,
              "#46039f"
             ],
             [
              0.2222222222222222,
              "#7201a8"
             ],
             [
              0.3333333333333333,
              "#9c179e"
             ],
             [
              0.4444444444444444,
              "#bd3786"
             ],
             [
              0.5555555555555556,
              "#d8576b"
             ],
             [
              0.6666666666666666,
              "#ed7953"
             ],
             [
              0.7777777777777778,
              "#fb9f3a"
             ],
             [
              0.8888888888888888,
              "#fdca26"
             ],
             [
              1,
              "#f0f921"
             ]
            ],
            "type": "histogram2d"
           }
          ],
          "histogram2dcontour": [
           {
            "colorbar": {
             "outlinewidth": 0,
             "ticks": ""
            },
            "colorscale": [
             [
              0,
              "#0d0887"
             ],
             [
              0.1111111111111111,
              "#46039f"
             ],
             [
              0.2222222222222222,
              "#7201a8"
             ],
             [
              0.3333333333333333,
              "#9c179e"
             ],
             [
              0.4444444444444444,
              "#bd3786"
             ],
             [
              0.5555555555555556,
              "#d8576b"
             ],
             [
              0.6666666666666666,
              "#ed7953"
             ],
             [
              0.7777777777777778,
              "#fb9f3a"
             ],
             [
              0.8888888888888888,
              "#fdca26"
             ],
             [
              1,
              "#f0f921"
             ]
            ],
            "type": "histogram2dcontour"
           }
          ],
          "mesh3d": [
           {
            "colorbar": {
             "outlinewidth": 0,
             "ticks": ""
            },
            "type": "mesh3d"
           }
          ],
          "parcoords": [
           {
            "line": {
             "colorbar": {
              "outlinewidth": 0,
              "ticks": ""
             }
            },
            "type": "parcoords"
           }
          ],
          "pie": [
           {
            "automargin": true,
            "type": "pie"
           }
          ],
          "scatter": [
           {
            "fillpattern": {
             "fillmode": "overlay",
             "size": 10,
             "solidity": 0.2
            },
            "type": "scatter"
           }
          ],
          "scatter3d": [
           {
            "line": {
             "colorbar": {
              "outlinewidth": 0,
              "ticks": ""
             }
            },
            "marker": {
             "colorbar": {
              "outlinewidth": 0,
              "ticks": ""
             }
            },
            "type": "scatter3d"
           }
          ],
          "scattercarpet": [
           {
            "marker": {
             "colorbar": {
              "outlinewidth": 0,
              "ticks": ""
             }
            },
            "type": "scattercarpet"
           }
          ],
          "scattergeo": [
           {
            "marker": {
             "colorbar": {
              "outlinewidth": 0,
              "ticks": ""
             }
            },
            "type": "scattergeo"
           }
          ],
          "scattergl": [
           {
            "marker": {
             "colorbar": {
              "outlinewidth": 0,
              "ticks": ""
             }
            },
            "type": "scattergl"
           }
          ],
          "scattermapbox": [
           {
            "marker": {
             "colorbar": {
              "outlinewidth": 0,
              "ticks": ""
             }
            },
            "type": "scattermapbox"
           }
          ],
          "scatterpolar": [
           {
            "marker": {
             "colorbar": {
              "outlinewidth": 0,
              "ticks": ""
             }
            },
            "type": "scatterpolar"
           }
          ],
          "scatterpolargl": [
           {
            "marker": {
             "colorbar": {
              "outlinewidth": 0,
              "ticks": ""
             }
            },
            "type": "scatterpolargl"
           }
          ],
          "scatterternary": [
           {
            "marker": {
             "colorbar": {
              "outlinewidth": 0,
              "ticks": ""
             }
            },
            "type": "scatterternary"
           }
          ],
          "surface": [
           {
            "colorbar": {
             "outlinewidth": 0,
             "ticks": ""
            },
            "colorscale": [
             [
              0,
              "#0d0887"
             ],
             [
              0.1111111111111111,
              "#46039f"
             ],
             [
              0.2222222222222222,
              "#7201a8"
             ],
             [
              0.3333333333333333,
              "#9c179e"
             ],
             [
              0.4444444444444444,
              "#bd3786"
             ],
             [
              0.5555555555555556,
              "#d8576b"
             ],
             [
              0.6666666666666666,
              "#ed7953"
             ],
             [
              0.7777777777777778,
              "#fb9f3a"
             ],
             [
              0.8888888888888888,
              "#fdca26"
             ],
             [
              1,
              "#f0f921"
             ]
            ],
            "type": "surface"
           }
          ],
          "table": [
           {
            "cells": {
             "fill": {
              "color": "#EBF0F8"
             },
             "line": {
              "color": "white"
             }
            },
            "header": {
             "fill": {
              "color": "#C8D4E3"
             },
             "line": {
              "color": "white"
             }
            },
            "type": "table"
           }
          ]
         },
         "layout": {
          "annotationdefaults": {
           "arrowcolor": "#2a3f5f",
           "arrowhead": 0,
           "arrowwidth": 1
          },
          "autotypenumbers": "strict",
          "coloraxis": {
           "colorbar": {
            "outlinewidth": 0,
            "ticks": ""
           }
          },
          "colorscale": {
           "diverging": [
            [
             0,
             "#8e0152"
            ],
            [
             0.1,
             "#c51b7d"
            ],
            [
             0.2,
             "#de77ae"
            ],
            [
             0.3,
             "#f1b6da"
            ],
            [
             0.4,
             "#fde0ef"
            ],
            [
             0.5,
             "#f7f7f7"
            ],
            [
             0.6,
             "#e6f5d0"
            ],
            [
             0.7,
             "#b8e186"
            ],
            [
             0.8,
             "#7fbc41"
            ],
            [
             0.9,
             "#4d9221"
            ],
            [
             1,
             "#276419"
            ]
           ],
           "sequential": [
            [
             0,
             "#0d0887"
            ],
            [
             0.1111111111111111,
             "#46039f"
            ],
            [
             0.2222222222222222,
             "#7201a8"
            ],
            [
             0.3333333333333333,
             "#9c179e"
            ],
            [
             0.4444444444444444,
             "#bd3786"
            ],
            [
             0.5555555555555556,
             "#d8576b"
            ],
            [
             0.6666666666666666,
             "#ed7953"
            ],
            [
             0.7777777777777778,
             "#fb9f3a"
            ],
            [
             0.8888888888888888,
             "#fdca26"
            ],
            [
             1,
             "#f0f921"
            ]
           ],
           "sequentialminus": [
            [
             0,
             "#0d0887"
            ],
            [
             0.1111111111111111,
             "#46039f"
            ],
            [
             0.2222222222222222,
             "#7201a8"
            ],
            [
             0.3333333333333333,
             "#9c179e"
            ],
            [
             0.4444444444444444,
             "#bd3786"
            ],
            [
             0.5555555555555556,
             "#d8576b"
            ],
            [
             0.6666666666666666,
             "#ed7953"
            ],
            [
             0.7777777777777778,
             "#fb9f3a"
            ],
            [
             0.8888888888888888,
             "#fdca26"
            ],
            [
             1,
             "#f0f921"
            ]
           ]
          },
          "colorway": [
           "#636efa",
           "#EF553B",
           "#00cc96",
           "#ab63fa",
           "#FFA15A",
           "#19d3f3",
           "#FF6692",
           "#B6E880",
           "#FF97FF",
           "#FECB52"
          ],
          "font": {
           "color": "#2a3f5f"
          },
          "geo": {
           "bgcolor": "white",
           "lakecolor": "white",
           "landcolor": "#E5ECF6",
           "showlakes": true,
           "showland": true,
           "subunitcolor": "white"
          },
          "hoverlabel": {
           "align": "left"
          },
          "hovermode": "closest",
          "mapbox": {
           "style": "light"
          },
          "paper_bgcolor": "white",
          "plot_bgcolor": "#E5ECF6",
          "polar": {
           "angularaxis": {
            "gridcolor": "white",
            "linecolor": "white",
            "ticks": ""
           },
           "bgcolor": "#E5ECF6",
           "radialaxis": {
            "gridcolor": "white",
            "linecolor": "white",
            "ticks": ""
           }
          },
          "scene": {
           "xaxis": {
            "backgroundcolor": "#E5ECF6",
            "gridcolor": "white",
            "gridwidth": 2,
            "linecolor": "white",
            "showbackground": true,
            "ticks": "",
            "zerolinecolor": "white"
           },
           "yaxis": {
            "backgroundcolor": "#E5ECF6",
            "gridcolor": "white",
            "gridwidth": 2,
            "linecolor": "white",
            "showbackground": true,
            "ticks": "",
            "zerolinecolor": "white"
           },
           "zaxis": {
            "backgroundcolor": "#E5ECF6",
            "gridcolor": "white",
            "gridwidth": 2,
            "linecolor": "white",
            "showbackground": true,
            "ticks": "",
            "zerolinecolor": "white"
           }
          },
          "shapedefaults": {
           "line": {
            "color": "#2a3f5f"
           }
          },
          "ternary": {
           "aaxis": {
            "gridcolor": "white",
            "linecolor": "white",
            "ticks": ""
           },
           "baxis": {
            "gridcolor": "white",
            "linecolor": "white",
            "ticks": ""
           },
           "bgcolor": "#E5ECF6",
           "caxis": {
            "gridcolor": "white",
            "linecolor": "white",
            "ticks": ""
           }
          },
          "title": {
           "x": 0.05
          },
          "xaxis": {
           "automargin": true,
           "gridcolor": "white",
           "linecolor": "white",
           "ticks": "",
           "title": {
            "standoff": 15
           },
           "zerolinecolor": "white",
           "zerolinewidth": 2
          },
          "yaxis": {
           "automargin": true,
           "gridcolor": "white",
           "linecolor": "white",
           "ticks": "",
           "title": {
            "standoff": 15
           },
           "zerolinecolor": "white",
           "zerolinewidth": 2
          }
         }
        },
        "title": {
         "font": {
          "size": 20
         },
         "text": "Weekly Impressions by Campaign Duration",
         "x": 0.5,
         "xanchor": "center"
        },
        "width": 800,
        "xaxis": {
         "anchor": "y",
         "domain": [
          0,
          1
         ],
         "dtick": 1,
         "title": {
          "text": "Campaign Duration"
         }
        },
        "yaxis": {
         "anchor": "x",
         "domain": [
          0,
          1
         ],
         "range": [
          5.5,
          7.5
         ],
         "ticktext": [
          "1M",
          "2M",
          "3M",
          "5M",
          "10M",
          "20M"
         ],
         "tickvals": [
          1000000,
          2000000,
          3000000,
          5000000,
          10000000,
          20000000
         ],
         "title": {
          "text": "Average Impression"
         },
         "type": "log"
        }
       }
      }
     },
     "metadata": {},
     "output_type": "display_data"
    }
   ],
   "source": [
    "import pandas as pd\n",
    "import plotly.express as px\n",
    "import plotly.graph_objects as go\n",
    "\n",
    "# Calculating average weekly impressions\n",
    "meta_weekly_impressions['avg_weekly_impressions'] = meta_weekly_impressions['Impression'] / meta_weekly_impressions['total_weeks']\n",
    "\n",
    "# Group by total weeks (duration)\n",
    "duration_analysis = meta_weekly_impressions.groupby('total_weeks').agg({\n",
    "    'avg_weekly_impressions': 'mean',\n",
    "    'Campaign_id': 'count'\n",
    "}).reset_index()\n",
    "\n",
    "# Format labels for average impressions\n",
    "duration_analysis['label'] = duration_analysis['avg_weekly_impressions'].apply(lambda x: f\"{x/1e6:.1f}M\")\n",
    "\n",
    "counts_text = \", \".join([f\"{row['total_weeks']} Week{'s' if row['total_weeks'] != 1 else ''}: {row['Campaign_id']} campaigns\" \n",
    "                         for _, row in duration_analysis.iterrows()])\n",
    "\n",
    "# line chart\n",
    "fig = px.line(duration_analysis, \n",
    "              x='total_weeks', \n",
    "              y='avg_weekly_impressions',\n",
    "              labels={\n",
    "                  'total_weeks': 'Campaign Duration',\n",
    "                  'avg_weekly_impressions': 'Average Impression'\n",
    "              },\n",
    "              title='Weekly Impressions by Campaign Duration')\n",
    "\n",
    "# Add text labels for average impressions\n",
    "fig.add_trace(go.Scatter(\n",
    "    x=duration_analysis['total_weeks'],\n",
    "    y=duration_analysis['avg_weekly_impressions'],\n",
    "    text=duration_analysis['label'],\n",
    "    mode='text',\n",
    "    textposition='top center',\n",
    "    showlegend=False\n",
    "))\n",
    "fig.update_layout(\n",
    "    yaxis_type='log',\n",
    "    yaxis={\n",
    "        'title': 'Average Impression',\n",
    "        'tickvals': [1e6, 2e6, 3e6, 5e6, 10e6, 20e6],\n",
    "        'ticktext': ['1M', '2M', '3M', '5M', '10M', '20M'],\n",
    "        'range': [5.5, 7.5]\n",
    "    },\n",
    "    xaxis={\n",
    "        'title': 'Campaign Duration',\n",
    "        'dtick': 1\n",
    "    },\n",
    "    width=800,\n",
    "    height=500,\n",
    "    title={\n",
    "        'text': 'Weekly Impressions by Campaign Duration',\n",
    "        'x': 0.5,\n",
    "        'xanchor': 'center',\n",
    "        'font': {'size': 20}\n",
    "    },\n",
    "    paper_bgcolor='white',\n",
    "    plot_bgcolor='rgba(240,240,250,0.95)',\n",
    "    showlegend=False\n",
    ")\n",
    "\n",
    "fig.show()"
   ]
  },
  {
   "cell_type": "markdown",
   "id": "58a3322c",
   "metadata": {},
   "source": [
    "#### Average weekly impressions decrease as duration increases\n",
    "##### Possible reasons could be higher initial engagement, more focused marketing efforts, or seasonal factors that make shorter campaigns more effective. It's also possible that longer campaigns suffer from ad fatigue, where the audience becomes less responsive over time.\n",
    "\n"
   ]
  },
  {
   "cell_type": "code",
   "execution_count": 238,
   "id": "35cf6516",
   "metadata": {},
   "outputs": [],
   "source": [
    "# drop column avg_weekly_impressions\n",
    "meta_weekly_impressions.drop(columns=['avg_weekly_impressions'], inplace=True)"
   ]
  },
  {
   "cell_type": "code",
   "execution_count": 241,
   "id": "49ae6767",
   "metadata": {},
   "outputs": [
    {
     "data": {
      "application/vnd.microsoft.datawrangler.viewer.v0+json": {
       "columns": [
        {
         "name": "index",
         "rawType": "int64",
         "type": "integer"
        },
        {
         "name": "Campaign_id",
         "rawType": "int64",
         "type": "integer"
        },
        {
         "name": "start_date",
         "rawType": "datetime64[ns]",
         "type": "datetime"
        },
        {
         "name": "end_date",
         "rawType": "datetime64[ns]",
         "type": "datetime"
        },
        {
         "name": "Impression",
         "rawType": "int64",
         "type": "integer"
        },
        {
         "name": "duration_days",
         "rawType": "int64",
         "type": "integer"
        },
        {
         "name": "CW0",
         "rawType": "int64",
         "type": "integer"
        },
        {
         "name": "CW1",
         "rawType": "int64",
         "type": "integer"
        },
        {
         "name": "CW2",
         "rawType": "int64",
         "type": "integer"
        },
        {
         "name": "CW3",
         "rawType": "int64",
         "type": "integer"
        },
        {
         "name": "CW4",
         "rawType": "int64",
         "type": "integer"
        },
        {
         "name": "CW5",
         "rawType": "int64",
         "type": "integer"
        },
        {
         "name": "CW6",
         "rawType": "int64",
         "type": "integer"
        },
        {
         "name": "CW7",
         "rawType": "int64",
         "type": "integer"
        },
        {
         "name": "CW8",
         "rawType": "int64",
         "type": "integer"
        },
        {
         "name": "CW9",
         "rawType": "int64",
         "type": "integer"
        },
        {
         "name": "CW10",
         "rawType": "int64",
         "type": "integer"
        },
        {
         "name": "CW11",
         "rawType": "int64",
         "type": "integer"
        },
        {
         "name": "CW12",
         "rawType": "int64",
         "type": "integer"
        },
        {
         "name": "CW13",
         "rawType": "int64",
         "type": "integer"
        },
        {
         "name": "CW14",
         "rawType": "int64",
         "type": "integer"
        },
        {
         "name": "CW15",
         "rawType": "int64",
         "type": "integer"
        },
        {
         "name": "CW16",
         "rawType": "int64",
         "type": "integer"
        },
        {
         "name": "CW17",
         "rawType": "int64",
         "type": "integer"
        },
        {
         "name": "CW18",
         "rawType": "int64",
         "type": "integer"
        },
        {
         "name": "CW19",
         "rawType": "int64",
         "type": "integer"
        },
        {
         "name": "CW20",
         "rawType": "int64",
         "type": "integer"
        },
        {
         "name": "CW21",
         "rawType": "int64",
         "type": "integer"
        },
        {
         "name": "CW22",
         "rawType": "int64",
         "type": "integer"
        },
        {
         "name": "CW23",
         "rawType": "int64",
         "type": "integer"
        },
        {
         "name": "CW24",
         "rawType": "int64",
         "type": "integer"
        },
        {
         "name": "CW25",
         "rawType": "int64",
         "type": "integer"
        },
        {
         "name": "CW26",
         "rawType": "int64",
         "type": "integer"
        },
        {
         "name": "CW27",
         "rawType": "int64",
         "type": "integer"
        },
        {
         "name": "CW28",
         "rawType": "int64",
         "type": "integer"
        },
        {
         "name": "CW29",
         "rawType": "int64",
         "type": "integer"
        },
        {
         "name": "CW30",
         "rawType": "int64",
         "type": "integer"
        },
        {
         "name": "CW31",
         "rawType": "int64",
         "type": "integer"
        },
        {
         "name": "CW32",
         "rawType": "int64",
         "type": "integer"
        },
        {
         "name": "CW33",
         "rawType": "int64",
         "type": "integer"
        },
        {
         "name": "CW34",
         "rawType": "int64",
         "type": "integer"
        },
        {
         "name": "CW35",
         "rawType": "int64",
         "type": "integer"
        },
        {
         "name": "CW36",
         "rawType": "int64",
         "type": "integer"
        },
        {
         "name": "CW37",
         "rawType": "int64",
         "type": "integer"
        },
        {
         "name": "CW38",
         "rawType": "int64",
         "type": "integer"
        },
        {
         "name": "CW39",
         "rawType": "int64",
         "type": "integer"
        },
        {
         "name": "CW40",
         "rawType": "int64",
         "type": "integer"
        },
        {
         "name": "CW41",
         "rawType": "int64",
         "type": "integer"
        },
        {
         "name": "CW42",
         "rawType": "int64",
         "type": "integer"
        },
        {
         "name": "CW43",
         "rawType": "int64",
         "type": "integer"
        },
        {
         "name": "CW44",
         "rawType": "int64",
         "type": "integer"
        },
        {
         "name": "CW45",
         "rawType": "int64",
         "type": "integer"
        },
        {
         "name": "CW46",
         "rawType": "int64",
         "type": "integer"
        },
        {
         "name": "CW47",
         "rawType": "int64",
         "type": "integer"
        },
        {
         "name": "CW48",
         "rawType": "int64",
         "type": "integer"
        },
        {
         "name": "CW49",
         "rawType": "int64",
         "type": "integer"
        },
        {
         "name": "CW50",
         "rawType": "int64",
         "type": "integer"
        },
        {
         "name": "CW51",
         "rawType": "int64",
         "type": "integer"
        },
        {
         "name": "CW52",
         "rawType": "int64",
         "type": "integer"
        },
        {
         "name": "total_weeks",
         "rawType": "int64",
         "type": "integer"
        }
       ],
       "conversionMethod": "pd.DataFrame",
       "ref": "65687f1b-3e18-490d-b4e6-e05b8b698c69",
       "rows": [
        [
         "0",
         "660202",
         "2017-03-03 00:00:00",
         "2017-03-09 00:00:00",
         "1792172143",
         "7",
         "0",
         "0",
         "0",
         "0",
         "0",
         "0",
         "0",
         "0",
         "0",
         "768073776",
         "1024098367",
         "0",
         "0",
         "0",
         "0",
         "0",
         "0",
         "0",
         "0",
         "0",
         "0",
         "0",
         "0",
         "0",
         "0",
         "0",
         "0",
         "0",
         "0",
         "0",
         "0",
         "0",
         "0",
         "0",
         "0",
         "0",
         "0",
         "0",
         "0",
         "0",
         "0",
         "0",
         "0",
         "0",
         "0",
         "0",
         "0",
         "0",
         "0",
         "0",
         "0",
         "0",
         "0",
         "2"
        ],
        [
         "1",
         "823719",
         "2017-02-06 00:00:00",
         "2017-02-12 00:00:00",
         "186504119",
         "7",
         "0",
         "0",
         "0",
         "0",
         "0",
         "0",
         "186504119",
         "0",
         "0",
         "0",
         "0",
         "0",
         "0",
         "0",
         "0",
         "0",
         "0",
         "0",
         "0",
         "0",
         "0",
         "0",
         "0",
         "0",
         "0",
         "0",
         "0",
         "0",
         "0",
         "0",
         "0",
         "0",
         "0",
         "0",
         "0",
         "0",
         "0",
         "0",
         "0",
         "0",
         "0",
         "0",
         "0",
         "0",
         "0",
         "0",
         "0",
         "0",
         "0",
         "0",
         "0",
         "0",
         "0",
         "1"
        ],
        [
         "2",
         "986754",
         "2017-02-25 00:00:00",
         "2017-03-02 00:00:00",
         "1987903068",
         "6",
         "0",
         "0",
         "0",
         "0",
         "0",
         "0",
         "0",
         "0",
         "662634356",
         "1325268712",
         "0",
         "0",
         "0",
         "0",
         "0",
         "0",
         "0",
         "0",
         "0",
         "0",
         "0",
         "0",
         "0",
         "0",
         "0",
         "0",
         "0",
         "0",
         "0",
         "0",
         "0",
         "0",
         "0",
         "0",
         "0",
         "0",
         "0",
         "0",
         "0",
         "0",
         "0",
         "0",
         "0",
         "0",
         "0",
         "0",
         "0",
         "0",
         "0",
         "0",
         "0",
         "0",
         "0",
         "2"
        ],
        [
         "3",
         "2144261",
         "2017-03-21 00:00:00",
         "2017-03-21 00:00:00",
         "102565720",
         "1",
         "0",
         "0",
         "0",
         "0",
         "0",
         "0",
         "0",
         "0",
         "0",
         "0",
         "0",
         "0",
         "102565720",
         "0",
         "0",
         "0",
         "0",
         "0",
         "0",
         "0",
         "0",
         "0",
         "0",
         "0",
         "0",
         "0",
         "0",
         "0",
         "0",
         "0",
         "0",
         "0",
         "0",
         "0",
         "0",
         "0",
         "0",
         "0",
         "0",
         "0",
         "0",
         "0",
         "0",
         "0",
         "0",
         "0",
         "0",
         "0",
         "0",
         "0",
         "0",
         "0",
         "0",
         "1"
        ],
        [
         "4",
         "2441433",
         "2017-02-20 00:00:00",
         "2017-02-20 00:00:00",
         "349293774",
         "1",
         "0",
         "0",
         "0",
         "0",
         "0",
         "0",
         "0",
         "0",
         "349293774",
         "0",
         "0",
         "0",
         "0",
         "0",
         "0",
         "0",
         "0",
         "0",
         "0",
         "0",
         "0",
         "0",
         "0",
         "0",
         "0",
         "0",
         "0",
         "0",
         "0",
         "0",
         "0",
         "0",
         "0",
         "0",
         "0",
         "0",
         "0",
         "0",
         "0",
         "0",
         "0",
         "0",
         "0",
         "0",
         "0",
         "0",
         "0",
         "0",
         "0",
         "0",
         "0",
         "0",
         "0",
         "1"
        ]
       ],
       "shape": {
        "columns": 59,
        "rows": 5
       }
      },
      "text/html": [
       "<div>\n",
       "<style scoped>\n",
       "    .dataframe tbody tr th:only-of-type {\n",
       "        vertical-align: middle;\n",
       "    }\n",
       "\n",
       "    .dataframe tbody tr th {\n",
       "        vertical-align: top;\n",
       "    }\n",
       "\n",
       "    .dataframe thead th {\n",
       "        text-align: right;\n",
       "    }\n",
       "</style>\n",
       "<table border=\"1\" class=\"dataframe\">\n",
       "  <thead>\n",
       "    <tr style=\"text-align: right;\">\n",
       "      <th></th>\n",
       "      <th>Campaign_id</th>\n",
       "      <th>start_date</th>\n",
       "      <th>end_date</th>\n",
       "      <th>Impression</th>\n",
       "      <th>duration_days</th>\n",
       "      <th>CW0</th>\n",
       "      <th>CW1</th>\n",
       "      <th>CW2</th>\n",
       "      <th>CW3</th>\n",
       "      <th>CW4</th>\n",
       "      <th>...</th>\n",
       "      <th>CW44</th>\n",
       "      <th>CW45</th>\n",
       "      <th>CW46</th>\n",
       "      <th>CW47</th>\n",
       "      <th>CW48</th>\n",
       "      <th>CW49</th>\n",
       "      <th>CW50</th>\n",
       "      <th>CW51</th>\n",
       "      <th>CW52</th>\n",
       "      <th>total_weeks</th>\n",
       "    </tr>\n",
       "  </thead>\n",
       "  <tbody>\n",
       "    <tr>\n",
       "      <th>0</th>\n",
       "      <td>660202</td>\n",
       "      <td>2017-03-03</td>\n",
       "      <td>2017-03-09</td>\n",
       "      <td>1792172143</td>\n",
       "      <td>7</td>\n",
       "      <td>0</td>\n",
       "      <td>0</td>\n",
       "      <td>0</td>\n",
       "      <td>0</td>\n",
       "      <td>0</td>\n",
       "      <td>...</td>\n",
       "      <td>0</td>\n",
       "      <td>0</td>\n",
       "      <td>0</td>\n",
       "      <td>0</td>\n",
       "      <td>0</td>\n",
       "      <td>0</td>\n",
       "      <td>0</td>\n",
       "      <td>0</td>\n",
       "      <td>0</td>\n",
       "      <td>2</td>\n",
       "    </tr>\n",
       "    <tr>\n",
       "      <th>1</th>\n",
       "      <td>823719</td>\n",
       "      <td>2017-02-06</td>\n",
       "      <td>2017-02-12</td>\n",
       "      <td>186504119</td>\n",
       "      <td>7</td>\n",
       "      <td>0</td>\n",
       "      <td>0</td>\n",
       "      <td>0</td>\n",
       "      <td>0</td>\n",
       "      <td>0</td>\n",
       "      <td>...</td>\n",
       "      <td>0</td>\n",
       "      <td>0</td>\n",
       "      <td>0</td>\n",
       "      <td>0</td>\n",
       "      <td>0</td>\n",
       "      <td>0</td>\n",
       "      <td>0</td>\n",
       "      <td>0</td>\n",
       "      <td>0</td>\n",
       "      <td>1</td>\n",
       "    </tr>\n",
       "    <tr>\n",
       "      <th>2</th>\n",
       "      <td>986754</td>\n",
       "      <td>2017-02-25</td>\n",
       "      <td>2017-03-02</td>\n",
       "      <td>1987903068</td>\n",
       "      <td>6</td>\n",
       "      <td>0</td>\n",
       "      <td>0</td>\n",
       "      <td>0</td>\n",
       "      <td>0</td>\n",
       "      <td>0</td>\n",
       "      <td>...</td>\n",
       "      <td>0</td>\n",
       "      <td>0</td>\n",
       "      <td>0</td>\n",
       "      <td>0</td>\n",
       "      <td>0</td>\n",
       "      <td>0</td>\n",
       "      <td>0</td>\n",
       "      <td>0</td>\n",
       "      <td>0</td>\n",
       "      <td>2</td>\n",
       "    </tr>\n",
       "    <tr>\n",
       "      <th>3</th>\n",
       "      <td>2144261</td>\n",
       "      <td>2017-03-21</td>\n",
       "      <td>2017-03-21</td>\n",
       "      <td>102565720</td>\n",
       "      <td>1</td>\n",
       "      <td>0</td>\n",
       "      <td>0</td>\n",
       "      <td>0</td>\n",
       "      <td>0</td>\n",
       "      <td>0</td>\n",
       "      <td>...</td>\n",
       "      <td>0</td>\n",
       "      <td>0</td>\n",
       "      <td>0</td>\n",
       "      <td>0</td>\n",
       "      <td>0</td>\n",
       "      <td>0</td>\n",
       "      <td>0</td>\n",
       "      <td>0</td>\n",
       "      <td>0</td>\n",
       "      <td>1</td>\n",
       "    </tr>\n",
       "    <tr>\n",
       "      <th>4</th>\n",
       "      <td>2441433</td>\n",
       "      <td>2017-02-20</td>\n",
       "      <td>2017-02-20</td>\n",
       "      <td>349293774</td>\n",
       "      <td>1</td>\n",
       "      <td>0</td>\n",
       "      <td>0</td>\n",
       "      <td>0</td>\n",
       "      <td>0</td>\n",
       "      <td>0</td>\n",
       "      <td>...</td>\n",
       "      <td>0</td>\n",
       "      <td>0</td>\n",
       "      <td>0</td>\n",
       "      <td>0</td>\n",
       "      <td>0</td>\n",
       "      <td>0</td>\n",
       "      <td>0</td>\n",
       "      <td>0</td>\n",
       "      <td>0</td>\n",
       "      <td>1</td>\n",
       "    </tr>\n",
       "  </tbody>\n",
       "</table>\n",
       "<p>5 rows × 59 columns</p>\n",
       "</div>"
      ],
      "text/plain": [
       "   Campaign_id start_date   end_date  Impression  duration_days  CW0  CW1  \\\n",
       "0       660202 2017-03-03 2017-03-09  1792172143              7    0    0   \n",
       "1       823719 2017-02-06 2017-02-12   186504119              7    0    0   \n",
       "2       986754 2017-02-25 2017-03-02  1987903068              6    0    0   \n",
       "3      2144261 2017-03-21 2017-03-21   102565720              1    0    0   \n",
       "4      2441433 2017-02-20 2017-02-20   349293774              1    0    0   \n",
       "\n",
       "   CW2  CW3  CW4  ...  CW44  CW45  CW46  CW47  CW48  CW49  CW50  CW51  CW52  \\\n",
       "0    0    0    0  ...     0     0     0     0     0     0     0     0     0   \n",
       "1    0    0    0  ...     0     0     0     0     0     0     0     0     0   \n",
       "2    0    0    0  ...     0     0     0     0     0     0     0     0     0   \n",
       "3    0    0    0  ...     0     0     0     0     0     0     0     0     0   \n",
       "4    0    0    0  ...     0     0     0     0     0     0     0     0     0   \n",
       "\n",
       "   total_weeks  \n",
       "0            2  \n",
       "1            1  \n",
       "2            2  \n",
       "3            1  \n",
       "4            1  \n",
       "\n",
       "[5 rows x 59 columns]"
      ]
     },
     "execution_count": 241,
     "metadata": {},
     "output_type": "execute_result"
    }
   ],
   "source": [
    "meta_weekly_impressions.head()"
   ]
  },
  {
   "cell_type": "code",
   "execution_count": 242,
   "id": "a7dd30cb",
   "metadata": {},
   "outputs": [],
   "source": [
    "meta_weekly_impressions.to_csv('meta_weekly_impressions.csv', index=False)"
   ]
  }
 ],
 "metadata": {
  "kernelspec": {
   "display_name": "base",
   "language": "python",
   "name": "python3"
  },
  "language_info": {
   "codemirror_mode": {
    "name": "ipython",
    "version": 3
   },
   "file_extension": ".py",
   "mimetype": "text/x-python",
   "name": "python",
   "nbconvert_exporter": "python",
   "pygments_lexer": "ipython3",
   "version": "3.11.8"
  }
 },
 "nbformat": 4,
 "nbformat_minor": 5
}
